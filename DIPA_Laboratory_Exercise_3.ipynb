{
  "cells": [
    {
      "cell_type": "markdown",
      "metadata": {
        "id": "K8CHz_nTG3uH"
      },
      "source": [
        "University of Zagreb<br/>\n",
        "Faculty of Electrical Engineering and Computing<br/>\n",
        "Department of Electronic Systems and Information Processing\n",
        "\n",
        "Academic year 2023/2024\n",
        "\n",
        "## **3rd laboratory exercise: Image restoration/Feature extraction**\n",
        "\n",
        "*Digital Image Processing and Analysis*\n",
        "\n",
        "Date: 2024-05-08\n",
        "\n",
        "Please send any feedback (corrections, comments, suggestions etc.) regarding this document to ivana.matovinovic@fer.hr."
      ]
    },
    {
      "cell_type": "markdown",
      "metadata": {
        "id": "NvXXxLUeV5N2"
      },
      "source": [
        "© University of Zagreb Faculty of Electrical Engineering and Computing, 2024.\n",
        "\n",
        "Permission is granted to make and distribute copies of this instructions provided the copyright notice and this permission notice are preserved on all copies."
      ]
    },
    {
      "cell_type": "markdown",
      "metadata": {
        "id": "yIIo5ETOV5Sn"
      },
      "source": [
        "# Introduction\n",
        "\n",
        "Instructions for laboratory exercises for the course *Digital Image Processing and Analysis* are prepared in a form of a <a href=\"https://jupyter.org/\">Jupyter</a> notebooks.\n",
        "\n",
        "All problems in prepared notebook are intended to be completed in Python using <a href=\"https://colab.research.google.com\">Google Colaboratory</a> platform (Colab for short)."
      ]
    },
    {
      "cell_type": "markdown",
      "metadata": {
        "id": "WFDDKr2tV5XE"
      },
      "source": [
        "## How to Submit Your Laboratory Report\n",
        "\n",
        "Simply write-in your code to all empty code cells and write in your answers to the text cells with questions.\n",
        "\n",
        "Empty code cells contain the placeholder text `# Write-in your solution` while text cells where you have to write-in someting contain a bold uppercase text **WRITE YOUR ANSWER HERE**.\n",
        "\n",
        "Once you have completed all problems save this notebook locally in a file named DIPA_LAB_X_NAME_SURNAME.ipynb,\n",
        "where X is the exercise number, and submit it via Moodle under the appropriate upload section.\n",
        "\n",
        "Your submissions will be first automatically re-evaluated which corresponds to selecting the *Runtime/Restart and run all* command in Colab. Therefore, it is strongly suggested that you run this command yourself before submitting your notebook. Another thing to do before submission is to clear all the cell outputs by selecting *Edit/Clear all outputs*. This will reduce the size of .ipynb files for upload."
      ]
    },
    {
      "cell_type": "markdown",
      "metadata": {
        "id": "r9fEa93_V5bd"
      },
      "source": [
        "## Student Information\n",
        "\n",
        "Before proceeding double click on this text and then fill in your name:\n",
        "\n",
        "Name: **NAME & SURNAME**\n",
        "\n",
        "Student ID number (JMBAG): **0036XXXX**"
      ]
    },
    {
      "cell_type": "markdown",
      "metadata": {
        "id": "1sA_IY82V5gK"
      },
      "source": [
        "## Suggested Reading\n",
        "\n",
        "### General Reading\n",
        "\n",
        "If you are not familiar with Python then start with a Python tutorial such as e.g. an official one available at <a href=\"https://docs.python.org/3/tutorial/\">https://docs.python.org/3/tutorial/</a>.\n",
        "\n",
        "Jupyter notebooks are relying on <a href=\"https://ipython.org/\">IPython</a>, which is an interactive Python interpreter. Jupyter notebooks may be run locally or they may be conveniently executed remotely in Google Colaboratory via web browser.\n",
        "\n",
        "Readers familiar with Matlab who have only basic knowledge of Python are strongly encouraged to read the document <a href=\"https://numpy.org/doc/stable/user/numpy-for-matlab-users.html\">NumPy for Matlab users</a> before attempting to solve this laboratory exercise in Colab.\n",
        "\n",
        "### Image Processing in Python\n",
        "\n",
        "Some general image processing functions are available as a part of [`scipy.ndimage`](https://docs.scipy.org/doc/scipy/reference/ndimage.html). This basic functionality is extended by the [`scikit-image`](https://scikit-image.org/). We will also use [OpenCV](https://opencv.org/)."
      ]
    },
    {
      "cell_type": "markdown",
      "source": [
        "#Connect to Google Drive"
      ],
      "metadata": {
        "id": "gC_RKXjptwfV"
      }
    },
    {
      "cell_type": "code",
      "source": [
        "from google.colab import drive\n",
        "drive.mount('/content/drive')"
      ],
      "metadata": {
        "id": "nGNt_T8vtwp1"
      },
      "execution_count": null,
      "outputs": []
    },
    {
      "cell_type": "markdown",
      "metadata": {
        "id": "LMYkBjUJV5km"
      },
      "source": [
        "## Importing Required Functions\n",
        "\n",
        "To simplify the code in Python in this notebook we may deliberately import functions from <a href=\"https://www.scipy.org/\">SciPy</a>, <a href=\"https://numpy.org/\">NumPy</a> and <a href=\"https://matplotlib.org/\">Matplotlib</a> directly into the global namespace so e.g. we can write `fft` instead of `scipy.fft.fft`.\n",
        "\n",
        "Please keep in mind that such an approach may be tolerated for the purpose of a short laboratory exercise where risks of collisions and side effects are minimal. It is best always avoided in production code.\n",
        "\n",
        "If you prefer to use namespaces then feel free to change the import statements to retain strict package separation, e.g. `import numpy as np`."
      ]
    },
    {
      "cell_type": "code",
      "execution_count": null,
      "metadata": {
        "id": "7czyOpL0WI41"
      },
      "outputs": [],
      "source": [
        "# Import packages\n",
        "import cv2\n",
        "import skimage.io\n",
        "\n",
        "# To display images in browser\n",
        "from google.colab.patches import cv2_imshow\n",
        "\n",
        "# Import some functions to the global namespace for convenience\n",
        "from scipy.ndimage import *\n",
        "from scipy.fft import *\n",
        "from scipy.signal import *\n",
        "from scipy.stats import *\n",
        "from skimage.filters import *\n",
        "import numpy as np\n",
        "import matplotlib.pyplot as plt\n",
        "from matplotlib.image import *\n",
        "import skimage.util\n",
        "from mpl_toolkits import mplot3d"
      ]
    },
    {
      "cell_type": "markdown",
      "metadata": {
        "id": "AX4FUEJOV5o6"
      },
      "source": [
        "## Image loading\n",
        "\n",
        "We will be using images from the [USC-SIPI database](http://sipi.usc.edu/database/) and additional images available on the [DIPA class webpage](https://www.fer.unizg.hr/en/course/dipaa/files#%23!p_rep_146016!_-204158-187329). To load any of these images, all we have to do is copy the URL of the image and write the following two lines of code."
      ]
    },
    {
      "cell_type": "code",
      "execution_count": null,
      "metadata": {
        "id": "ED3Y2i7CWRM5"
      },
      "outputs": [],
      "source": [
        "url = \"http://sipi.usc.edu/database/preview/misc/5.3.02.png\"\n",
        "img = skimage.io.imread(url, plugin = 'pil')"
      ]
    },
    {
      "cell_type": "markdown",
      "metadata": {
        "id": "dGRcfvsCWVdq"
      },
      "source": [
        "## Image representations\n",
        "\n",
        "[Grayscale](https://en.wikipedia.org/wiki/Grayscale) images are composed of pixels representing a grayscale value. In a computer a 2D grayscale image is represented as an $M \\times N$ matrix of pixel values, which represent light intensity.\n",
        "\n",
        "It takes several such matrices for colored images - one for each color channel. There are several color models used for color image representation. For instance, an [RGB](https://en.wikipedia.org/wiki/RGB_color_model) image has three channels (for red, green and blue color) so an $M \\times N \\times 3$ matrix is used.   Color images can be converted to grayscale images, usually by calculating a weighted sum of the channels. The [cv2.cvtColor()](https://docs.opencv.org/3.4/d8/d01/group__imgproc__color__conversions.html#ga397ae87e1288a81d2363b61574eb8cab) function is used to convert images from one color space to another.\n",
        "\n",
        "These representations allow the use of common matrix operators for image processing and analysis."
      ]
    },
    {
      "cell_type": "code",
      "execution_count": null,
      "metadata": {
        "id": "AFYUN9DIWWBy"
      },
      "outputs": [],
      "source": [
        "url = \"http://sipi.usc.edu/database/download.php?vol=misc&img=4.2.07\"\n",
        "img = skimage.io.imread(url)\n",
        "img = cv2.cvtColor(img, cv2.COLOR_RGB2BGR) # openCV uses BGR (blue, green, red) representation\n",
        "cv2_imshow(img)\n",
        "gray_img = cv2.cvtColor(img, cv2.COLOR_BGR2GRAY)\n",
        "cv2_imshow(gray_img)"
      ]
    },
    {
      "cell_type": "markdown",
      "metadata": {
        "id": "F2fuP5YGWVop"
      },
      "source": [
        "# 5.1 Image acquisition systems\n",
        "\n",
        "Working with image acquisition systems (such as telescopes, cameras or medical imaging equipment), we\n",
        "will encounter terms such as point spread function (PSF) (or sometimes blur kernel) and optical transfer\n",
        "function (OTF). Point spread function is the system’s response to a point source of light, or in linear\n",
        "systems terminology, it is the impulse response ($h$) of a linear system, since the point source of light can be\n",
        "approximated by a delta function. Optical transfer function is the transfer function ($H$) of the acquisition system,\n",
        "and is defined as the Fourier transform of the point spread function.\n",
        "\n",
        "Let’s assume we’re observing a part of a night sky, which looks like the input image shown in the Fig.\n",
        "5.1. Also, we assume that our telescope (image acquisition device) is completely described with its transfer\n",
        "function, and that it does not add sensor noise or any other noise (such as atmospheric noise). If the point\n",
        "spread function is known, then the acquired image will look as the output image in the Fig. 5.1. You can\n",
        "notice that acquisition system changes the input image."
      ]
    },
    {
      "cell_type": "markdown",
      "metadata": {
        "id": "PtJ3HzL54xac"
      },
      "source": [
        "![5.1.png](data:image/png;base64,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)"
      ]
    },
    {
      "cell_type": "markdown",
      "metadata": {
        "id": "9FiKPFUY4zEF"
      },
      "source": [
        "As we’ve learned before, the system’s response (output) is obtained by convolution of the input image $I$\n",
        "with the imuplse response $h$ in the spatial domain, or by multiplication of the Fourier transform of the image\n",
        "and the transfer function in the frequency domain.\n",
        "\n",
        "If we only have the acquired image, and we want to restore the original (non-distorted) image\n",
        "should look like, we can perform deconvolution, ie. we can define an inverse filter which removes the\n",
        "image degradation effect of the acquisition system. Assuming that we know the OTF (or PSF) of the acquisition\n",
        "system ($H(k,l)$), and if it is a spatially invariant system, we can define the inverse system as:\n",
        "\\begin{equation}\n",
        "H_{i}(k, l)=\\frac{1}{H(k, l)} \\tag{5.1}\n",
        "\\end{equation}\n",
        "\n",
        "Pseudo-inverse system is defined as:\n",
        " \\begin{equation}\n",
        "H_{p i}(k, l)=\\left\\{\\begin{array}{ll}\n",
        "\\frac{1}{H(k, l)} & \\forall |H(k, l)|>K \\\\\n",
        "0 & \\forall |H(k, l)| \\leq K\n",
        "\\end{array}\\right. \\tag{5.2}\n",
        "\\end{equation}\n",
        "where K is an arbitrarily chosen constant.\n",
        "\n",
        "All details on these filters are explained further in this exercise."
      ]
    },
    {
      "cell_type": "markdown",
      "metadata": {
        "id": "u05QS_S_7eKs"
      },
      "source": [
        "## 5.1.1. Problems\n",
        "1. Write a function which will take a degraded image and the PSF (modeled as an impulse response of finite dimensions) as inputs and calculate the original image using the inverse and pseudoinverse filter. (Note: Mind the difference between the linear and circular convolution, as explained in previous exercises.)"
      ]
    },
    {
      "cell_type": "code",
      "execution_count": null,
      "metadata": {
        "id": "5otXPY3-4wax"
      },
      "outputs": [],
      "source": [
        "def restore(imgD, psf, filter='inverse'):\n",
        "    # Write-in your solution\n",
        "    # ...\n",
        "    # ...\n",
        "    return imgR"
      ]
    },
    {
      "cell_type": "markdown",
      "metadata": {
        "id": "4P5AuGrRtFVN"
      },
      "source": [
        "# 5.2  Image restoration\n",
        "The goal of image restoration is to obtain an image as similar as possible to the original image, from the degraded image and the knowledge of a degradation model. Unlike image enhancement, which is an ill-posed problem, image restoration is a well defined problem. Degradation is usually modeled as\n",
        "a complex system containing linear memory system and memoryless nonlinearity. Besides that, real-life systems always introduce the noise, which is usually modeled as additive noise. Neglecting the memoryless nonlinearity, the process of degradation and image restoration can be shown with the Fig. 5.2.\n",
        "\n",
        "\n"
      ]
    },
    {
      "cell_type": "markdown",
      "metadata": {
        "id": "KsaY8fD2-l41"
      },
      "source": [
        "![5.2.png](data:image/png;base64,iVBORw0KGgoAAAANSUhEUgAABHkAAADiCAYAAADaghtLAAAAAXNSR0IArs4c6QAAAARnQU1BAACxjwv8YQUAAAAJcEhZcwAAEnQAABJ0Ad5mH3gAAJQ8SURBVHhe7d0HYBzHeT78B7333nsnAZJg75RIFarLkmxZbnJLHCcu+Sdx4nxO5DhOsWPHttxtRZbVu0hJJMXeGwgQnei9dxyAQwe/eedwIAACLCIoAcfnJ58JYPe23O7tzrw7847VRQVERERERERERLSgWY//S0RERERERERECxiDPEREREREREREFoBBHiIiIiIiIiIiC8AgDxERERERERGRBWCQh4iIiIiIiIjIAjDIQ0RERERERERkARjkISIiIiIiIiKyAAzyEBERERERERFZAAZ5iIiIiIiIiIgsAIM8REREREREREQWgEEeIiIiIiIiIiILwCAPEREREREREZEFYJCHiIiIiIiIiMgCMMhDRERERERERGQBGOQhIiIiIiIiIrIADPIQEREREREREVkABnmIiIiIiIiIiCwAgzxERERERERERBaAQR4iIiIiIiIiIgvAIA8RERERERERkQVgkIeIiIiIiIiIyAIwyENEREREREREZAEY5CEiIiIiIiIisgAM8hARERERERERWQAGeYiIiIiIiIiILACDPEREREREREREFoBBHiIiIiIiIiIiC8AgDxERERERERGRBWCQh4iIiIiIiIjIAjDIQ0RERERERERkARjkISIiIiIiIiKyAAzyEBERERERERFZAAZ5iIiIiIiIiIgsgNVFZfxnIiIiIiIisiBjYxdRXteGosomtHT2YHh4FOYKoKO9LXw8XJAaF4TQQG/Y2tiMTyGihYoteYiIiIiIiCyUlRXg4eKAYF8X9Pb24fV9WXh2xym8tCsDRuMAAr1d4OrsAGuZcQGSNgtst0B0CYM8REREREREFsrKygq+Xq5YFBuKu9enYHhkDC0dvbC3s8Hq1Egsjg+Ft4crrK0XZtWwu7cPTa0dar9Gxv9CdGtjkIeIiIiIiMiCSQDHwcEeEUE+OrgjLV/8vdzgq16O6u8LNcAjTudUorSqHsPDDPIQCQZ5iIiIiIiIbgHSqsf8r52dDaytFnZ1sK2jG+8dK0Rzm0HnHiIiBnmIiIiIiIhuIebcO7Pn4JGWPtIyZnKum7GxMf26XqOjY2o547/MoW5DL57deQZn8qoxMMhWPERmNk8p4z8TERERERGRhRodHcWLuzPRYTAiIsgbt6+Mh7ur00QLH5ne2mHA0cwy1Da2ItDXExcvjiG3uAYfnChERn4VjMZ+3c3L3s5Wv0cCQfK+hpZOnM4pw8WxEbi6OKG9y4CDZwpwOKMUVfXNsLO1gquzkx7BS97T3NaNqoZWtZ52NDR3orunT2+LeYSvitpm1DS0oa65Q08HxuDs5KC7llWrv7+xLwtvHMzR+YVC/d3h5GCHts4e2FhdhJPjwu6CRnQjGOQhIiIiIiK6BcwW5BHV9S3YcTgPz7+XgT0nL8AaI4gO9cXbB3Pxxv4cnMqtwtmCGpwvroOrkx3CAn1gYw3kl9Zgx6F8vLArA4fOlSIy0B0Dg4N4ZsdZvK3+fiZf3lOPnNJG2NtAv8/O1gYDA0NoaevCmwdysPNoASrq25CeHKFH+hLdhj6U1bTiT++dxd7TxfB0tkFUmD/s7eyQkVOCyroWFFa2om9gGP6ejnCytUJ3Ty88XB3h5ekGGw4HT7cohjeJiIiIiIhuYdKSR1q+BPu4oqqhHeV1bSiqasN7R/J1d6u71ibiLx9Zi7gwf5TVtuOVD86jsaVDT7O3tYUVxpBT0oBSNS2nrBm7TxbBzsYad6xJwsqUMPQYh3Aqtxq/feMUSqubMTo2Bk8PV8RHBSPAx0Utsw0lNa0YGh4d3yIg0N8LaUnh6O0fRn55E1rau/X6REpcOB64bSmC/T1hY22FxAg/rFkWj3XpSQgJ8ptoDUR0K2KQh4iIiIiI6BYX4OuJdcviEB/hq5Myt3YNwN/bDXevX4T7NqXhng2peOLuZQjwcUNhZTMa27r0+yJDA3DnumS4uTjo4E1xTTuSooLw2XtX4fP3r8bfPL4Fj96+GG7O9iipacMHJwrQZeiDrY01vDxcERnoqUf8mk5G/Qr281Tb4K7nnSw4wBuRIX5wdrTXASo/T1dEBPvrbfFwW7jDwRPNBZ79REREREREt4yLlxIqT8q97GBvp3PpeLo5wcbKChGBbli1OArhQd5wcXbUQ7AnRwfAz8tVt7hp7eyDDGgl+W+C/b10FyxZ3KJoP6xdEoPY8AAdoImLCMBjd6QjPtwP1mqGE7lVOh+POYmzrY36o9XMmZn1KGC2V66y6n2RFU/aF6JbGYM8REREREREt5yLM8ZFrMeTMHu72cPdzWlKqxgHO1s4qpfMYRwYnhi23PweKytrhPm7w9XFcSKZs/wbHuKH9KQwnRy5sa0Hhp6+KUOez7QdRPThMMhDRERERER0CzEFYKwwY/sZPUn933iQZgr5szTHUdMkSDP1/Vbjb7v8fZIjJy7cD44OdjD09qOvf3CiNZH8/8zhpklm2hYz86QZd4bo1mOlvlz8OhARERFNMjwygvzSOhSU1eufaZ6SUuxV6oZ0a3G0t8PiuFCd0Nc8xDddMjQ0hO1/8zuU1bZi47JY/PDr9yI00GtKYOZff70Tbx7IxfY10fiHL90LXy/38SlAc1sH/u5/d+JMfjW+++RWPHLHcj0a1vDwsFrub1HT1Invf+V23HdbOlycHMffZXIqpwx/99MdaOnswa//4UFsXJmiu4jtPHAG//7sYQR4u+HX330cYWp7zKRL17f/5y18cOoC/ubhdHz2wU1wd3PR02Qo96/8+6s4q7ble1/YiIfvXK27mxHd6hjkISIiIpqmvqkF//vSEZRUtUyM5kLzj7QjsGKUhyaxtbXG4phAfPtzd8LH03X8r2T2cQZ5zuVX4Vv/8xZ6+wfx9N89gNVL4mBnd+1Bni/esxRfeXSzTtYsGOQhmhmDPERERETTXCitxHd+uVsnFo0McIOrk4zgMj6R5g025KHJmjuNaDcMINDbGb/4x0/r4bVpqo8zyLP/VCH+v1/vgpe7M378rfuQFB0CGxtrvHfoLH7wf4fg7uyIPz71WUQEeY+/Y2qQ5+HNqfj2Z2+Dn7ebnsYgD9HMGOQhoo9F/8Agcoqq0Nnde2mEB7IYnm4uSE2IhMukxIt04+S7Mjg0jO5eI3p0ToMBDAwOT3yH5LN2UYVtZwcHuLs6w0MVpCUPAo/B9SsoLsd3frkH7d1G/P0TGxAbEaQrIzS/MMhDk+0+lo09p8vh5myLX373CYT4X2oRQiY3O8hT1diBf/niZjy0baX6+9SAy+9fP4LfvHkS96xLxjc+vUUHa2S9B07m4Hu/3YeRkVG8+J9PIjbcX/3d9J7unj58/b9ex5m8aty3cRH+4QvbEOhr2p7+/n58TU07mV2Jb31qHT5z31p97yO61THIQ0Qfi/cOZ+KdQ3no6RvQhXRVS5Uaqp5GC5/kRPjUHWm4fW2a7m9PH87g4BA6u3tQ1dSFqoYOVNZ3oKvHiAFVSB8aGtG5YkZGxnSXFSHdVuzsbPQwtvZ2djrBZYC3uyrAeyI21AfBqmDs7emu5mGeiquZHOT59XceQmpiFGxsbManEtF89OKOw/jznhw4O9gwyDOLbkMfHvq7Z1BR14YVKRH48bceQESwz5Qgzz//4i28c7gAW1dE4btfuQ8Bvh7jU4Cm1nb8v//dibP5NfjO57bgk3evhJuL40SQp7y2DY9uTcXffm4rAnwuva+uqR3//Mv30NBqwPe/tl2tO1Lfr0R+STW+8aO30dBmwHefvA13rkvR5Qh5z7kL9XjzUC4uVDRjeXI4/vELtyFSba+bq7Ne59//bAf2ni7GxqXR+PYTm2BjbYOm9m4sTYxQ87BVD92abJ5Sxn8mIvrIvLn3LM4U1qPXOAQZmXNkbEznvRjha8G/Wrr60dZlRJivM5YkRTGgcJ2kaXqnoRdZhVW6efq+M8U4lFGCswU1KChrQEV9O5rbetBhMMLQOwiDcRA96nskL/m509CP5o4+VZDuQqWaV+YvqW7R7y2qatKF5pHREbg4OeikpGzlM7O29k7sPVOqhwi+b32SquR4TRlGmIjmn7ziKuSUNsPO1hrbN6TCnV13NHmmPzIyAqNxAIczS7Ff3VckL87wyChiQ73g6+GsPjNbXQ5rbuvCWwdyUN3UBStYY1FsMLzVdBtrKwwNDSPrQg32nCxCR7cRHm6OWBwbBDdnU7esF3Zl6MD4wNCoWqaTXq4MxNXSbsBLH2SivrUbj96ehg3pcXB2stfvEU4O9mq5tWqdnbq7V3lduw4ildS0IDrEF5UNHWho6Ub/4DBsbQAPVyfdCshW/dKglllYru5tzV2m+56aNzbUFyEB3vqBB9GtiC15iOhj8f1fvoEDmdWICXHH5x/YoJ/YsM29Zfjpn/ejrtWAx7Yk4KufvFMV5BzGp9DVdBl6cSqvEmfyqlBZ14bWzl70DQyrgvdFeLk7IdDHHeEBrvBxd4GXhwtcnJ10F6LJXx0JtBnGu3O1GfpQ09yjn5x29xh1gdhNFax9vVx1c/iNy6KRGheqm7cz2DOVtOT5h6d3o8PQj9985yEsZkseonlPt+TZnQNnR7bkmUweHtQ3t6O6rll306qoa8fQyAhsra0RG+arEx0nRofooE9ZVSMyi2rR3Tugy2bJ0YFIjg1BSKAPqtT7iyrkgUELBgZHdPAnLT5EP9DxcHPGPd/4HaobO3H/xiSEq/nlQYLcowaHRjA0PIy0hFAsSwyHp7qHWUv0Z5xUR8/kVuDtg9korGyFm4sD4sN81D0qDmmJofjtGydQXtOKxbEBWJ0ag+gwP/h6uupl1DZ34F31vsziBni5OWLT8jhsUO/zVNvD+xrdqhjkoQ+lf2AAp7PLVOWhW1VCejA8PKo7C1iri6mPqjwEeDpj5eIoBPh58wJLM9JBnqxqpMf74wffeBSu40+BaOH74r88i+Kadjy6OZ5BnmsghW/JOZB5oQYZBTXILa3XQRkpvAZ4uSAu3E8VsoMQ4OOuRxTxcXeCk6OdKnzbw1YVoOW6O9nFsYsYVIXp4eERGAeH0dHdh46uPlQ3daC4ugmlNR1o7+yFtSp464J9pD/WLYnRT2M93KTgzdYqgt21iBYedteamVT3eo0D6Ok1YmR0VP1hfMI4axsrnUtvTN0/DL39+r40Qd1jpIwm+d4M0l14Uh44IUEcLw832KplSJBHWuJ89wubsSw5GkOqfiDrk3l8PV0Q6Oupu3DPVDUYUves2sYONLUZYGNrDX9VnwhWx8/B3la3Qh0eGtG5eLw9XXWuOTPZlrZOA5rbe3ULrhB/T7WtzAdItzYGeehDkSaftY3taGzrxpv7s3Eos0znhQgN8MDffGojIoNNTwXkKTMvsjQTBnksF4M8106axmcUVOLIuVId3Glq78GAKshGBXtjw9IoLIoNQbCfJ/y83HTBWArK1xuEkcK6rKdvYBDtXb26SfuFsjoczqpCfWuXzokQ4ueB1LhgbFudiJTYUDZxVxjkIVp4GOT5+Fw2utaWdDg52usgjNQFruXeJfPqAJPMr17mOoQ56HSlZZirtKx3EKnvyvi/RNfF1tYWUWEBWLEoGltXJapKyRgMxiHEhPlhdVoMEqOD4eqyMJtJyk2iqLwOXd09EzcMIqK5Zujtw+v7zuGZt0/qvDt1zQY93O8X71+Jb356Cx6+PR2rFscgKtRfDwkruY0+TCsbeY+8V57Sxqjr9tolMfjEHcvxd5+/HY9tTUOInzuqGzuw91QRfv3qURw6U6C3jdc/IiL60FQVQO4/Ehy/1nuX1Btkfhs1/+Q6hLz/asuQ+RngITJhkIduiFQcokI8dTI2EezrAScHhwV9kZVWSq/uO88gDxHdFHJdkdwIr39wDm/sy0ZRVTNcnOzx6LY0fO2RdXjo9mVIT46An7e7zqEz1yS5pp+3h17HJ+9agb98ZD0e3LwYDg52KKhowvPvq+3am4X2zp6pTfaJiIhmIS1G5f4mr9ExVX5mEZroY8MgD90wu0lnka2t+mUBB9GlQnM8qxRHsiowODwy/lciorkxOjqK/NI6/O6N49hxpADNHQYkRwXiLz+xDo9sW4YVi6Lg7SHJJG/+7VmC8f4+Hli5KBqP370SX35wFWLD/VDV1Im3D+fh929JossmXXAnIiKazdDQCAorGnUyZkn+n1/Rhu7efj4sJfqYMMhDc+Ki/Kcu5LPFd2Ta4OCQHnrRTFrMSALn/oFBSKK3mcj7hoaGJp4my+8Dan55j7x/Lsk6zhfV4P92nkFbZ6/eJ7rJ5ObPj9kyybGlKfQ15kIV/rTzNI6dr0Bf/xA2pcfiyQfWYNPyBAT4eOpWNh81aZEZ5OeJrauS8ZefWI/liSFq2wZx4Gwx/vzeWZTXNN6SgR65n8k950r3NiKah3j7+Uh1G3pxJrcMmQVVSI70wdrFYbqMfia3HJV1Lern0fE5ieijYvOUMv4z0YfS2dWNV/flYGhkDCtTwvWoWpOz3vf1DyCzsAo7juTDwXoMAb6eaOvoxlsHc3HgTCnOFlTrCkSQr4d636W4Y2d3D87kV+JoZjnCAzx0/9wzOWV6OafzqvUQkO4udnrIRknOJkMzllY1IKeoChWqUlJR26STwHl5uunpMtLMqfMXUFLZoKaZpnu4OsLJ0VHfgI5lleAPb5/E2fxaPRJAuJ8L2ju7UdvYptbjCEfHhd0Nbb45crYQlY3dCPZ1wW2rUvQwm2QZdhzKRnt3P1KifJC+KFYHEW51EiiQVjHP7TyLrKI62Nvb4v6NyXh46zIkRQfp5JQf9+XF3t5OD9EeFuQJK1VJKqtrQ21zFzp7+pEYGQBXdR28la6BLe2d2He2TCfCvnd9krp3eX0kLayI6MPLK65CTlmzHmVp+4ZUVX5zGp9CN5OU4WQkrBWLIvVojUuSwhCqfpeRsJwcZDQtlp+JPkosrdAcufziPTo2hoNni/DzFw/hx88dxAvvZ6C8tgWncyvw69ePYd/pYhzNKsNr+87jZ2qeY3qErlF09fTh3SO5+OEze/GT5w/i7UM5aGzpVO8/i1++dhxvHszByx9k4o9vncIP/7gXJ7JKTcMzqsK3JBa9qE7r53edx09fPIbD59S08ScIMhyxPK1u7TDgV6+fxE9eOIraxlbdimhkdAR9ff3w93TRgSZphNDdO6ibmhrU3/VwkzT3eM+3XDy2U9Q3d6jrUgayiut1oOCT29J07p3Y8AA9atZ8IQG55JhQfPLO5bhrbaLe1pM5VXhlzzk0tXbO2urSUpkrJmwYQLSA8P7zkXJ0sEdYkA8SooKwKC4Ui+PDsCg2FDHq/ubl7sLgONHHgN86mhPm7lqTyT3Wy9UBwb7uKK5qRUtHL07k1SKjsAaxYb747Pbl+MpDqxDi64H8ska8vj8LQ8MSTLkIXw9H3b+3qLIFbV19OHiuHIUVTdiwJApP3pOO1NhA9fdeHM2q0MGftg6Dvon4+3piaXK07g8sQzi3dvZibHy7JFt/ZGigvgE1dhhxobodxgHpPnYR9nZ2WJkagwc2pcDNxUEHetJTIrF2WRJWpcXD092NTyFuBjk2rD1ZpmnXg1tZZ7cBbx44j9O51fpaefeaONy9bpF+6inB6flGtkkK7I9uXYY1iyN0S8v9Z4rx1sFs9PT1j89l+eSKz+5aRAsQbz9EdItjkIfmhBSApwdBJOiSFBOMu9Ylw8PdUXeZkkG4Ni6Lwz0bU7FlZQLuVBWdBzclwd7eBmfyqmEcHIKrkyOWJEZg8/I43e2rxziIzp5BfPKu5XokmEfvXI7/97mt2LYqXq0TOKXet+90iQ4QyTq9PVzg5SpdH6wuu89LoMfXyw1ODqbp5jnk75KANNDHTa9TpgV4u+qWP9K9TLox0M2gDuDU04YsBg+skLwE0lrxwNlSDAwNY+vKeDy8NV1dbzzn9dNNuQaGB/vicXXdXb0oFP3q2vzBySIcPFMAY//A+FyWzXz/mH5vIyIiIprPGOShOTJzIdjRwQFe7s5wc3GClbUVFkX5IiU6SP3NVQdOnBwdkBjlD0f1c0/fIAYHh3XARf7u6ykjzFjpfr7rUiOwNDEMPl7ucHdzxaLYEDx+93K1XEf09g/hZE4lBlQlREh5XFL7zFYu18Edeckv06NAfPrz0WLdyXLx2OquTdkXqrD/dDE6u/uwPDkMD96WpoMnNpPyj81XEoSKjwzEp7evQEy4n87N887hfJTWNN8yXVjNAR7eGogWEN5/iOgWxyAPfSTMXRLcXRx04GYyFydHU4XH6uKM+R4c7G0RFuiulnHpfVLwTo0P1clApSJS2diO4ZER9hAhonmjtaNLJ5iXrqpBfu54bNsyxIYF6NaCC4UE3ZNiQvHIbWk68F7Z0Ildx/LR3WPU3ZiIiIiIaH5hkIfmxEw5eaawUvPMMlmCPjp8I9OnPX2R98ifZurV4OxorypM/rCxskJ7d9/4EL+XVmJ+78z0FuPi+FPaCZN/nf3NNFfkIF06ZGRJrnQ9uAXIcOmS+P18SQPs7Gxw38YULIoLmVdJlq+VDOu+Ni0Gm5bF6GD7ydwq5BVX6xELLZncApiTh2gBYrmCiG5xDPLQnJAC8BXzFlwx4DLJtBvzld4jLXgCfTx0kEi6e01fv/w2+31epl7KyTMjFhI+Auo4XOkg0wJ2ax/YxpYOHMoo1d1Q02IDsTE9Hs6ODuNTFx53NxfcuyEFAT7u6OoZwO6TRTD0DegAiKUy79kV721ERAuQOYBNRJaJQR6aI9dQCL7aLDNNV38bG1M3I2mkMwOd1kIVwEP9PWFna0qYLHRCU/nxCjcwPef0ybzffbRmOuZkGW7hYzs6OoqjWeWobOjQQeh7NixCoO/8TrR8NXJtjQzxw7YVcboVZVZxAwrL6jAyYtm5ecz3FN4aiBYQli2uqL65A7957She2XMOXQbj+F+JyJIwyENzQnd9utITAXXDveoDA5k+7cYs75FcO1Jpmk7WJ920ZKb4cD/Y2V3qBuHoYPq5f2DItNxJLo6ZtlX+uywFEAsGHy05wNOPgYWRLi1GY/+M+aYsmhzbW5Qc7xM5lejrH0RipD9S4kJ1AvmFzk7tw22rEhDi5w6jurYeyy5Hr9pHSyW3A/PTbt4aLJcc36GhYX2tlp8XGukaOjg0hIGBAQwODk6UlyQAOzg4pKfPROaT+WebvqDdurefq5Jz/LS6P722Nwsv7T6H+pZOjFriOUB0i2OQh+aEFICv2KRd3XCvpZAsww1PJu8ZVgWVmUZyGVSFssLKRj16120r4+Bof6kS5e7ipIdsb2rv1fOZyc2toKJVV0ykLNfWMzwl0CP7IE/eh6RiPqgKfOpvEmSSIYMXYuFv/lNH+FpOjI9AZ1cP6ppaUdd45VdDczsMPX1XPR9ktLfiilr8accpfO/Xu9Da2XOLnUPz5MB+DIqqmlDd2AF7WxvctiIO7q7OV74+LiChgT5YmhACBzsb5JY1obm1YzwfmuUxf1tvxrGTz6yxpX3Ga4y8mlo60GXoRU+v8dYLEH/E6ps68Ls3juO5nWfQvsCu0719Rhw7V4zfv3ECP/y/vfivZ/fjrQPZ6j7VgR0Hs/GTFw4it7h2Sv4sCf4UVdThlQ/O4RcvH0WDquRbZKCHZiTXM+l2G+zniVB/D7g42VvM/YmILmGQh25YU4cqhI6XiToMl7dYGBkZMwVJ1M+thiGMTpveZxzCiCpgyF97pud4UPedvv4hnC9u0IEXMymQnM2vQEVdG7avTUBafKgeBcYsNjxAj9hVVNOOI5mlaG3rVIXmdrx3JA/5ZQ26+ik3tYyCGlVJaVfrNY0UY29nBycHO72Np/KqdQXmuHp/c2vnLVZB/4jMo3KFtExoaOnGziO5+O8/HcC//1EKzAfwuzdP4sXd5/DW/iw8914GfvP6CfyHKkw//dIBHDlXhG5VEZt+bnQZerD7WK6e90/vnsGu44XqO2C5LR5mdIuWGeXadK6gSrfiCfRxw9LEMHVduXmjacm519Pbh7b2TlVB7b7pT2SlNc/aJdFwdXZEc3sPLlQ16UC8pTJXfub66i8PLuT+dSK7DL989Rh++Mw+/EBdc378/EH8Sv0u152nVQX8P57Zi5889wFe3ZOBqvoWi/6sPy7nS+rw5sEcvLTnnDqnu1R5ZmHc61vauvD8e2dRVtuKmDBvRKgK+8mcSnXunFD3sP34/dsn8dre8ziTU4qB8YddTa1d2HEoW59bv3/rJPadLVHln349zaLcovefa5WWGIpvPbEZX3t0g6krMYM8RBaHQR76UKQi09ndiwvltXj3WMFEwTOzqBbHs0pQ19Smmz93dPWoQmw5Og39ujJyIrcWFbXNOugzNDyMxpZOHMqsUL9Li5qLOJpVqv7WpZ9ymotZksdi18li7Dmeh9rGNp3Q9Oi5C/jzuxnYsCQSj92xDO6uTqowPv4GZXlKFKJDfNHWbcRv3ziBf1cF6O//4QNU1zdjcaw/nBzs9XyncitxMKMMhl61fep3D3dXpCcEw9bGGq/vz8W//f4DFFY0wllVaPikw7J5e7ohKiwA8RH+KKhoxqFz5frf5OggrFsSi/XpCVi/NBbpSaFwd7bHruMX8JPnD+HpV4+iRp2Xk4ObEixMiApCiCp0d/UOqAodn5LeKgy9fSiublPXxDEkRPgiwMcDNjcxF4+0fnz3bD1+u6ccf9hboa55pmvtzRSlrq2hAV76Op1dMjUAT9fG1tYGMeGBSEuIgL2NacSyg+fKYKfuPalxwfo6kxTlB3cXO+w5VYTfvHFcV9wz88s/1lHN5NyS471QAiFmElSbqdu3kOt0YmSA+txD4eqiyhLjf5/PpDXOq/uycCqnAoviQ7F5eQIe3roM965PRHdPv7p/lcLL3QXx4f4ID/bVOQuFdGWPDvVV558tWnRL55nPpYV6nOnauKnzPD05Qo/4aE5vQESWxeYpZfxnomsmFYvqhja0dhh0jpukqAAsV4XShAg/eLg4qgLCGDxcndDQ3In27l4E+7qrQmsIYkJ8VAXZAc5ODqogdVEvQ54wxYX56EKtPPl2tLfRFe76li68d6xAFboc8Inb0tR6RlBR24LCiib0DwwgKtQf929ORbQMoz6pFY+Q98g6rTGKXuMw/L0ckRIThNtWJyJMFejyypuxMS0S925ejMWqgBTo6wF7WztdEJLKi5uTLbzdHREb5octK9V7An10yyCaO0fOFqKyoQvBPq7quKR87DlL5Ni7qPPSTZ07e08Vo7HdgBB1XnztsfVIjglGSIA3wgI8ERnsg7jwAHUO2+P4+UrkljairbMPaXFBcBkPBkoFzs/LDSNDgzigKm5SkP7svSvh6W453XauRJ4Ut3cZkRLli/RFsbr1x62ivKYR7x4tRHffAB65PQ1JMSGwnXZ9mkvDw8N4/UQd8qoNqG8fxObF/vB0vblBaQmCS2CzpLoFXapCeceaJN2yx9JObWkdtfdMKYwDw7hvfRICfL3mLHm2PDmXz8zH0xUGgwHHc6r1ej67fRnuXLcI8ZGBiAn1Q0KkutY4OiCjsAYXKprRoO6L8eo+6+Pl+rEk8h4YGNKjxvl7ucBhhlEt5yMJWBzPKlPnrSobODvpLtmTebo5qc80AKtTI/X93852/l+vyqqb8fQrx1Q5xQEP3b4MXh6ucFLnSXiglyp7OWBxbCA+sXUpNi6P12Uc871JHkD4q3KWXJ8zCqp1Bf/eDcnwVferycdyYGAQh9W9y89z4Rxns7ziKuSUNqvjaI3tG1J19/2FqqiqFXvPN2B4dFSVnVUZVV175+pYyPdgIR1XIro+rLXShyJBlSA/LyTFhuKB25biyQfW4osPrsNn7lmFVakxiA4L0AWOIFUxXrk4Gp+/f42e/tid6UiMDoaHm4ua7oiIED/cpQq0Xxh//1ZV2Y8I8VeVQlOlSG4/kvth/ZIIbF6ZhOWLYvTyNqQn4YHNabpbljyRmk4KaRvS4/D1T23BP37xDnz1kY1q3ctVQS4IXp7u+ItH1uPLn1iP+zam6pYaLk6mCooUmqVw/bn71qjK/SY8vn0lktR0qbTTtZFEjsdzq1Fc3arz0lyZ+tDnWRlDzh15yQD7UgiSAq65MiXnvbM6V8KCfPDgllRsSY/W3bD2ni7G2YKqiRZtUnCSl5Ojeq8uRM2znfxIWNY+S26u0/m1OkDcr87r2Z5vVzd1w9A3qIOWMeH+N/3aIQ/ah3VLMSv91P0m99bS5JqbGOGrKoi26Og2qgpjj1r3wmqtJq1RC6ta1PFsQq9x5pxr5r/czIqQLNvd1VE/RJBrjgSapUIu909pVSI5kB7ckob1qRF6/jMFtTh4thT9A5dyzX1U5DMqqmzE0cyyBdX9VM7PD04WzZpvRz5rKQdIK0653i8EhWW1aOno0S0yzK10RKCfJx6+fRmeUGWx5SkRWJYYplv0mLvjyD1Ngs6erk6ztjA0HecmHMsqVd+NW6yb8TzjZG+Nzp4BvHe2Du+frkRdS7e+F90oOcbSIlBa209f3tRppjKNXC+HhoZ093Qp101uuSzzS8uyPmM/evv6dCv+mb5nwpTse0jdN3p0N0H5ebYWdpPJPLLc7p4+tY5+vS2yTVdjfl+XoU/3IFioydWJPgwGeehDkUqvPDny9/aAv8/kl6f+19fLHfaqsOQt80yb7qf+lYKsTJf5pk6X97rpQogukoz/n72dtW5JkRwbirTEcB0cctNdtGYvfEslS1r5rFgUgdjwQHi6uej57e3tsTQhVC9PWhhMX4b8LtsREewHH0+3iQo+XRu5fUqXkTdO1OL141WoaezQBYAZzX74PlZySshLFwVmKQ/I+bRqUbg+zySXVOaF+pm7rUw7v24ZFrjbzYZB7DhdhzePV6O0tu2yhPBSeKxtMeiCsbTQ8HR1/uhyHXyEn7dcI4P9PXWFWMr6za2mLrYLTU/fED7IasILhypRWtOKweHLAyfm+8Msl4E5IefIpdPk8jV5e7ggPTlMB9UGh0dxvqT+YwnyNLd346U9maqiqY73AqkoSYX0jX3nkVfWMF5hnXm7P6qv6VyQ60yluq/K/ujg4KSNl5+91PkiZRddjpptv9QEmTbTZDnOL+/JQk2zOs4fRdT4ZlhAx/NKgv08cM+qSKyI9UJd2wBePFKFvZkNaOvsvaYgx0y6untwJqccv3j5MH7y/EE0tRkmAh8dXQacOF+Gn790SOcGa+3o0X97/2gOnvrtLvz9z3bof49llsDYP6TfV93QimfeOYl/evpd/L+fvoMfP7cfhWV1U4JHsq1Vdc14/r0zePrlI+rfDPzoT/vxr795H69+cB4t7YYpgaPJWju68caB83hhVwb2nsjHsztO4X/Udr91IEe32pIBLuTV0tY5ETCS7aqqb8Wre7N0jqqfqvm/9+v38LMXD+H8hapreABJtPCx9krzmtx35OYgXcKELpTMWmqZ2fT55XcGbm4eaQ6+PDEYS6M90NhmxKvHarA/qxatqlByWYFRDvDM9/WPjflskUKC/nmW003OI1fpdqimy371qgLP1UbBkWVKV0NDTy8Mhh79ktFRzAUs0ad+NxguTZdm85Ony8/y9Ku2qQOt7T163fKEqqKuFR2d3bMH1D5qk7bZEkiFKT0+AKsSfNHU0Yu3TtZi97laVSEyTAR7ZJelwCwBj0AfVx3IvukunbBTzpObzcfTXY8eJutsUYXwhRbkke+vdBNeleCD0ZFh7DhTj/dPV6GhVX2Hxo+nfLSyf/Ka5TIwx+T4Xb4m2VYZEEBa+si2DAxePVeKPLGWhNwtrR1obG5Dt7qW6KfY49PNZHlyTepUFbn2ji79pF6uJ+2dBj0st0yX65q0hvnz+2dx6FwZeoyD6O8f1PPJ9Wn6dU9vo/p7V7dpmfLqVdsy27VJ7vFyHaxv7tSBcjmXutU1skttk1zrZHlm8rPR2K+2t9u07M4ufT2dadnSsmDX8XxVQcxBW1evHsRBtrlfvSafr/ozUH+rbWzXlb9Jq5ug19t/ab1yre0zGmcNgsjyZXS0prYunZPNtI7BiffLtl1vJV3ml2MlI641tvXpIM/Q8KjeJ9m2/mn3CulW39LerVtNTF+X6dxWL9OvmhzHNnXcn1eV6UOZ6jj3qc9KLVMfZ/W5TD/OenvUNDnOtaqiL/sl807eBiHvk/nqmzvGlzOmz035LKbf3+bMTVjkx0EeREYGuGHj4mDctSIUEX7OyKlsx+vHKpFxoRGGvuvLwSYpD947mqsDHzJ8+rHzFXqQAFlGUWUD3j2Si9/raZk6T1hlfRve2n8emQXV6DcO6CTf7x7Nx29eP46CslqcK6zSQdRi9V45L6X7+hv7s/HHd06pc797Ytvyyurx69eOI6uwBpHBnjponRoXqJf/7M5TeOfgeb0vk8l7JQfnH946iWNZ5TrglRwbogcz6O4x4k87T+O//ySJ6o+reU7j+HlTC0f57p3Nq8Q7B7JxUV3LEyP8sCIlHLbWNnrbf/7SEZzJLWOghywec/LQvFWhbia7TxTCytoKD2xKgZ+3hy7s0vwmx8jN2R6hvs4I9HbWN9Lcqm4U1RkgsTVfN3vdvFzn5GnsRrCvC25b9fHn5DGTSsW7RwtUIdoAfy9X3L95sW55Nv3ckwL0nhP5OJNfq36zwn0bkrAsKWJK0/n65nadNFwqZZ+9d4XOU1VY0YwTORV450geDmaUolwVulITwibed0YVTg6rAvbOI/m6oD06ehERIT46yNCnKlcFZTV62mt7s3S3RjdnB7y8J1O/zqkCVIDaZj+fj7cFms7J092PlCgfi8nJo89rJ3t1vjojwNMJVhdHkFXRhZJ6A8ZGR+DnYer+8K46rpJPLD48AOuXxuiuIDfzsjWiKsWH8lrQ2WNq2XHH0iB4u93cnDzCVu3rrmP5qiJryr20OF6d+wvoOMvnI4GTQC9nhPq56opBSX0v8qq7MKR+9lPXqW5Ved13VlUGhkZw7xzn5JlMnnDvzyiDcWAEd61NQIx0Q1bfdzOpFO9V98KMwlp13RnD2iVR2Lw8Xm//TDq7+9S1qUBV0ipxJKtMD45wpqAG3b39CB1vgSX7L5WoqroW7Dicj+LqZhRVtajrWbUekOC4qvzFBHvBw90FpdWN+L93TuvrYltXH2T0Sck5lV1cj+rGDp0HxsnRNAyzLDP7QjV2qmWeVcvKLqrH7pOF6tpUq95rRIifu84DY55Xggqnskvx1sFcZBbV6bx+BapC+H/vnMGeU4XqvB5UlUJvtc22kPxTZ/Kr8LbMe6EGJTWteP94IU7mmJ7MB/m66/uILFuCVX9696xuJVBZ364DIv3qOMr1V5KFh6h53Vwc9aALGXnl+jOQ625SpP/4QA6Xvj/S3SMjv0LPk1VUq4/D7pMX1L6Zko77e7tOrFeOVV1jm6o8l+D1fdmobepEUlQg6po68MoHWXhVVYg/OFWEYvVZB/m6wcPN+ZrPqcbWLrysKt9HVYX3rDqeciwkuNXS2as+jzrkl9cjITIQNjZWqKhpUudAIV5XFXQneyvd7W/yvalErf9wVqnebnNOntLqJvxph+k4y0MZCSR29w4gp0Qd54YOhAV4TDnOmQWV2HOySB/bXccL9P2sWB0TyWcoXcRkvk5DH87lmz7f49mViA31QZWq2D/33lnsVBXu5vY+RAR5wXl8uXNBWnfkVXXCyt5F5/yTVi9yHBbyq6ndAKPRiLGRQXT2DiOnqgelDb1oMwzCxcEK7i4O15TgX7rVSo6v0vHvu1wLHlBlHGn5Jcdbuv8VlDeo71abnt/X0xUx6pilJ0dizZIYRKljdaGyWbdkle+cfCcluffaJbFYtzRWfb89dP6wmqYuLIkL0OedbNdv3jimcx1uXBapylRLdA4sSQDe1d2rykOVaFXn8trUKHXeXMpbKN+7F97PwI6jedi4NBp3r09BeJAPQgM81bXPFocySlBU3YrUuBCsVu+Vc9/P212V3Trx7M7TiAj0xJaVCborpnSdjlTlqGx1Lp8vrlPlkz6kJ4Xp799cnXdE8w2DPDTvSE6Xzu4e7JM8J+pmIU+qolUhL9jfQ9+QbuZINfOJFBYb9BPYPhh6Ftir16ifANpZjcLV/iJsrC6ipHEAuZVdqGvrhauDtS4017UY5l2QRwouUsiVQpWvBHk2LYaL89Qgj8xz9HwZXtiVieaOXixJCMEX7lulKoEeU7rnTA/ymBIvW+vR3WRUlP2qUNxr7Me9G1MnRriQt0sB5mVVOTmnCu7BapmSW0HO+2PnilRBuQJvHspDXlmjHuWotKZF/5ytKkhS8FoUE6gLO5MriR81CfJ09o3oCmV4oId+ujvjeXKVl/S/n+nvH9tLndeyL7ZyXjtcVMfaGhWtqrKrzuuG9n44WA2rCliZrnwlxQRg9eKoieN6s0iwUQd5ek0tED6qII/kp3r/WB46eobUcfZQ56KPKpSPoM84sKBeg4PD6nhehLuTFZztrVHfNYTz5Z2oaupFV+8gzqtKvVQ27vlIgjzDuGtt/JQgj1Smz+bX6O4z9a3diAzyxJP3r0RMmMxz+bbUNLTjxV0ZsFWTEqOCdKXIU5LJny5R15Ma/dQ+QVWwJEAkT8n/tPOMqhi56CfkIQFe8PFwRpGqxEnA47blsbrrsrTEcFDXJBkls7a5S1X8XPTnERfhryr+3ghSx1/ymElLIXkw88b+8zrgsjg+BBHBvuo66qyud1U4fr5ct6iJDvHWSaeLKxtxJrcUr+3PwZGsSh0wcVGV/czCSlXxq0ZOSQOM6vhsWBqlk+e+cyhHd/PwUhWzFYsi1Wfgp5/OHzhbgoyCGt16TvZX8mCZW/862NvoURIlwHHXmgSkqm0KV/sZFuStK/9n1fpf35+NA+rzl4rmHavjdcDD/P2RFjcyDPmekxeQqPY3KSZYr8NZfR5HMstxOr9Kt3iJC/fTgaisC9U4KQGe/bk4qfZBvv8Odva6QirBXxlVNL+8WV+zjer8S0sI1ZXua/m6qiKBOv+sdMVbrvXyICI+zAfbVifpCrNcbyWpcmZBFQ5nFOHtQ/nqmNeqynagquiGTLnHSpDpaGap2rZLQR4pcziqfejqGdCBBR8PF2xXx1lyFYWpz0xaUkggV74zEswuKK/X96DoUH8E+bmhqqFDnzdFlS26zNarPhf5fN86lKuOUZlero+6B2YUVOJMXg0yi+rRoc6ptanh8PaQBxNzc83SQZ7qLly0c4Wro61eR3NH34J/tXQaYegbwtCoFZoMI2jsGlD32WH4uFgj1NdVH8urXfel7BHg4472zm6cK6zT35UHVBlHuhe7qnKOTGtQ14XzxfV63gc3L9bBHRmhTc4RCUxKoLSirk235HxgSxpWLY7WeQplJEkZnEJGdpNzPS3GD4nqvJNz5uXd59Ryu/HgphQkx6hzUZXl5e/Sgu9IVoW+9t22ItZUhhq/xja2duKXrx1X1x0jPnXHEsRGqHKNWqdMd3Wy0+WjGnWeJkb64ZFty9S1xvTdf2nXOWQX1+Lh25cgLNBLPyiWpl3S8lquX/nqu1fd2KW2OwKh6vo103WUyBJYqQKEhTRqJEvRpC7sxVXNyFSFE3kaIE8XElQBKk0VzmSUiOlP2SxVf38/frkzH/2D86T7zYckFxhpjVLXNaKfOjmo2kdalAcuXChGdW0jViT64wffeFQX+ucDaWL/1R+8qp/YSqH2rx9bpyozfrBRFfpeVUGS0YRKatr1E3IZXWiJKqR/4b4V2LAs/rIK/dmcYnz9xzvQ1d2Pvb/5K0SqArG0+pHR537/2gH8/LVT+mn5C//xJR0AEnJJltZEn//XF1Vlpwafv3c1vvWZLerzsdd9zGsa2/HPv9qlKnwGrFoUoQvoEWq5F8rqdSJOSdIqIzp9nKPBffFfnkVVpxVCgvwRFeypW318GBfVf9JFZT6S83pEVboa1Xnd0j0IRztrxAQ4olCd121t7bh/czK+9ujmORnZRc4JqYDNRLpBfP/VQpQ3So6Gi/ivLyxBTJD7jBUmuW7OZZDi6z98ERcahxAeGqADBwu9sCxxgdaeYVQ19+rf3RysUF1VhYGeDvzqHx5AamKUDm7NtcOnc/GdX+1Bm6rE/eRb92LbukWqwmanA8AyAtKre7N1q5gAb1d1PViOezelzfgEWpIhS9cG6Qrz2B3L9AiUch3oHxjCs28fxzPvZuhr1A/+8m5sSE/Ae9I14+2T+M+/vhep6t4q+ybdjwpK6/C93+xW892JRfHhaj3W+vz79WvH8Ac1v4w6+b//7wFdQZLzSbZDXjkXKvHDZw8ixMcVf/WpTYgK8dPTJRC572QBfvzCId2t9a8+sQaP3bVSB5w6unrxmzdO6OT1Ad5uuH15NNYtjYZBAmzFder64YMHb1uig9x/8cNXUFjeiP9Q23vbqiS9L9IS599//x7eP16MBzYm4R++dLduRWL6zpham/zNj95S2wf879/ej2XJUTpxuHw/unqMaOsw6BY/7xzO00H93/7TI0iICtbbLcvYezIPv3rtJFYmheCLD6/XFVnZVwn2vrEvE79586Se96mv3oGN6Yl6NFEpw/z0hSO6hUuMKrvcobY1PtwHIaoCLMGmA6eL8MyOM3okx5///cNISwjXldOrMe+TBIr+v1+9r1vP3LM+Ad958i6dt0nuLdJSo6GlU4++9e//tx/VDZ343pe2qM97tU7obbZT7e+//X6Xvu/+5p8+ofdZ9ktymkhXnD+q4yyBo598+0GEB009zqdzKnTLrke3pWF1WrRu6Srnx4WKBnzn5ztRXt+BR1QF+4m709X7oM7f83h9f45udbpJHdvNy2N0azAJoEoLEqmMSzBRlj0XXtxxGM/vLYCDgwP+7nO3w08dV4ugrk/SXS+70oBTpV1wsrfBmgRvLI/3RZi/uw7yXKtdR7Lw/T/s19+FZ/7lcT3giPme8fKuk/jJC0fh4+GKp7/ziB7gxDxNArn//af9ePWDTKTGBeFH334YIf6eepqQ7/qTT72I07lV+NtPrcIT92+Em6szdh/L1d31bl+ZqHNqyvkk5/Guo3n4z2cP6N9/9ncPID0lSgeMxdnccnz7p+/o4O9Pv30fVqXFQdIBCHkY/NTv9mDnkTwsiQ/Cj7/9CZ0nTq51T/7rC2hs7cbWVYnwcJ1arpTg6ll1TTWq+b735a14eGv6vCl7Es01tuShecdKXeyli0NsuD9WqkrsysWRqpIdoAoB7rrCdC2FIUsgBR57ewdEBnogWlWUF/LL180Bg8MX0dE3jFAfZ6xL8kVDQ6NuLTNfW/LIU1I5Bt6udhgc6NdPlXLKmlXBtA7Hzlfqvun+qlKyfU0iNi2L0SPGTS+kztySx1RQvlBWixO5NfByc9SjoZgDRDJNCvPSDUGeOi1RlS9piixPiaXy4unqgP1nS3UT/ZgQX3zh/tVIjgnSFa/FcSEICzQlFP84SUuetm4jFoV74PYV8Tr3yUznxdVeUcFeM/59vrwCPB0wNDKKjp4RhPk4ID3WB2VVdbrFT2yYL1aoAqvjHOTlqahvx+6sRmSUtuN8RceUV7Z0GWswYGDIFAyWrkUX6gzq79Pn60TPwDD8PR11RXMuvHs4By1dRt0yY4WqBIf4uSLAy3nBvrzcnfR1qtUwAAf1GQW6XkRjU4uq2AzinnWJN70ljwSRx1RNrqKuHftOX8A7h/J0dxhVl8Nda5Pw2B3p2Jgep64jl19rxKncCvz53QzcrbZVWvEIGXpZWFtdxOm8ajS0GuDpYocVi6L0dU4q2slRfogJ89cVKNk/b3WdalDXv9TYAHh5uI0HjK10d9CsC1Ixd8H2dSl6O8yVf7lu/vKVY7ql4ZceXI2lSRG65a1Mk+BRoLp/1zZ3Ire0QV1be7AswdTKR+7rNY2derkSoHj8rnRsSFfXDHXPT4oOxKK4UB3Qksrb8+9n6BY6n7lnhR5FStYt10XpmpRZ3AAXR1tsW50y0b1WKqaSF+R96fat/pNjKAMuSBlCpst308fLTbe8O6UqpbKsycOJS1fEH/35AGobu/Dlh9eoinCQ/u7INGmJEOTrgZySOj2SZE/voNqnYN09xU/dF3JL6nV3siAfNzx+93JdlpFrs3Qn8fNywXvq+i4tTNYsCkVkqN81lWvM+6RuDzh0tkQtv0V3b9uYnqD3WaZJMMxT3YukFY50KWvp6MXGpZFIiQ29rCXPkcxS/TfzPpvP7czCWv2QTQJHd69L1vcd83GWEZF++/pxjIyNYfv6ZB24kXNM8g65qcqyBOake5w8cNi+LkG35OjuGdBdB6VV9v2bFmHrmhTdXScxMlDfs7w9Xee0hbZpCPVG9b0ZwxPbV6rrk49ufbaQX9IFXs6XM6XdaOoeQlqkG7YuDcWKeD8EqvPteq/p5bXSWq9cH1dzSx45viK/tFZ9H6p1y5d7NizS54F5mjx4kQCOtIYJ9nXDHWvUOeByKUgiQUjJeyPf9dUpoUhNjNDfM3lglhgVqIN6bZ09OJFdqVvgSdCluLpFb/9daxMR7O81cS5Ifrs9p4rUOTeou2tFTfqeSBnphLrWSNcxuf/cvipRB2ua27p0q0fp/rdxWTRC/D3U9jtPvKJDfdR3MVxNi9G5fSRo+3E+ECO6mXhm07wjhZXQAC/dFFsCPXHqJT8Hq0KdFMJuFfKEZVWiP9alBC7I19rkACyP9YargxUaOo1qj8Zw3/JAfPb2KGxKC4a3qxQaTfs6X3mqyoU8MV67LFG/7lybgodvX4onH1iJNakR+gnTPlVQeWbHaVTWNumnmXNlto9GCkBSMJfp0oxeKinStUNGu5MC0keS7PcajA71I8B1DKtv4BxeP8Pf5sMrPc4HXq62qGsf0K157lrqgye2ROGO9FD1d8ktAQwOjaoK6Y2fD9KSMbOsAweym9Wr6bLXkfwWGPpkyFrT/BmlHTiYc/l8B7IbcSSvWbd8kALyjZIWHwOq0jYy2Icobyt1rAKwaXHQgnxtUNseG+yqn+529w0hNcIDn94cga2LfWBvNSw1ivG9vsnUiSOtdeJCveHmaKNb8UjXKcnldZ+qHG9YFqu/5+YK13Qncyp0NwnJEybBnj++fQp/fMv02nemTL3PWj/ZbmiTYZCHdcVKKt4vqUrRzkM5uvuW5Hixs7PDg5tTryuoVVknrW/r9HLjIgJ1gGcyGQ3zjtUSjLDX+T4kYDQwZMojJX+TAIVUJiU45eTgoB/0hAX66MqnVMJcVUXyLz6xBt/+zCbdXUq6xUo+kAa1v61dRl25lLw7Ugm9VubP0dnBbko3W7Pc4hrd9cjJwVp3R5lekZYA1YalMbpCebagVnedlaTdNtY2uguWLNPfywUxob66FY2sT1YjLQ5kWaMXx9A/ODWx9FyRe4SuLM98qnxoDU1tqmJerxPOS+ucP759euIc+9POszoQ4a7OMbk3Svc+abHjLMdX7bj8fVFssO7+7OBgj+AAU9Dr4+xaPN9Jy6qa5m68d6YGO8/U6yD+6kQfbFsWhiXR6j7kJrng5vgg3wTOqlwvp/kHJwvw0u4M1DS2ITrYC8nRAbOW6yVFQ3iQlw4gZhU16C5dZnKd6e7pV98ja/0gTHJFifYug25t5GBvjVWLI7FlZfyU113rknXLsUe2LdXXmusNjhEtJAzyENGck0JrZUMn3jpVg7dP1UEaGWxJDcRdK8KxOMrH9KR1rkufN4FUPhJUQSAuMhjxUcFITw7HxvRYHej59hO3YfWicP0k6c0DufjN6yd014ObUWCfjfShn6FuQjeJBPGkK8SOk9V447jkCxvGxpQA3L0iQp3XfnBXFVF5SYVGRvKRZL43ej7I4ZXWQpI0VlrrzPRS9agJg8NjM86j3z+oKsFzdHpK1yDTkNSAu7O9KmTb6dZoC+0lldGssha8eaIWlU29WB7jgYfXRWDjoiAE+Th/pBUoa3W0U2ODsHlFAh7fvhJrVCXFXlWAcsuaUFghAYQrBw3La1t1kEZa9UlOKKlAmV9S4fnrT27AP3/pDnzqruU66LB+SZR+wn6hqhW/U5X0//i/fZAuXK0dBkSF+sDV5dqSkso5nlPcpCr4RtiqSpcOcEz73GQ5SepaKhU6OW8uVLao89E0xLJ5HZKPx95W8oroX6eQoMXd61J0/jLJWVZUXqeTssowytXNBh1MmEsSxJRgmYzWI60oHO0vTwwsv0uXFRnaXrqeldW166CZzGYOGumWB9P2x9SSaPyX6whKzQet7V3o7RvUrUskR9Hkc0xej9+1DP/45Fb80xe3ISrMXweazJ+bfIaS82f650izq6jvUPeaKpQ3GZASIcOph2NtcqAOHi6kFigyqtfv3jihW+ZEBHvrhMiblscjMdJf5/aZibQue3TrEn2NOpxVrhNCD6r7mAR0JU+ZdJdfnxaprpdx+tohxkYlzHtR5/6Sb5ajg9ybTEHj6S9p8cxzkSwZgzxENKfk6erBnAa8cbIGDa09WJvkh+0rwrEiIQC+Hs5Tn9pJjXOelXHNt3ypuOifJxUC5Km2tLCSZsFpCWH4/H2rdGFX8vRI4UUSUU4emveGjdfIp5RDxn+WKfLj5EnzylxFE+YJCfAcz6vHK8eqdfLw9GhP3L0iDKsSA3S3PXMXEBlpRyq4MjqNBIFulCxzdVIAHl0Xhk9uuPz18JpgeLupCqiaV87ZrWmBeGx96GXzfUq97lsZBM85ymnW2dVjqtCqn+e6u8VHQT6r4rpOvHK0EkfyWxHq7YC7lodgS1oIYoI9desMqajLfBPXgpvuou7aIBWQkAAffO7eFUiJDkJze48OaMjoR7NdXyRwIl04JTghXXg2LI1Vlai4iZc8xZbRae7ZuAjrl8XqALZ0V/jrT67H6kVhaO/q03lxfvXaMfznMx/gTE6ZHkLdzHzKyGcx/Zqtg59tPboCNqIqWbpFjcw3jXTrkCConH+SsH54xBTk0dTsehVX+KClO5nkJHvmnVPqensBXm4OWJEShsQI31nzQent1tsiL/ll5hVMbwEkrQGa1Ocu+2IcHNWf60z81PXfVX2WsljpXjI5EDdbqyJ5wDGxSR/C5D1QS1L/f4UF6RVdvs/ylxkO5YSZjp/8rba1D/2Dw7orz6rUqCnnmLzuWJOku/jIeRYiXW/UcdHrUi/Z1jm49Fyb2XZsgZGWJilh7rgrPRSbUoMRFegOSZo+N8GJ8Q9JFjVtcTMc/inkXLjiLJMmSoL7/1Pf2fePF+ggtgR3pJW+tO4xBYNl5svz70luni0rEnSrQgkOHjhdiDcPZOG1veeQdaFSnWsJ+OJDa3XOIHM3LhkNUMqYMpJffkmNbp05ExnUoaq+RQf5iSwVgzxENKekkNvWPYD4QGdVCQ7FxsVBiAxw009ip7tKOWJek4BPQlSgbopvrQqyPcZBlNU0z/K0/SbsqZTC5qKcd5PoPV7IB3gaqeR19AwixMcJdy4PxeYlIYgMnNqFVAqsMqqQtP5o7ZAgyNwUIKOCPHHHslBsXxF22evOZcHwdDVVMsW6ZD8dfLps3pXhSI/z161X5kJrRzcG1f5JZcPP69KIKAuFVFKaOvpVhcBKd9e6Iz0MqVE+ukuJuRXGFDf1u3Zp4eaf5HNdkhSBz9y9XCfozStrwMt7MtHe1aO3fTp5n/xZuvdJ8nip9DjY28/4ksqTLF+6QG1dnYRvPrEFX3tklTqfvVDV2IFdJy7gFy8f1YlPZzqHTYGFS2RZNrZqC9T/pCWR5G2Rp+3TyfdDRsaS74e58m92lSqjdiyzCE+/chRt6tyTIZ03LU/Qo2yF+EneIP0JmGac5upLVqbNJOeAtV6mqqT2D6vXwIz7JN8nyUsj85tarYxPMJth5aZ5ZIJ6zTD92qhPbIbz4Ppc5f1q8vTdkW2Xd5lz1s10fplfs7U0mb7Mm+FGP5n5Qu4nGxYHIyVCXZvGA6RzRZ8+M3xQpjXM/Alebe3mzTN9n03LqG5oxcncKh1wkdbQ3pNziqlZ9Fz6X9P8k40OD2NwaBifuH2xTqQsQ/BLQvA716Xg8e0rsDguVJ1rl+5p/t4euqW4dGt791ihTvY8PUArgfKT2eV6dL2ZvtNEloJBHiKaUxLMkbwlW5aGITHcRxeCZyuY6Cc3Vys1fGyuvmHylE0KGFLAl30cVRUcc8FmqsuXZQ56SSHjasWMGcvy8pnO4/LJ/D62108qcCuTAnUuhKRwb1OXwxnO66ggD53jQ4J+dc2dV+1icy1k3VLRl3wq01/SVUoqzfo/tT0ytKyHqgxcNp/6mwSkZtjk6yYtN4pr29E/MKJHdJEkuAttZC35rBLDvHD38nCd+0wS1U4fOcv89dLH+aZ+1ybWNGU1cm25fZU8yV6kW/h8cKoYu48XoFedW9NJhVpaFQpJzN7RPXPXUcnxIRWcPrUMGUZZ3pcWH4bH7lyJ7/3F3fjs9mXwdHNCdkkjnt+dibbpQSX9UUw9iSTXT2SAq9pGU2u22qY23QJmOpk2qpYl18vYUG84jnexEDLtSh9xaVUDnnnnDHJLG9VnkoRVi6N0fiI5ZrI18pLv2mW7rH7X16KrkEM8mQTJwvxc9TW+X1UypQvb6Njl+ySfjXQVk9YDMaoCOrnryWzXQNM2yrSZp1+NaRdN3/ertzG7wvTpOz2JnqRekz9OWZ8kKJdWFUVVzSiradItnqaTz6SkskFVsC9d/yavafohuhmusNcLilyzpcXLbAGzGyHHc6YPynx+zWTi2M3yAZu/f3Lud/SZEnK3dcrAAMP65z7jkP6+iP6BQVQ1tKtzaFRfF+TfAfU3aUEo55Akc3/5gyzklNYjPtwfSxLDsDQxHMuSwrE4LlwnTTa34DGTfE/bVsXpe15GYR1+9eoxZORV6MC3DkD39uF4VolO/Ozq7KS/30SWikEeIppTUugO9XVRN1mnqz/dn4clMXMhRso/+ueJUs3lunuMOtGpPCmys7NBbESg3v+ZTA/lmIJfQE//kH5aPnmqPGkyP30yJXOeNHX8R/NHd4XN+3jNw2N7I+RcDvZx1SMPXalrUliglx59SFpUSA6BmSq7N8VH+HnLEP+SU2VoZASRwd5wn2E47/nOVGF1QpCPiw6mzLb55v36qL5n8r2fvC4Pdb596q50LEsORY9xQA9Hfa6g+rIWNrKdCRH+utJyLKcKp7PL9DDfk0nFqbymUb1MLQ4/OFWEhqYONcUKPl7uWLckBk8+uBaP37kUDg62+hh3dvfqc1nIOuQ/GVlpcuBHPiIZLUkCZdJaJ6OgVrd8mf6ZSVJiGbZccoktTwrT3U4uM8MHLeuSYY8LKprVOpz10PCTn96bNsUKQ0PqOjppu4Q+fup/Uq+URMezh9TVTJMmyfd9SUKIThosw77nljTo/DzTyXdBRkWTkbZk9KDLWqxO2x4zfVrNtinXTRY2C71bl69I/iLvuvydVlCHUP9rCppNfa8kjZbWbt19A3oYdhlB0nSPumRIVdKPZJXrFl2y/+YlyL+zfBxz7wofya1Ojqkk4JdrjQQ+JJ+U+RjKQycJxMh3flBd3yUQM7m1iwSJJemxHEfJOzf9/jY6OjJRnmnu6NddOGW0N3kYIImT3zyQgzO5FTiXX6GHYc8rb9I556SVj3zH3ztWgObWTr09AwMDOJZdgeKqVp0c/revH8Nz75zAn985hmffOowX3z2B9w6fx/nCSvQaTQMKyPddRn1bEh+iR33be6YYP3vpCH76wkH172H85M+H8Pyuc4gN80GgtLpdYA8niK4Hz266YXJh7ek16n+JFjo5j/Vr/PfZ9KoC7DuHslHX3KVLrysXRyAhOnjGFg2ytMFBqYCM/0Hx9jQNWdvTN6QKNR0YUwVqIQXkkznlenh5KWh1664PUwvRZtJdhuYXX29PhAeaWrbIML4GVam1tGtjR3cPKuvadDAyPTFYtzKhD898tZH/l0qVDBM+mQQ1Pn/vSh1ALK9v16NmVdW1TASCzbauikdYgJcesvqZd8/itb3ZqKpvVdcUU3ejwrIaPbxwWIAnJFmwnJ/Hcyr0U3YhFaTQAB+d3Fhaqkkw097WTtWXTa1GJE+R/CsVRAnYiOa2ThhVBSs82B/r0qJ04OZ0fo06P1rHWzZeUlbdrEfEWZEcjuTYEJ34dDLpliHDqE8n35+6ZlN+HKmQDgyqz2j8OyXdBi9UmRIeDwybguOGnr6J1gDmkZ0Gh4dVpdH0N3ma39nVfdl1VZY/uWVlakK4Hg1K3n/gXJke+nl6946c0ib1eQxi68o4RIb46kqjrMPcWmFQbdf4pl7motrXkStMn40s37z/0pLG/PNs5LO51nWoXYWMVCTBOkPfwLTjPICQQD+sVMdPjvOBjFL8+vUTyCys1jlOJGDQpO5l7xw8r++P7q5OUyrREhQek9ZQ17vDNGcM6tw/k1Oijl2ZDtLIMd55NB/5JbU6YHciqwjHs6t0QFO6M717rEDntulTx7O+qQ17TxXifHGtDt5UN3Ri36kClFTU6fOwsKxWB6FrGjv0vSG3pA4HzxTrwOeatGgd3JXg30+eP4hnd56B9IbcnB6HQB93fY4eyixX175RuDibHhDKSKHLE0PU6TKGQ+r7J4GeZ3acwR/fMb1+++ZJ/OKVo/jPZ/fjuXfPmJItq3MrPNgPX354rR4kQ1q5yqh/bx/Mw4u7zuFUXhUWxwTo1oAy4h+RJbN5Shn/mehDOaAu+i+oi6dR3TAigrwvaz5JNJMjZwtR2diNYB8X3LYqZcacPR81KcBX1zdjx5F8tHcb4eLooJ+OS15NSaIrlYtuQ58e6eb598/qwpHka1i9OBRfeXidmjdQN9s3LyunuAr7z0gC0xHctjwGoYHeE4VeeeL+/rFCPcysUVXsRkbGdMX5yLkSXcAqqm7VyVDlqZmHi4MuNMlwwt09vXj9QK4qgPXpbhUblkarAvflI798nHYcylafXz9SIn2Qvij2ssqcJZOWXFLhkYKlwTiIJbEBujvTlVr/3IgRVXE6lNeCzl6pwAJ3LA2Ct9vc5m6YTArRR84VqcJ6hfrO2uGxrWkIDzJVbi1Na3sn9p8t04lm71mfdF1Dil8rqRgfPleKE7lVOtgS7u+NpUmmSrT5GMo6A3zcVEVqTF17mnQXB2lFKEm0ZQhlW/X9knm93J3VPIMoqmpFTVMXKurbUVzZpCtlh1SF/KB6ebm7YtuaZHXtcMZ76vp1Lr8GkYHu8JPk4Tam72lTa5e6NhVg49II3L46WQd8RHe3QT9Zb1fXQEmiL0GPC2p7wtV938PNBT4eTqri147S2jZ9DZNrp5uro35va0cXXnr/nL4Wfu6+FUiOCdbXQLlOHlbXvMxCU8VxU3qM+pwlr9XUz7mxtQOn1GfUofZbWprI9bCoshFncitRpvazqqEDkvRZRtmR4b1DA7wgI+tIIGfPyQs6KbWdnKPqO5KRX40g9Xm6q22WYMapnEq17Eod5LlrdTyC/EzHWd7v5mSLCnVdLlP7JF1nIoO8dGVVllunKr3PvZcBdxd7PHn/aj20u3wP5D6x+0Qhiqtb9Gd355pEuLlIwnPTvnR29+n8Sl2qgp0QEYAl6nhfT64sSXr+rjp21aoyLQHWzcvj1ec/NaG6dNd7+1CeTgCfGOGDZcmROnhjZt5nCeJI95ZAX0+9z7KMLnWcj6vj3KaW4evhovOLlVQ1q8/UE57q/PFytVfnVhuqGjv16E8V6rPJKanHabW8vaeK1PnXgns3LdIJceXzOKsq1hJMNKp75cqUcIQF+t7UbjJ56r6bU9as1mGN7RtS1fFhZd5MrjcS9PVVZYnViyOxaVm0/p6G+HnoUfHG1PkQ4OOOtamRWL8kGnHhvvq74ubqrM95eUWo78D6pVE6qCtdFH29XPV06WolX9vk6EBsVt/jlYvCER3ijRBV7olT64gO8UFEoCeSIwOwQk1btzRW/T0APu5OiAz2UsuL1sm7fb1NOd7k1dtn1N/LrasSsCgmCDFhanvUtoarZXqra5CDnY26HvXrVn6JaluD/b10cEgCR1Fq3fHhfvo7GxPqjeXJYbhnQwq2rk7U33FLvGcRTcYgD90QKfD/5rUjOlGjNNHcsCxGF4wmlTWIZjTfgjyVtU3ILa3HvjMlKFWFegnWSGuMhtZunfQ0r6wRWcX1OKYqtydUAbm2uQuhqvJ+/4YkfGLrMixJCJvoQtBn7EduUTX2nilFQ3vPxN/tVbnWUxVo5HcpUA0NDuimyCU1bbryJq+YMB+sTo1Chqr0SOE6RBWsl8SqQpiqtFQ2tOHY+Uq1nQ2wUgUgefolFRcHO2t4e0qFZX4UWm7lII9UkpzsrVUlqVJVtIyqYmWn8wjcrPP7ow7yyEgpUkGVAEJyhC/u2ZSmzulJiTQtyM0M8kjQOKugAkfPl+GdIwWob5aWJRfRYxxSFe8RVREbUBUxN10Zls9WkiWH+HvoPCcScKhs6ND/SgLcfmOfDiRKJT7E31NV/K1RqSrfDWqaPG0vqm5GjVp+UmQQHrtjGSKCTUG5PScL9bVNltPd268qVH0or23Gu2p7JJmxDLUeJoGL8X12drBFdaMEcdpRUdeuz+/ViyMQHeavv+PSlTHYz12PBpZd0qCvnYaeHt1tce+pErR2GdX6l2BNWoweQay5rQvHs8rw1qFcNa9BB7QlaC7dNKTVkgQR5bSS/fdU57QETWqbOvW6C1WlTobyTosPVvN64FxBLbp6B9Q12wprVAU1MsRPb5Ncw3tURVHmL6/rQFNbD+LVNXZxQrha35AOTLx5IFsnnJYgk7xfvr9+3u76/RJc8/Vw0vuSXdyARrWdPWqfMgtrsO90iV7+J9VnmpoYpr/jdU3t2Hu6CB+cLkZbVx/6B4bg6mSrr/0yulhhWR12H8/Dqdxqtf4RDAyNwsvFVh1rZ/2ZXOl7NDg4qM+ZnUfy1XlTofZrEEb1mUmrodGRIUiGHil/ST6cneoYnlD7Jt1gZL9cHG3UdcFJt3SSfX5jv+xzp05Qi4tjevv8VcVY9kGOc5U6znJeyPe8o7sPK1NMx1mme3u46OPcqI6z3AdrW7pQVtOKC5VN+t527wYZwS1OB7ukVap00ZHzVY6vtFyV1qqSUFjO15tx3WCQZ3YSyPVU39PoMD8kxwTpYKu0QJNruJx/Xp6ueuQr07Qgda3wgYebq/ou2OkcWn5e7oiPDNDvS1LTpVzi7uqsric2OpG7XH+k26KeHh2kzhNPuDg56qCSDFKRov6+NClMD1rhod4n37Fw9V2X+VPjQtS5ZWrhLGoa21R5rBhbZNS2tSmqjBWqy1kyKuDylEj1isCqxZFYppZXpc7TIF83xKhtl3NUrm/+Xm56X1LUdso9eIWaX9Yj3cfmS1mJ6GayUpV0tpukG/Lq7tM4cq4Y65bG4eGt6fpGQXQ13//lGziQWYX0+AD84JuP6mHJP07tnT3o7OlHS2ef7hIw0WZfqHKoJNSUAqn0H5fLpjyh9XR1VAULV1XIkaStlwoNUoiV4XTrWgzoU4VsWZZU9oN8XHVOA1Mg1Aot7d3IKKhWBeQWXcGLCvXDikURukC083COfjItBbCYEC9V0HLWladWtX2yneYuHZL/JVgVbvx95OnX/Khof/FfnlUVsjY8uiUBX/3knTpx5K1Enmj+4qWD2H2ySD/1/+9v3K8KtcE35clhv6oQP/ViHkobenRl7ydfSkd08M05F+S8P5pZgp+/dEgPgf03j63D/VuWWezxLSwux98/vVu36vvtPz6MxYlRujIzF6QligQE2g1GHXjQXWrUfxJc9vNy0UNzhwV560CHmXz+0jJHKt+Sb0KCL9KaL0DNHzVeAZcSnSQ6lUBwRV2rumZ065Z+0spEEizL021z0PVoZqkO7siTfX26jI3oytwYrBEf4a+vR5Nz38g2l1RLMNyUn0Za8KxICdfXbnNlfXh4WOfyKalqUudIN5ztrODs7AQ3FxcdREiKDtABbpnf0GvU3V2lRcrgkGn/5boa4O2ChMigKa1bpAWBBOELyhrQqT4zaXkUGeSrKm0BersOqMqgoa8fMepzWJoYOrFN8pk1tnYhq7BWbY8Bgb4eqlIYqpO2StBBcqpJIEMCeTKvBKrCAz0QGuijA2tCchtdqGxGYXkDeoz9cHWwVhVetU/qui+tl2W0H7mmy2ffZehDtTqu9eraL4lk5d4R4ueugyJSQW5R2yDrbO7o0wEXyVUSGeSpP0vppmL+HGciAV0ZLUjuK3JOyvvley6jFQWqz8zbw1XfJ+T4VzV0oqWrV382cl6EBbgjQu2Tvb2tWkaX7vZn3mc5h8L83XU3F5nXfJzz1HGWPCrSamJ5Sth4ayTzcR5BfnkjSqubUd3Qpu5VY3r9i2JDkBIbpHPySddDST4v2yLBKFmXkzqfAtR9UFpwyLG+0v5+WC/uOIw/785R55kNfvndJ/RQ7rSwSJfLp185os71bvzD52/XQdvZzpV+VV774TMfYNuqeKxKi2H3YaJxDPLQDes09KK5rVs38ZSmvDfjpk2WR4I8+zOrsHyeBHlMV8LruRxKnorxH2cw26V1+vdDCu7SL17mlydi8uRefpa8F9I9QCpZ5vfMfrm+8rZ81CTIU1Tdhsc2J+Crn7r1gjxynDJyy3SugKaOXnx2ezqeuHe1Pr5zfZikUv32yRqU1HWrCroNntwWCz/Pm5MIWSptP/zjbhw7X6GTVv7ga/foLhmW+lR0SpDnnx7G4oS5C/KI2b/PJjMdQ9NbLn/f9HklKCLB6l7jgA5WyOhqEsCZPJu0vpVAkcwrLT6Man7pbi3X4tlGRZRtlvfpAIW6Ns3UDVG2Uc5LCSBJnh0JLMhTewkgTF7mbPsiZlu3BGYkv44EisytnIT8XfK9ODo4zBjglG4qsi0Oar/MXWrFbMdg+vplPmmVI5+n7L8EziSnx+RtEFfbp2td32xme7+J6T5wtXVcyzbIPKbjfFHfh652nCWXkhwTCdxMvh7c6P5+GBLkeW53jm69xCDPwnQurxL//Ov39PX2B1+7GymxIVPKQsJ0jg7jXEENjmaV41N3SitFH4u9HxFdL34T6IZJH//E6BB4ebjd1Bs3WR5J6Dnntd4PSU5dOX+v/TX+xlnM/J7L32SrKmDyBNRnvGuGkPnkiay5xY/Z5OVMfY3PMI+orZL/uyXJMUmJC9VdSaQF2JGsMpRWNlyWiHYuyPmzJS0Yj2+Jwac2RcPrJnXVkqf7p3PKdbdFWfrWFXEI8jPl8bBU5uqp/jxnrqvekEvf35lfM5E/X8u8clyk5YXknvD1ctN5KqbPZu7WIC175HoTpCrD0k3pSt1o5O9S2ZIK/UwVfyFvlfXJsqRFjL+3x2UVNCG/mrd/+msm8nfZNuluMT1gJEEpZyfHGQM8QoJXLs6OUwI8YvI6J7+mk79JsFpaTMo++chnOm0bhPw6eTmTX6bps0+7FjO999LryvOYzTRNXpPJ76bjbH9NxznAx1Ofb9OvB9PXYX7dbDd/DXQzuTjb6YBhbXMnfv7SEfzu9eM4kXkBeUUVKK6oRU5hOY5mFOHXrx3DwYxirFsShQBfUy4fIjLht4GIPkaq5nQTKk80H9zaB1a6Xty1Lkm3eGlo68Hbh/N0N4rZnmx/WFJh8vN0QkywByICLgUK55qM0iSJxiUPiySy3LAsTlf0LZm5ojjXx4yIiGYnecO++OAa/TChtqkL7xzJxc9ePor/eu4gfvL8IfzyteN480CWbkkmCZslT48kqyeiSxjkoTkho8nUNUpekalDkkrhuL2rxzRE9HgOEWkCLKNSVNe36CSe0wvQMsRjZW2zni65LWYjXQdqG9tQUdOkX73G/msqjEuzbUn4KOuoU+8fHBwan3Jl0hxctru4oh6NLR26mSjdKFWN4iM3C8UDuzguDFtXxenk2BkFtXj/eAF6+q7tOjWfSCLxHYdzUVAuiVVtsX198sRIQpbMfJQ+ipYHRERkIq3yblsRj69/ahP+7nO34bN3LcW61Eg9/Pmi6ACsTYvGfZvT8Ngd6Vi7JGZKXjAiMuHoWvShGY0DqKxr0U93X9ubhb7eHiSrSo00h5ZhDytqW/D2wRy8se88bC4OITosAMVVjfjj26fx7pE8HM4sQ+aFWni7O+iEhJLI772jeXhhV4Ye8lT62BaUNyIu3G/KBVwCP7tVZUkqHbWN7ahvbseBs2V6eFgZOjU21Fc3o55Olp9XXK1Heujs7kVffz9O51Xpdckwo5IoV4amrW7ogKuT3USTdQlEHVbL3nvqgu5ycSy7EvtOFyOvtB4B3q6QoWjZRPT66dG1mubXEOo0N/ToWoZbc3Styexs7RDk64HCykY9Oo8kmXVzttXJWicn1J3P5Fr+zqFc7DpRqEfz2bw8Fg9uWaK76Vp6oVqPrpVRflOHUCeiuaVH1yrn6FoLnZQbpCt7RLA3EiIDdFLvtPhQpCWEYbH6Nz4iCN6errorJgM8RJdjaYU+tAuVDXp4w+ffz8B7xwr00KrmJ9T5pQ344HQRnn/vrB5eXYIxOUVV2KN+Hh4aURUdZ+SWNuKdw3n41avHUaOm7zomw4pWABetYG9ri8wLdXh9fzbePnBeB1qEBGp2H8/HH94+qUfjWJoUiRWLYrAkMRQnsivwh7dO4mxumW6tM5m0IjqWVYb/fekIunuNSIgKQlKM5MwIRX5ZE37zxnH84uXDePWDTLx9MBu1Te36PRJQemXPOZy/UIOYUG+sWByN9Utj1N+H8OaBXPz8pcMoq2m+rAUTEZGUOyVvzWPbluphYiWY/Ja6bpzKKdctA+c7ud7uP30BO47kob3LiKQofzy4JXVejeRGRESWS3JDubu5wNfbAwF+3upfTz2iqQR3iGh2DPLQhxbs7421S2LhZG+rh8+U+I65eXtokA82LIuHtY21npZd3q6Hfd6QHo/PP7Aaf/XYBjx53wo42NngZG41Xtx1Tnfj+sTWZfiLT6zHN57Ygke3LlF/G8V7xy+gtb0LY2oFPT29ePmDLNQ2d2Hj0kikJ4cjJS4Md69fhOToADS2GbD/TCn6p3XBamhuxZ/ePYOCihbcsToBidFBOnniikXRuHttEtpU5UuGSF2bFqW2YameJntz4nwpMgursX5pFLasSMDyRVG4fVUSvvLwWj2E65GscrXtGXpkEiKi6eQJ40p1nfns9uU6P0+NunY9//455BRV62vefDU6Oor9Zy/grUN5+rqaFOmHJ7avQGJk0E3L+0NEREREN45BHvrQ5An1koQwxIZ6w1o3lbw4kYUjNMBLJ0ILC/BU0wAPF3skRYdgeXIEYsL8EBPup/M6+Hu5YWDINPTpmrQYLE+JQGyEP5Kjg7B9XSJcnR1Q09Spc/5IKyEZtrVvYBiB3u4ID/TUOSFk1dKdKzrEV1eoGtp79RPoyWkvcorrkVNSD083R7VNXhOjRUhz0LVLIuHp7qxHj/FytVfbEa1Hi+gyGPHSB1nwcnNATKiPWveIzk0hid6i1e9h/p4YHBrBoXNlaOuY+4Sqt4TJkUGyLPw+TJBRedYvi8djW1Pho641ZbWteGn3OZzNLde5xeYbY790US3G63vPo7KhHf7ervjUXelYkRKlR3y7Vei7mjqP5WW+txHRAsDbDxHd4hjkoRsiARYPN8fxIM/U+6r8yc3FlEsnzN91fHjDS0VlXy93uI3n2okI9FDTJSB0abqflwtcHO0xMDRiSnKsFu7m6oKvPrQGf/XYOgT6eev3SlcpSaDc0tGr65XSzcqU4/nS1pTWdejl6HwKk9YhAnzc4arWI+9tbO2a6HolXchyShpR3tCF594/h9+9eVK9TujXn947h87efh0ckmV2Gfp0SyO6XupYTD0cZDF4YCeTRJLb1qTg7vXJ+rqYU9qoWxfuO5U/EcSeDwxqW97cfx7Pv38WZbVt8HZ3wifvWIoVi6J0nrJbifmIyH2GiIiIaKFgkIdumLlVjJheFDYHdWR0mekFZVv1N/PoLJKseXo52ka9V6ZL0MVcAXJwcFAVpWRsXZ2k/jaGs3mVeOE9qSgVotc4aJpPLWf6drg42sFGraCrx4iBaV25Jm+Xu6vTxO+SY8jYP4RQP3ekxY0nfBt/LUsMw5cfXI2nvnoX/umL2xASaG7NRNdHHa/5UbelOccDO5lcHrw83HDvxlR8dns6fD1dUFzdgpf3ZOH598+gur5Vd5H6uMh1trS6Ec+9ewpvHczRAZ7IIE+1rSuwbVUS3FwuXRtvFea9nS8BOCIiIqJrwSAPzYmL6r/rLf5P1Bd0+fkKhehJk+Q98jS5tLpZt6w5kFGiR8JKSwxHVIj3rMlAlyUEq0qVK7oM/bhQ0aTzBJl1dvXo0VO8PVyQEhuig0+ioaVTdw8L8HLBhmWx2Lw8fspr2+ok3LUuBdvWJOlWSXzae/1YdbJcV/ta36qkm6sEej5/30rEhfujrqUb7x0twDPvnMK5/ArdVeqjDCrIumSdxzOL8azahvePF+oE0Ytig9Q2rtJBdS8Pyx9J66p4eSdaMHjrIaJbHYM8dMPkZioVAPn3em6s5nlNdYcrlKDHly3vkFw7Ow/n42cvHcHo6AhuX5mILeq1JDEcXjKUuSxMzTx9OxJjQvCF+9Lh6+WCV/dlI7e4WndLaGnrxGv7c2HvYIcn71+J6FB/U5cuxdS6yAq1zZ06KCSZ/Gd6yTr5oPfDsZLjzsqTReKxnZlcUzzcXfV162uPbsBty2N1PrATOZX4/Vsn8fQrR5CRV66vTzcz2CPLlnUczCjCz186hGd2nMapvGpI/PuejSn4ysPrdGJ9GcXkVg3wmD99vf+8xhMtGLz1LFxyb5KHrzX1TRic1vJ+vpFt7TL0oLGlHYNDHICF5hcGeWgOzXRbVX+TIMj4bzO7ltuxaQlFFfV4dscp1DR24Y7ViVieEq6fMpsDM0Ja30yvHLk4O6mKy2KsVPOLE9nl2HE4G/tPF+n5v/rQajyybamaz1FPF/LEXZabU9aMCxWNuiI2naynsLwBLTL6lykREF0PlsQsF4/tFUmy+PTkCHzm3lV4ZGsaArxdUVbbjj0nL+CPb5/Cn3aeRmZ+pQ7EjIzMTTcuuV6NjIygu6cXJ7PL8Kxax3M7z+CDk0WoauhEiJ87Hr9jCR6/awWWJITDydFBLt+3NHOAi1d3ogWE958FR7or1zV14IMTefjFS4fxq9dOoLmj57Ly/HzSbejFC+9n4MfPHUB2Ue28HjGTbj0M8tCCclxVTEpqmhHg44aIEH9YW11+Cg8Pj00kTzaT34sqm+HoaI8vPbQWm1YkIjU+XHfz+uSd6bh7XQr8vad2uZIRtNycHdDQ1otX9mShrfPyEbQ6u/tUBalQ//1WrwwR0fWRIHJMWAAeun0Zvv7JjXhocwoCvN1QVN2qu0399s3j+OWrR/DmgfMoKK1W16DuD5W3Z3hkVAeiswor8Pq+TPzsxUP449sn9Doq69t1cOfR21PxV49txANbliI80HsiXxoREdHN1tLejeM55TpP3TtH8nEmv1bnxZzHMR50Gow4er4Ce06XoKS6hUEemldsnlLGfyb6UA5nFCGvvEkPm755RSIc7G3HpwDvH81HeX0b4sL8ddN/GbLcTCoebx/MQWObAWsWmwIukysWvX1GvHkwD109/bryExroi70nC3G+pAFuTo64bUUMPNxddIClqbUTOw7no6SmFT6errhrbQJ6+gbg5GCvl9nQ3I6fv3wEEvu5W00L9vWEj4czPN2c9DDtUtmSAM/kFkFODnYor23Vwx3XNXej19gPD1cnONhaqW0fQZO6Ib20KxNWGMPapXFqv+3G30nX4shZVcFs7Ia3mwOWxodgeGhID1HP18J/7TpRqL63A0iJ8kH6oqnfe5pKrjsuTg4I9vdEZLAPYsJ84exgi84eI2qaunQQpqyuDcXVzcgva0RJVTMaWrrQJrnE+gcwMjwEo/rMB4eH1b8D6OvrQ2+vUb9PWiBmF9fg4JliHMksUa9SnCmoRWFFMwy9AwjyccH2tUm4Z+MibEyPR3xkoG7NODnYfStrbe/E/rNlOmfbPeuTEODrNeUeQUTzT15xlW6BbWdrje0bUuHu4jQ+heazi2MX4ajK7LWNbSisbIGjqkvcu2mxzqf5cd6TpBuW5K2ztbW9bIAV2a7h4VGEB3pi/ZIY3QOAD0hovrBSFWS2QqYPTbo6feM/X8HeMyVYnhSBn//Dw/AbbxEjeWye+Mdnce5CLW5fEY///tb98JQEnuPvbe/oxheeegkFFU348gMr8e3PbdNBGbPiilo8+f1X0djWg//6m+14+PZ0vPZBBv79//brEb0e3ZqGrSti0dBuRF1zBy6om8Khc6V61Jov3rdMVSwd8ci2JXB1cUZGTim+/qO31E3fFssSQ+Gj5rG3s1FrMW2Ns6M93N0ckZ4QgsToYB2wka/G2bwKfPdX76Oyrh1uLg5IiPBXFTEvnfxZglPG/mF869MbsDQpihf26/T9X76BA1nVcHG0RWJkwMTnp3O50IKWXVKPPvXdeOy2BHz1k3fC2clhfApdidyNJddYc7sBxVWN6trYiPyyJpSp68/g0IgecVAKvu4ujnBxstcvJ/W7DhQ5O2B0ZAwDQ8P62tWrPv++AVU4Va/u3gFdEB0eHYWbsyPiI/ywOCYAyepalxAVCC93F12ApakKisvxnV/uQXu3Eb/+zkNITZTrvNw3iGi+enHHYfx5Tw6cHWzwy+8+gRB/r/EpNJ+Zq6Ov7TmN/3n+qH7Q+rvvPY6EyEDMNqjKRyG7qBojQwNIiY/UXZgnk23u6O5T92fT4C1Sd+BDEpovGOShD036zmYX1+O5nadR32ZQFzhnPHH3cqxNi8Ho2ChySxvwx7dOosPQhwBvdzxxz3KkJ4Yj2M8d1U1dOJ5VijcO5OhhzRMiAnROnPTEELi7ueB8US1OnC/DnlNF+ilqemKYmr4MXm6Oeojfw+fKdaAlJdof4YG+WJMaia7efjz98lEY+gZw+4oYPHjbUqxYFAl7O1vUN7Xh3//4AY5nV+ngjgSJBlWlx5xpwU4V3O1VZSk8wAN3b0jBp+5cri/WMtz6kXPFeHN/NjKLGvS2SkslL3dnJIT74PG7V2Hd0mg4T7vw09X94bUDeHlfrj6+pquQ/B9vjpZCAhJfvn8ZPnXPBv1dpeszNDyMTnXtbGrvQVOrATXqGtbQ3ImaFoMO2vQPDMOork8S/JF8YE4ubhgbHcHQ4IB6t/rdwV4Xkh3Vy9vdAaF+HggP9kVogDeC1M+BPm7wdHNmcOcKCovL8fdP79ZBnt/+48NYzCAP0byngzy7c1S5jEGehei9w5n4tz/sh6Mqg//+Xx7XLUynt6D5qPQZB/A/z+3H4mgv3LF+GVzZKowWEAZ56ENraulAVWMHWjp6dIseqaD7ebkiOtQPIzqBWidaO3swpk4xaZ3hryoVkuvBz8sNja1dqGpo14EZOQWl4Cy5KKKDfeDq6oyS6kY1j0EHAKTCIiNdhQZ4IjrEH41tXcgsrNIBGOmuFRcehMSoAPSqi/GJrFJVAepHXESgHnFLKjhCupA8/fJhXXEKD/DSQaj+Aenrazr9mzqM6Okb0l3L5C9/+N7jCFYFA90Uc2QEF8obdILltq5etd4RBPi4IjkmBIvjw3QQia5fSVU9MvIq1ecpx5gsjbTMWp0ajbjIYFaMb4Bcj8ZGx2DoM6K7p19dg/rUv33o6x/UBVC5Dnb0DuNkWR/s1We+Ns4FLg7WcHZy1C2oJADt5eECXw9nnaTeRf2drQ6vzZQgzz89jMUJDPIQzXcS5Hludw5cGOS5ZlIWvtktUK51He8fycL3f7/vpgZ5rmVbhlV94f2jufjFy8fwxXuX4MFtq2YN8pjrEldb5vV8zjPNez3vJ2KQhz40Gc7cFNyZegpJIVhOK9NoU9OmWVur6bZ6hBcJ/kyfLsEcyXlgSl42dZqwtzMFbfoHBnUyZXkKLS1u5D2yThluUbbJwcFeL0vI31/fl4Wc4jp8/r6VCPL1kL/q95vPfoPR9ES8qr4Vv3ztOH70jftV5TRooomozCuVKdmukZExODnKE3IHVpZugAQCJafI9CTZZBmkIOLk5Ki7SNLcke+LfHdktD9JwizX0gO5zXjjeJ2+1n3z3mgkhHvr4LNcn+R6bL6u0vWR7lr/8PRudBj68e1PrkZs+KVupTSPyH2c9R4at/t4HvZlVMHdxY5BniuQMnpHl0En9G9oNcLFyVYPahKkPi8He3vdBanL0KvvNZNJjj15YGAuY0v+THnIah5hVvLqeLg563uP3KMk6X9rRzeaO4xwUGV4Py8nhAT4wtXVacbgjQR5pCWPg1rP77/3uLru+qNHrUPK4OYyuynFgou+r8k9UQZGmTwKpXRBdtSjQ15avtwf2zoMOtdaS2ef+osNvNzsERrsq+afOkpvT68RRzNL8Md3TqOgohl/+eBy3LdZ0j84ws3FCc5OattV/UD2WT6j0uomBPl569x6trZTHwTIeju6etDU0o46+ZwdbeDj5azm9VbLkn2Y+hlIHaahqQMlNW1YuThS5w2V7amsb1GfYT+CfeVhur8qX03dP6LpGOQhi1euLr7f/uk72LAkCn/9+G06QDOb6rom/OefDuCpv7gHAb4evIAS0bwmrQuffrcEuZVdqsAMbF3ij09uilaFVydev25QYUkFvvP0brR1GxEV5KFzIPEznYekGMvjQuNaOnrVd7YfAV5OePqfntAVb5pKHpSezq3UifydHazR2tWPijppyW6FVYsjcOe6ZB2QySmqxtGsCnQYjDqgITkpNyyLxaK4sImW8hLAkeHDj2aV63xx29YkIik6GENDw/jgZAEKK5oQ5u8Ge3sHVDa0o765CyEBPnhi+3KEB/voh7+TTQ7ySE6e2DA/NLR0Ir+sHmfyq2HoHcTqxeG4Z1OaDrhIEKqgrBaZhbW4oPZHHth+4d7lWBQfMTHogwSITmWX40ROJbzd7PQALQ0tPXpAA19vDzyweTFS48N0Ogax82AmDp0txsHMShj6BrEuNQxLE0J0/WFNahQSYkLRqe69Z/NrdN7RErWcJx9Ygy0rEqZ0Tx8YHMQptc7ckjo42cvgLnY6KFTT0q3zl96xOgmpCWG6a7V8XuW1LTidV6U+zzrUq3l+9LcPYWR4BO8ezUee2v/WLiO83Z2wbWUc7t+yFJ7uLuNrIrocgzxk8V7ffRJP/fEg1qdF4e8+dxuiQv1njLS3d/bg5d3n1E3DDp+6e/XEDYyIaD6Sp6S7zlThVEknqpr7EBvijnZVufn0hhCsTA6F3bTrHF2fuoZmPPX7vSiqbrnsaTbNH3L/ZvCNJpPTYVl8EP7la/fDX1Wm6RJpofPukTyU1zTpwEZEsI9uWX+uoBr/t+O0blkiQZJ7NqZButO/c+A8Xt6brQM9n1N///T2lQgL8J5o1Sjz5JbU4KcvHMadaxJx17oUnbfy7UM5eHnXOaxQ96J7N6XC18tVB3h+9uIhPZjA5+9Zjs/ct1q3uplsepAnPiIA/YNDelTJn/55P07mVePBTUn45me2wcfTzdRSprtPJ0j+0Z8PoqZRzffNu7FlTapuVSQOni3CM2+fhI+7Ex69I12PZCn5Qv+88zSO51Rh9aIIfOeLd+rRseTcKapo0GklfvLiEVyobMZn71yM21Ylw9nZEaH+nnqgg4LSWrx/7AL2nCrWXXr//ev34IEtaZDRMoW0st1zPB9vH87DmkXhWJ4SCXdXJxh6+7FLWpudLUOIryf++lMbsCw5Al1qe3KLq/HK3hycya/RLXZ/8LW70dDag77+AdjbWqGoqgWn8+sQ5OOKp/7yLixfFMOUETQrBnnI4p04V4jv/voD9PQPYml8MBKjAvVw73ITkkqQXHDb1Q2iTt18gnzcsH1DCkICfT62RG9ERNdCnvo9e0AVUBN9ceB8A9YmeqHVMILOvmF86a5EBHi5sPJ7AwYGBpFTUo/Wzt6Jrgg0/1zU7Q8Ez3UykctekK87FseH6i79dInktHz6laN49PZUbExP0F2Q5D4hgZL/fGYvdp0oQKi/O/77mw9iUVwoqutb8P/9ajfOXajBp+9cgr954nY9rLmZVCOPZBRi/5kyfOH+1YgO89N5ML/xP2/pFilPfWUr7liXChmZSh5M/O/z+/H8+5lYFBuEH/zVPYgM8ZvSZWl6kMc8upZ0y/qP37+LV/fn4d71Cfh/n78Lvl5u4+8Cmls78M3/eRuZF+rwv9/ajq1qnZJWQfzzL9/Bu0cK8KX70vH5BzfoFjCyvA+O5+L7f9iny/u/+sdHkJoQPhG8Mvb346s/fA1ncqvwz1/YgEfuXDORk2d4ZBTtXT3IK6rBfz53CFUNHZcFec7mVeHnLx2Cp5sjvvnpzYgJM3X3lc9LUkP82x/2ICO/BrevjMe3P7NFf6aGvn68eygbf9hxFl09A/jKA6uQnhKhPiMfuDnbo6ndgH/8xXsor2vDtx9fh0/fswYebmzNQzNjkIcsnvTl3XeyEKdyK3Eqv1rn1HF1dtTNI22tbWBja6UTPqeoG86W5XEICfS+rPkoEdF8Iv32//B+Adp6hvDFO+Lxm525WJ/gjrAgX/z5SB02Jvti85JQOLNF4g2RioCplMSiEtFCIoEL5iKbSoLVP/jDLpzLr8F3v7RND4Zifg4gV7jX9+XgT++eVuXmQfzom/di+4ZU2Npa4zevHsUzO04jMsgL//WN+xEfFTRRTh4cHMTPXjyoR8nduiZZl68lT8/f/e87qGvpwr98eRuWJkfp/HxS5Xx51xn89MUjetTdH3/rPiREB08pc88W5BE/euY9vLAnG/esuzzI09HZjW//5B2cyqvCT785Ncjzb797D/vPFOPvP7tZbePiiS5V2Req8Dc/egu9xkH84h8exurUmIkuXlcK8phJa89v/mSnfhjwb1/bPhHkkfvGU7/dhV3HC/H1R1bjE3es0K14zGT6y7vO4n9fPqp//ucv3o6716fqwRIOncrF9363F62dffj5338CG9LjdA4iOZ/lvv/NH72h9+X+DUn4289tQ6DOM0p0OV79yOK5uTiri+cifO2xTfj+X96Lb3/mNnxy2xJsX5uEB7cs1v1on7hnJR7YnKoqSJf3DyYimk+koJxX0YKyJiM2JPvqkbNMLXYuIjzAE+uTfHDyQhvqVQHblByfPiypJJoTWPPFF18L58UAz+V6+/qRV9IAQ98A9p8pwRv7z+P1fZdeja3diA31RUp0oA4ISTcuCc5IaxNJylzR0KG7RQ0MDI0vEahp7ERze58OxjiNd4+SpMdffmgdvvOFOxAvI2yqYyHJgyXHT15pIwaGRvTydTuDuYyfX2oQNMWj29LxL1+9BysWx+q8O5Kjp7iiDieyq9DXb0rofFHdK693U+TeIEGw6S1mm1q7kFVUo0fnlZxQ5lw/ZnJurl4UrlubSc6fkzlV6O0f1NNkmbI8GxsrRKljIUEj8/KlxZG3uzNs1TzdfcO6RRHbatBseAWkW4KM8hMd5o/bVyXi4duW4FN3r8Cn71mBx+5chu3rU5CWEKqbb06/UBMRzTcGVVjen92E+CAXLIryVYXw8Vu5KuvJU8jVif6wVf+eKGqDcUBGKiQioluddDHq7uuHs6MdFscGYVlS+MQrXb3u3Ziiuxb9/edvx4qUSN2aRkgXrPTEUFwcu4gPTpeg09CngwsSqMnIr0JihA/8fdx1gELIyFvpyeFYtyRaB4oOninCS7vP6e5bQyPmBw+zByekC6bQRfLpxfKrxDR0zEO/59IbE6OCcNvKBLio/ZbtffH9DBw/X6Huj5eCVdNXZPpNtsTcHXQGagNlmnwWk+eprGtBZ7dR/11y5sxUtfDxcoW/ekkjpZKaVgwMXn6vnl4nMQV/TJ+xPMDR+0o0CwZ56JYjlSDJyC/9WKWPMAM7RLSQ9Oonj9bYlBoED9dJo2iN/yNP+m5L9YdxEBgYGtYFTSIiurUZevv0UONjF8ewJDEMa5dEz/oKD/adGKREEhhvXRkHX08XZBU3oKymRbci6eruQWFlM1LjQ1W52lHPaybrOZ5VgV+/ehSF5fUI8/fEytRoJEUHwMFOljt72dsUOlE+7K1r2vvGxkZxoaIRv3/rBA5lFKv7pgOWL4rCipRwnbphJqZFyJZcpY4gk6fN0tHdi5HRMfU5Q4+apT7uy9jb2U20yunqMer5r0bfyz/sZ0K3HAZ5iIiIFhAPN2fcuyoUUUGeuoAoJpcxpSn40hhf3L4kCK5O9mriVQqpRERk8aTrlZW1FVo7+tDe1av+Ii1DLu/qJg8OhoflYcJ4qEP9LiNAyXDmg4Mj2H+mVCdqziisgZuLPcKCpUXppdEcB4eGsPNwLp555ySGhkewbmkcNq2IR1J0EDxdna65K51e+/SgxtViLmr6yOh4VzBF/j2WVYZfv3YUNU2dWLEoEretSsTiuFAEeLtO3EOvFD252hQJBE2ex9HeTu2jlQ7c9Bj7Z+w2ba0+ZxnFVz4LV2cH2IznHboWvKPTtWCQh4iIaAGRPvqJYV6w109DTXQBc1Ip000VGuNCPPRTShYIiYjIy8MNDra26DEO4mR2uR7NaSZNrR0or2nRARozT3dXbFwWo+4/9jq5cVVdM45nV+huXzJa7eRW8VX1bXh1bxaqGzv0gCaL4kLg4mwaxUvPpQMwk8Mi05mm6UVOv4GpSTK8uLlL13SyaMlXMyrNaJTunj68prblhNrWtalRWLkoEt4erjoIIy4tZ+qKLk29QnctmaLeLoGkyfP4+3joLmuSk6eyoVMPMz+d5ACSz1cSL8eH++uAz9Xoz9i0SqKrYpCHiIhoAZHC5OQC9YRpf5IkjURERMLb0xURQd6wtrHGe8cLcTSrFD19/ROtXkRf/wDeO1qIvin5akz3nPVLoxAT6oPmdgNe3J2F9u5+PTT49GHqC8sbUdXYoUexCg7w1C2IzHQuGfWvrHLyeqcav3dNm+zs6KBbvnQZBvRIuZMZ+wfRP2jqntw/nthZ1DW1o7i6VecCig711cswkwCLmeQOmk5a+UhYanDkUsugy+gbsulHs8hQf70uSTh9IqcaLR09U9YlhoaH0dkj+ZEcsC4tUrfmuRq9DbNsBtF0DPIQEREtcAznEBHRlUgw5t71iQj0dkVFfQee3XEab+zLRH5pHZpau1FYVo9XdmegpqlLD08+uQuWCPH3xvq0CD2i1NHsSiRG+JkSLk/rftU/OKSDGt29/ahW65HRrKQLV1lNE7JL6vXoWpIvToYur6pvUf9eCjRJcmf9r7ymBTX8vN10nqDqZgPqmzowODiM4eFhNLW04+A5Uxcymb2926jXOTo6qucZHR3TOYKKKlt0UGt4eAQNLZ04mVupR9eS6TLyWFNbJzq6uvXvVmqfnNTnJd2oKhsNuvWToceIgtJaHVDSxrdPAkGTg0Turs76c5buYJJU+VxBFfokSd442a+qhnbUNXdiRVIIliVFTOQGmggmyaInLdPM3PJIr2+G6URmNk8p4z8TERHRAnQ4uxZhPvaIDPHTzcSJiIim8/Vy1QGHktoW1DZ3o7y2DTnF9bo708Fzxahv6cY9G1KQHBMM+2ktdGRkJxmZ6/C5cv1g4asPr0NEsM9lOXYGBgZxIqcKTe09aO7oRXePEecKalBQ2aQTNpfWtOoAz+DwKPoHBhAVIkOFO2JkZASHzhYjo7BWd7damxaJ0AAvvV5xcWwUx7MrUd/arQM6EszJVPOeK6zW3chKa9vR3tWnR82S8IenqyPc3RzVvlWiUW1LU4cBXT39yC9rROaFGjWPFXLLGvS2DKlt6TIYERbgqUfblZawRVUtuFDZjGb1XhnwoKC8US3TAcH+XnoQl7LqJrx/vBBtap3RIT5YkhCqPh973c3M39sVPX0DKK5uQWObAb4ejgjy89DdxGoa2vHy3izdWuqz21cgOTZEj8IlQalTOWVqH6vQPziCjUtjpuz/4OAQ3jyYjQp1zGT+jcui4evpNtH1jGgyBnmIiIgWuEPZtQj3ZpCHiIhmJyNlhfp76KT8xv4hdPUMoLWzVwdMQvzccN/GxVi/LBau4zl0JpPfpZXKhYomJEX5YdvaZD1a7XRu6r3AGNq7jLqrkrSe8XS11y1WJIdPfXMXjIPDCPJxxfqlsYgI9kNvnxEZeWU4X1Sjgx0STLG2vgg7a2t4ujnpoIZsk7QQamzrRm1Tlw6ejIwMIy0hDEsTQvRIXxIPWRwbiGWJoQgP8ja1SLKzRk9vv97PDoMR9rZWSI0LwarUKDS1delWOpLHbm1aFJJigvVnJIErdxcHndOntbMP/QODiAnzVe+JVp+dAwrKanRAplXtn4eLvV6mldVFeLu76ECPBK1C1Ofs5myv9teAqoYOVDd24nxxnW45Ja2k7l6fglWLo+Gslmfo7cUZtbysC9UYHBpWy3HU+y8jg8n+S4unjLxyFFc1wtHeSm2DLextrPRIZRKU4n2fprO6OFNbMCIiIlow/uXZk1gX74rNK5Iuy49ARERkJlU/GV2rrLZVd1uSxMASaJDRs6RVjfw8Y963cZkFVbpFT0x4gA6+TCfLb1PLl2HLZT3urk6IDPJGaIC3TEV2cS2aO3p0fqD4iECdu8fYP4D65k509fbrxMrSBUq6Zvl6uiLQ12PivibLyy6qQUu7AU5qO8MCvZEQGQBbayuczKnQ2y3LDfb31O+RYE13rxElVc1qX7vg4GCHUDVN9lPWm19Wh6r6dvh5uyMlJkgHrcz7LomTJQG1BGfs7azVegJ1UmUZS6uxtUvtY4/67Eb0/sp6JFAUqrbHvAwJSLV396G0ulXN36G7V0mrGy8PF7WNPgjy89LbKKuTIFJdU4fu4iajcknt3M5WAlzOuuWQQe2D7Htv/6Ba7kW9fEnW7K+2W7rMMchD0zHIQ0REtMD967MnsZZBHiIiukaS12VoaBhjo2OwsbXRARtzgONKJKeNBCtkGPArza1z4YyOwNbWdkreHmmpI4EMac0yvavXtZCkxbINEgSyszUNVy7VWcnDI92oZgp4SMBFgjY21uZh4qf+XZJDz7QtUkuW7ZX5r7a/s5F1SOscnetHLUDu0fKZEN1M1//NIiIionlFP63hIxsiIrpGkndGuiY5OzuOtyi5thCGBFJ0oGT899lILhkHe/vLEjPLe82tbD4Mezs7uDg76WWb89HItjs5OszaokXWJfNLYGjybpr/Ptu2yLzynmvZ39nIsmXbXF2c9HYzwEMfBQZ5iIiILMGHLYESERERkcVgkIeIiGiBY3yHiIiIiASDPEREREREREREFoBBHiIiogWOOXmIiIiISDDIQ0REZAnYZ4uIiIjolscgDxER0QLH+A4RERERCQZ5iIiIFjh21yIiIiIiwSAPERGRJWBzHiIiIqJbHoM8RERECxzjO0REREQkGOQhIiIiIiIiIrIADPIQEREREREREVkABnmIiIiIiIiIiCwAgzxERERERERERBaAQR4iIqIFjkOoExEREZFgkIeIiMgScIgtIiIiolsegzxEREQLHOM7RERERCQY5CEiIiIiIiIisgAM8hARERERERERWQAGeYiIiIiIiIiILACDPEREREREREREFoBBHiIiogWOQ6gTERERkWCQh4iIaKG7yAgPERERETHIQ0REtPBZWXEcdSIiIiJikIeIiGihY3yHiIiIiASDPEREREREREREFoBBHiIiIiIiIiIiC8AgDxER0QK3OsEb4QFesLHmbZ2IiIjoVmZ1URn/mYiIiBag7p4+ONjZwsHBHlaShJmIiIiIbkkM8hARERERERERWQC26yYiIiIiIiIisgAM8hARERERERERWQAGeYiIiIiIiIiILACDPEREREREREREFoBBHiIiIiIiIiIiC8AgDxERERERERGRBWCQh4iIiIiIiIjIAjDIQ0RERERERERkARjkISIiIiIiIiKyAFYXlfGfiYiI6DrJbXTyndTKSl7q/65i+vvMrvX9VyLL7ujqRV//IAL9PGFvZzs+hYiIiIgsGYM8REREH9Lw8DDOF9WjtasXIyNj+m821lZIivZHRLAvbG1s9N+mGx0dRWFFE5rae2AcGJaojP67vZ0NAnzckBwdBEcHO/23D6O1vQu/e/Mkaps68eQDq5CeEgU725m3hYiIiIgsB7trERER3QAHO2sMDg7i+Pky/P6tE3j6lSP43RsnUNfUibGx2Z+jONhaw94GyCyo0u87nFGM0ZFh/fcba8cDGPsHcbagBoezytHY2qW2wxSAIiIiIiLLZvOUMv4zERERXQdra2t4uTsjwMcd3u4uyCmpR0FlE6oaOuBoZ43EqAA4Othf1v1Kfnd3cdTvGx4ewo4jebh/0yJsWZmAYOleZW93Q122pAWRFcYQHeyJzcsT4evlprb1RkNHRERERDTfsSUPERHRhySBGAcHe/j7eGD9slg8tCkJrk726DEO4s2DuXjrQLbOizOdvE8COa4uTkiNDYKTgx2WJITCx9NNL+9GAjxClnv/pjR88cF1iArzg40Nb/dEREREtwKW+oiIiOaABFJiQrzg7GAHFyd7NLT14Pld53AqpwKDQ8Pjc13Owd5W58uRlj1z2drG08MVgX7eatlMukxERER0q2CQh4iIaI5IAxwPV0fct3ExvN2dUNvUhWfeOY284mqMjIyOzzWVvEeCO0yMTEREREQ3ijl5iIiI5khDcztO5dXiyw+vhY3VRZTVt+tAT09fP1JiAuDu6nxZa50+oxGvH8jFQ1tS4eHmPGNXrf6BIVTUtiC3pBYlVY2orGvVI3Q5OdjD1tbmsvcMD4+gtbMbp3PKYWtjBVdnp4n1yqCaxv4BtZxmFFbUo6axHd09RvQPDqO6oRXeHq6Xde+SxM3tnQaU1jSjoKwe5TUtMPT261ZLDjeYP4iIiIiI5g6DPERERHOkobkVx7Kr8cjWpUiODkB7Vy/K69pR09ylh1hPjg6Ei5PDlKDIlYI8EpBpbu/Cqx9k4UJ5I6wujsDQa8TZ/DocOFuKprZuhAW4q2U66feNjIygvLoRu05cwFsHcrDreAHiwn0QHuQ7EbjpNPTirYM5aGhshYOdDQaHhpBV3IBdxwpR1dCO5ckRU4ZvlxZIx89X4si5EgwNDqCtw4Cj5ytwKKNMzy/rl+AVAz1EREREHz921yIiIppjEvCIDgvAlx5ci5TYIAwOj2Ln0QK8uT8HXT1GHby5FpV1bfj9mydRWN6I5JhArF0aj00rknDnuhQYjEN4aU8m/vj2STS3d+pljoyOwtA3gMr6Vhw4W4L8imb09Q9NrE+CQHtOFCCnqBoJ0cFYsSgGy+WVEonOnn7UNhvUMi4Nty6thQ5lFOPouWIE+bojLSECG9ITsXV1Etq7jXhD7c+f3z2Llvbua94nIiIiIrp5GOQhIiK6CaTlTEpsCJ68fxUig7zR3dOP1/afx5GMIgwOjYzPNTvpcvXWwWy8d7QAG5bGYP2yOESE+OvXxvRYfPrOpRi7eBFvHy7A4bPFOrmzJFmODgvExqXRcHd1gJX6b7KBwSHsP1Oilj2K+Mgg+Pl4IMDXE6sXR+GT29Lg5W5qEWTW3NaFlz/IRESwFzavSEB0eKB+bVuTjEe3LtYBoZ3HCnCuoBpDanuJiIiI6OPFIA8REdFNYm1tjduWx+PLD61GgI876pu78Ie3T+NcfuVVgyLFlY3Yf6ZYh2nSUyLg7OhgmqDY2Nhg/bIYLEsIQZ9xEG8fykddU7sO0Hh5uCAuzA9uzo6XdaGSljyNbQaU1HbgZHbVxPDuEpBanRqJtakRcLC/lAB6/6lCFJY3IcTPDT29vWhobkN9UyvaOroQ6usKRwdb3aLnXGG1bq1ERERERB8vBnmIiIhuIhdnR2xfl4JHb1+sh0kvrGjBszvPoriqcUrXqMmkm9Tx7Eo0tHbDx9MF7q5TW9gILw9XrEmN1EOwF1Y2o7KueWJ5kozZxury0bpsbW0R7OehlmvAM++cwit7MlBe04yh4WF4erhh0/J4ncxZyDacyqvWLYTKattwJq8Kp3IqJ141zQYsSQjGurQoeKj9mrp1RERERPRxYJCHiIjoJnNzdcZjd6Zj66oEODna4lReFZ7beQYt7V0YG7s8l4101SqubsXg0Cgc7W0v63YlJOgTE+anAzrGwWGU1XXOGjQyc3J0wGNb0xAV4o0LVU34k9qG//7TfrzwXgZqGtrg6eYykaC5zziA1i4jhtUyo8P8kRAVgoToS6/li2PwF49sxLc/cxvu3ZQGp0nJmomIiIjo48EgDxER0ZwxBWOmNbrRAZmQAB98ZvtyrE2NhCRI3nu6GK/tzURLZ+9lSYtHxySBcr/OudM3MDxrUuNAH3fYqGWPjo6ho2dwUsBINuCi/m8y6ea1YVkcvv7Yety7LhH9gyM4mFGKP75zCj9/6bBOsixDqYteY7/+WfIHhfp7IiU2GIvjQiZeqfGhWJYUjvTkCMRFBupgExERERF9vBjkISIimjPjQZWZYzJIjgnClx9ag5hQX/T1D+O1fTnYcaRA/zz5LZLLx9nBXgeLZBj22VrouDg7wMraCtZqRh9XR/3vZNNiTZqzsxNuX5WEr31yI/76sXXYsCQSHd19+OBUMX79+jGUVjXpoJEkcZagkASOymqbMTwye86dPmM/R9ciIiIimgcY5CEiIppjs4U7JCdOenIkvvLgKj1iVVN7D949dgHdvQPqTZfeJQGW8EAP2NnYwNA3qJMqzxTo6R8Y0itzd3VEfKSfep/5ti7LkhDP1DDPwOAg8krr1VQrxEUE4hNbl+Ebn96CL9y3Cu4uTmpaI45lFulRuDzcXODj7qgDTruOF6G5rXvGrmVd3T04V1B1TSOGEREREdHNxSAPERHRHJI4yOjoyKyBHjs7W9yxNhmP37EMnq5OaO3o0a1kJs8vLWjWpkXC081RB3dOZpdjQAI60zS2dmNkbAwpUQGIDQ+AzVW6TA0ODGLvqQvo6TO1vJFcQUsSw/GFB1Zj07Jo2NpYo67ZlNvH3t4OqXFBsLez0QmY3zqYi47u3imBnhG13YcyitBpMLIlDxEREdE8wCAPERHRHBkcvojh0VEMDA1PaZkznauLM+7fnIoHN6fAbXxkqsltbiSHT1pCONamRukgy/6MUpTXNulcPmYyItax85VwUNMf2rIYft7uE921JBBjzsczOSgjOX4yCqqQXVQ70f1K1hXo64HU+GC1LluE+HvqYI/YtiZJdy3rNQ7i9X3Z+O3rx3EwowglFXXIL6nGS7sycDqvFjHh/jp4RUREREQfL5unlPGfiYiI6DpJCxYJuAwMDOiuV+cKaxET5osQPw/YWFvr7k7Thz8XLk6OCAvwRFNrN2qau3RSZk93l4l5pSWNt7sTGlq6UFLTBkPvAMID3OFob6PWN4SjmWXYc7IIW9Kj8cCWJfBwc9bvk23JKa3HnlNFpvcEeSE5KlCPfjU4NITn3s9AdWMXvNwc9fIlGGXo7ceeE4XoHxrFZ+5ZgZBAb73dnmqZ9rZWKK1t08O5y7/F1c3ILanHiZxK5JY14vaVCVi5KIqjaxERERHNAwzyEBER3QAJ8lyoaEJRZTPyypv1KFMyDLnVRVNjHk93Zx0wmU5iORJE8fdyRU1TJ+5cmwQ3F6cpASFfNS0s0Bu2amHlDR0or2tDoVpPTkk9mtq6dHeq+zenIcDXU69jZGQEpTWtOHehDsaBYfj7uMHJ0U697OHtobZDLTq3tAmDwyO6q1dVYycKyhuRV9ag8/vctS4ZKxdHwdHBXq9fuo2FBnjCR+2DNPzpU/NIsKdXLVv+dpfa5jvXJuv9mCmQRUREREQfLStVOJ29PTkRERFdkdxGa5s6YegbgLF/SHeJsra2gquTvQ7wBMgw5zMEecyGh0dwrrAGaQkhcHZ0GP/rJdLdqr6pHWV1bWjvNqplA3Y20q3KHdGhvjpBsjnAMjo6isY2A1rMeX7UHV4mubtIqyEv2NlZI7+0UXcpk1Y+MoqWTJdcPkFqO6NCffQ2TA/YGPsHUVLdgvrWbt3qx8XJAaH+HoiL8IersyMDPERERETzBIM8REREN+hKt9JrCYCMjY3N2NpnMpnHlF/nol7mbN3AZt8WKzW/KWgk/8p817I8M/P88q/MdrX5iYiIiOijxyAPEREREREREZEFuPJjQyIiIiIiIiIiWhAY5CEiIiIiIiIisgAM8hARERERERERWQAGeYiIiIiIiIiILACDPEREREREREREFoBBHiIiIiIiIiIiC8AgDxERERERERGRBWCQh4iIiIiIiIjIAjDIQ0RERERERERkARjkISIiIiIiIiKyAAzyEBERERERERFZAAZ5iIiIiIiIiIgsAIM8REREREREREQWgEEeIiIiIiIiIiILwCAPEREREREREZEFYJCHiIiIiIiIiMgCMMhDRERERERERGQBGOQhIiIiIiIiIrIADPIQEREREREREVkABnmIiIiIiIiIiCwAgzxERERERERERBaAQR4iIiIiIiIiIgvAIA8RERERERERkQVgkIeIiIiIiIiIyAIwyENEREREREREZAEY5CEiIiIiIiIisgAM8hARERERERERWQAGeYiIiIiIiIiILACDPEREREREREREFoBBHiIiIiIiIiIiC8AgDxERERERERGRBWCQh4iIiIiIiIjIAjDIQ0RERERERERkARjkISIiIiIiIiKyAAzyEBERERERERFZAAZ5iIiIiIiIiIgsAIM8REREREREREQWgEEeIiIiIiIiIqIFD/j/Abn3UqJmThlCAAAAAElFTkSuQmCC)"
      ]
    },
    {
      "cell_type": "markdown",
      "metadata": {
        "id": "DRfZVjra-uT5"
      },
      "source": [
        "**Figure 5.2:** Scheme of the experiment. Blurring will be approximated with a linear system, and sensor noise\n",
        "with the additive noise. Other noises are neglected. Restoration filter is used to try to obtain the original\n",
        "(input) image. We emphasize that this is only an estimation, which is only as correct as the assumed model.\n"
      ]
    },
    {
      "cell_type": "markdown",
      "metadata": {
        "id": "Fj4eKexj_Z9g"
      },
      "source": [
        "# 5.3 Modeling the degradation as a FIR filter\n",
        "A linear system that represents the degradation function will be modeled as a [FIR (Finite Impulse Response) filter](https://en.wikipedia.org/wiki/Finite_impulse_response) which can be defined with its impulse response. For constructing different responses, we can use OpenCV and Numpy.\n",
        "\n",
        "Since we will model all degradation as linear spatial invariant systems, the result obtained with this degradation can be obtained with linear convolution. If we want to apply several different degradation models (for example atmospheric blur and camera shift), we need to perform several consecutive convolutions. The response of such complex system can also be obtained by calculating linear convolution of each of the systems' responses.\n",
        "\n",
        "In the following example, the weak atmospheric blur is modeled with a Gaussian-shaped filter, while the uniform camera shift in the horizontal and vertical direction is modeled with a 20 pixel shift per $x$ and $y$-axis simultaneously."
      ]
    },
    {
      "cell_type": "markdown",
      "metadata": {
        "id": "xFbh2mZStFYQ"
      },
      "source": [
        "## Example:"
      ]
    },
    {
      "cell_type": "code",
      "execution_count": null,
      "metadata": {
        "id": "_Kn6TL3jvWOx"
      },
      "outputs": [],
      "source": [
        "# DEFINITION OF THE DEGRADATION SYSTEM\n",
        "h1=np.identity(20)/20                       # uniform shift\n",
        "h2=cv2.getGaussianKernel(ksize=5, sigma=1)  # 1-D Gaussian kernel\n",
        "plt.stem(h2)                                # display the 1-D Gaussian blurring imp. response in the spatial domain\n",
        "plt.show()\n",
        "\n",
        "h2_2D=np.outer(h2, h2)                      # 2-D Gaussian kernel\n",
        "H2_2D=fft2(h2_2D)                           # frequency response of the Gaussian blurring\n",
        "plt.imshow(np.abs(H2_2D), cmap='gray')      # display the 2-D Gaussian blurring transfer function (OTF)\n",
        "plt.show()\n",
        "\n",
        "h=convolve2d(h1, h2_2D)                     # the total blur is the convolution of the two impulse responses\n",
        "print(h.shape)\n",
        "plt.imshow(np.abs(h), cmap='gray')          # total impulse response in the spatial domain\n",
        "plt.show()\n",
        "\n",
        "# APPLICATION\n",
        "img = cv2.imread('/content/drive/My Drive/Images/moon.tif', cv2.IMREAD_GRAYSCALE)\n",
        "imgB = convolve2d(img,h)                    # apply the blur\n",
        "plt.imshow(imgB, cmap='gray')               # display the degraded image"
      ]
    },
    {
      "cell_type": "markdown",
      "metadata": {
        "id": "ZW6MSzuvtFbb"
      },
      "source": [
        "### **5.3.1 Problems**"
      ]
    },
    {
      "cell_type": "markdown",
      "metadata": {
        "id": "SD9gFe_JtFeV"
      },
      "source": [
        "1. Define the PSF and the OTF for typical blurs: 1) weak atmospheric blur - see *Image Restoration* lecture presentation, 2) vertical and horizontal\n",
        "shift (for several pixels) simultaneously (a single function that covers both shifts)."
      ]
    },
    {
      "cell_type": "code",
      "execution_count": null,
      "metadata": {
        "id": "N2J257efyccR"
      },
      "outputs": [],
      "source": [
        "# Write-in your solution"
      ]
    },
    {
      "cell_type": "markdown",
      "metadata": {
        "id": "7C0kI3Jc0jX-"
      },
      "source": [
        "2. Define the PSF and the OTF for a combination of the 2 mentioned blurs: weak atmospheric blur using α=0.5 +\n",
        "vertical and horizontal shift for 10 pixels. The function obtained here will be used in the following\n",
        "problems in this group.\n"
      ]
    },
    {
      "cell_type": "code",
      "execution_count": null,
      "metadata": {
        "id": "-SH6t7PV0xLt"
      },
      "outputs": [],
      "source": [
        "# Write-in your solution"
      ]
    },
    {
      "cell_type": "markdown",
      "metadata": {
        "id": "KM_zva5m0l4Z"
      },
      "source": [
        "3. Apply the obtained PSF on the image salona.png."
      ]
    },
    {
      "cell_type": "code",
      "execution_count": null,
      "metadata": {
        "id": "1A8ozOEh0xWU"
      },
      "outputs": [],
      "source": [
        "# Write-in your solution"
      ]
    },
    {
      "cell_type": "markdown",
      "metadata": {
        "id": "pp3g3bmd0oxs"
      },
      "source": [
        "4. Apply the obtained PSF on the image klis1.jpg for each of the channels separately. Display the obtained RGB image. Explain where does the black frame come from. What does its width depend on?"
      ]
    },
    {
      "cell_type": "code",
      "execution_count": null,
      "metadata": {
        "id": "H8Fvl3ek0xfJ"
      },
      "outputs": [],
      "source": [
        "# Write-in your solution"
      ]
    },
    {
      "cell_type": "markdown",
      "metadata": {
        "id": "pGliIhWgyhCM"
      },
      "source": [
        "**WRITE YOUR ANSWERS HERE**"
      ]
    },
    {
      "cell_type": "markdown",
      "metadata": {
        "id": "XD0_P_qptFkj"
      },
      "source": [
        "# 5.4 Inverse filter\n",
        "Inverse filter is defined with the Eq. 5.1.\n",
        "Since this expression is literally calculation of an inverse, the obtained filter can be unstable. Besides\n",
        "unstability, for most of the purposes this filter is not really efficient due to its great sensitivity to noise.\n",
        "Because of the inevitable quantization to the definite number of discrete levels, even in the case of negligible\n",
        "additive noise, the quantization is always present.\n",
        "To get the error (due to the quantization or other degradations) we can calculate mean square error (MSE), as given in the following example.\n",
        "Sometimes we also wish to know the power ratio of signal and noise, or even the power ratio of original signal and reconstructed signal. Note: Power ratios can also be calculated in decibels!\n"
      ]
    },
    {
      "cell_type": "markdown",
      "metadata": {
        "id": "-gtPkqpb0i-I"
      },
      "source": [
        "## Example:"
      ]
    },
    {
      "cell_type": "code",
      "execution_count": null,
      "metadata": {
        "id": "1bU44qCfn0g3"
      },
      "outputs": [],
      "source": [
        "imgR = restore(imgB, h)               #restoring the image using the function you wrote - problems 5.1.1\n",
        "\n",
        "# MSE\n",
        "img = img/255                         # switch to float and rescale to [0,1]\n",
        "imgR = imgR/255                       # the second image as well\n",
        "print(img.shape, imgR.shape)\n",
        "err = np.mean((img-imgR)**2);         # calculate mean square error\n",
        "\n",
        "# POWER RATIOS\n",
        "imgP = np.abs(fft2(img))**2           # power spectrum of the original image\n",
        "imgP_mean = np.mean(imgP)             # mean power of the original image\n",
        "imgRP = np.abs(fft2(imgR))**2         # power spectrum of the restored image\n",
        "imgRP_mean = np.mean(imgRP)           # mean power of the restored image\n",
        "PR = imgP_mean/imgRP_mean             # original-to-restored image power ratio\n",
        "\n",
        "print(\"err:\", err, \"\\nimgP_mean:\", imgP_mean, \"\\nimgOP_mean:\", imgOP_mean, \"\\nPR:\", PR)\n",
        "\n",
        "# ADDITIVE NOISE\n",
        "#noise = np.random.normal(0, 0.001, imgB.shape)\n",
        "#imgBN = cv2.add(imgB, noise)                     # add the zero-mean, Gaussian noise with variance of 0.01\n",
        "#imgBN[np.where(imgBN>1.0)]=1.0                   # adding noise can cause pixel values to be higher than 1, we need to correct that"
      ]
    },
    {
      "cell_type": "markdown",
      "metadata": {
        "id": "piuTuJTtCzIj"
      },
      "source": [
        "Since it can be difficult to visualize the filter performance by comparing whole images before and after\n",
        "filtering, we can compare only their columns or rows, which are 1D signals:"
      ]
    },
    {
      "cell_type": "markdown",
      "metadata": {
        "id": "8ap6ZaiUC2D9"
      },
      "source": [
        "## Example:"
      ]
    },
    {
      "cell_type": "code",
      "execution_count": null,
      "metadata": {
        "id": "UZPHjuAtC3SG"
      },
      "outputs": [],
      "source": [
        "print(imgB.shape) # get the image size (height and width)\n",
        "rowB = imgB[128,:] # get the 128th row of the degraded image\n",
        "rowR = imgR[128,:]; # get the 128th row of the reconstructed image\n",
        "plt.plot(rowB,'r') # show them simultaneously\n",
        "plt.plot(rowR,'b')"
      ]
    },
    {
      "cell_type": "markdown",
      "metadata": {
        "id": "RBqxOlfb3iXA"
      },
      "source": [
        "### **5.4.1 Problems**\n",
        "1. For the selected degradation (its PSF), display the result of inverse filtering for a case of: 1) degradation **without** additive noise and 2) degradation **with** additive noise for 2 images."
      ]
    },
    {
      "cell_type": "code",
      "execution_count": null,
      "metadata": {
        "id": "3GtwR5HUDT9E"
      },
      "outputs": [],
      "source": [
        "# Write-in your solution"
      ]
    },
    {
      "cell_type": "markdown",
      "metadata": {
        "id": "JyyJt5sTDTeU"
      },
      "source": [
        "2. Calculate the MSE (between the reconstructed and original image) for both cases from the previous\n",
        "problem."
      ]
    },
    {
      "cell_type": "code",
      "execution_count": null,
      "metadata": {
        "id": "LLufsGfJ3ixk"
      },
      "outputs": [],
      "source": [
        "# Write-in your solution"
      ]
    },
    {
      "cell_type": "markdown",
      "metadata": {
        "id": "DUw-JCNQDniO"
      },
      "source": [
        "3. Try the inverse filtering as previously for 2 cases, but with 8-bit quantization (with values 0 to 255) of the degraded image.\n",
        "Display the results."
      ]
    },
    {
      "cell_type": "code",
      "execution_count": null,
      "metadata": {
        "id": "wegVXpU9D-FB"
      },
      "outputs": [],
      "source": [
        "# Write-in your solution"
      ]
    },
    {
      "cell_type": "markdown",
      "metadata": {
        "id": "yvRPaWt9D-mW"
      },
      "source": [
        "4. Calculate the MSE (between the reconstructed and original image) for both cases from the previous problem. How does the quantization influence the filtering result?"
      ]
    },
    {
      "cell_type": "code",
      "execution_count": null,
      "metadata": {
        "id": "tmBx-eZjEK5l"
      },
      "outputs": [],
      "source": [
        "# Write-in your solution"
      ]
    },
    {
      "cell_type": "markdown",
      "metadata": {
        "id": "A5Q8xQHg3idz"
      },
      "source": [
        "**WRITE YOUR ANSWER HERE**"
      ]
    },
    {
      "cell_type": "markdown",
      "metadata": {
        "id": "WKpGNxZN3ihk"
      },
      "source": [
        "# 5.5 Pseudo-inverse filter\n",
        "Pseudo-inverse filter is a stabilized version of the inverse filter. Sometimes a transfer function of a pseudoinverse system is additionally modified by multiplication with a transfer function of some low-pass filter, to\n",
        "limit the response only to the low frequencies.\n"
      ]
    },
    {
      "cell_type": "markdown",
      "metadata": {
        "id": "4t-ZDdH9FuCZ"
      },
      "source": [
        "### **5.5.1 Problems**"
      ]
    },
    {
      "cell_type": "markdown",
      "metadata": {
        "id": "AkFUSioAFuGK"
      },
      "source": [
        "1. For the selected PSF, calculate the result of pseudo-inverse filtering for a case of: 1) degradation without additive noise and 2) degradation with additive noise for the same 2 images as before. Display the results.\n"
      ]
    },
    {
      "cell_type": "code",
      "execution_count": null,
      "metadata": {
        "id": "HrvezfqKFuxR"
      },
      "outputs": [],
      "source": [
        "# Write-in your solution"
      ]
    },
    {
      "cell_type": "markdown",
      "metadata": {
        "id": "OHmqkB3wFuNK"
      },
      "source": [
        "2. Calculate the MSE (between the reconstructed and original image) for both cases. Compare these results with the results obtained with inverse filtering.\n"
      ]
    },
    {
      "cell_type": "code",
      "execution_count": null,
      "metadata": {
        "id": "oDHiu-5OFu0G"
      },
      "outputs": [],
      "source": [
        "# Write-in your solution"
      ]
    },
    {
      "cell_type": "markdown",
      "metadata": {
        "id": "93AyWg_mIcD3"
      },
      "source": [
        "**WRITE YOUR ANSWERS HERE**"
      ]
    },
    {
      "cell_type": "markdown",
      "metadata": {
        "id": "DzM_WFX9YL5h"
      },
      "source": [
        "3. Try the pseudo-inverse filtering as previously for 2 cases, but with 8-bit quantization (with values 0 to 255) of the degraded image. Display the results."
      ]
    },
    {
      "cell_type": "code",
      "execution_count": null,
      "metadata": {
        "id": "43-OY9SdFu5Y"
      },
      "outputs": [],
      "source": [
        "# Write-in your solution"
      ]
    },
    {
      "cell_type": "markdown",
      "metadata": {
        "id": "z5hzMr7KYq4D"
      },
      "source": [
        "4. Calculate the MSE (between the reconstructed and original image) for both cases from the previous problem. Compare these results with the results obtained with inverse filtering. How does the quantization influence the filtering result?"
      ]
    },
    {
      "cell_type": "code",
      "execution_count": null,
      "metadata": {
        "id": "y559OcNmYvt_"
      },
      "outputs": [],
      "source": [
        "# Write-in your solution"
      ]
    },
    {
      "cell_type": "markdown",
      "metadata": {
        "id": "kB8OZtIvYv2e"
      },
      "source": [
        "**WRITE YOUR ANSWERS HERE**"
      ]
    },
    {
      "cell_type": "markdown",
      "metadata": {
        "id": "mNMvdhOzbZoz"
      },
      "source": [
        "# 5.6. Wiener filter\n",
        "\n",
        "Assuming that the degradation model is a wide sense stationary process and that the noise is uncorrelated\n",
        "additive noise with a zero mean value, Wiener filter can be defined as:\n",
        "\\begin{equation}\n",
        "H_{w}[k, l]=\\frac{H^{*}[k, l]}{H^{*}[k, l] H[k, l]+\\frac{S_{N N}[k, l]}{S_{X X}[k, l]}} \\tag{5.3}\n",
        "\\end{equation}\n",
        "where $H[k,l]$ is the OTF, $S_{NN}[k,l]$ is the power spectrum density of the noise and $S_{XX}[k,l]$ is the power spectrum density of the signal. The asterisk $^{*}$ denotes a complex conjugation. The complete expression can\n",
        "be written in this form:\n",
        "\\begin{equation}\n",
        "H_{w}[k, l]=\\frac{1}{H[k, l]} \\frac{|H[k, l]|^{2} S_{X X}[k, l]}{|H[k, l]|^{2} S_{X X}[k, l]+S_{NN}[k, l]} \\tag{5.4}\n",
        "\\end{equation}\n",
        "Which can be rewritten as:\n",
        "\\begin{equation}\n",
        "H_{w}[k, l]=\\frac{1}{H[k, l]} \\frac{|H[k, l]|^{2} }{|H[k, l]|^{2} + \\frac{1}{SNR[k, l]}} \\tag{5.5}\n",
        "\\end{equation}\n",
        "Here, we denote the signal-noise ratio function with SNR. This last expression is more convenient\n",
        "for further consideration because from this expression we can see that Wiener filter can be obtained by\n",
        "cascading inverse filter and a filter whose transfer function depends on the SNR on the particular frequency.\n",
        "It means that for frequencies that are not affected by noise (1/SNR = 0), the transfer function will be equal\n",
        "to 1 (it will be transferred without attenuation), while all the other frequencies will be attenuated with some\n",
        "factor from the interval $[0,1 \\rangle$.\n",
        "\n",
        "The problem with determining the Wiener filter transform function is the estimation of the power spectrum density (ie. the autocorrelation functions of the signal and the noise) because usually we only have\n",
        "access to the degraded image. Therefore, for the 1st approximation, we will assume the constant ratio K of\n",
        "the power spectrum densities, making the transfer function look like this:\n",
        "\\begin{equation}\n",
        "H_{w}[k, l]=\\frac{1}{H[k, l]} \\frac{|H[k, l]|^{2} }{|H[k, l]|^{2} + K} \\tag{5.6}\n",
        "\\end{equation}\n",
        "\n",
        "Here, parameter K can be approximated from the degraded image. Notice that for the small values of K,\n",
        "Wiener filter is starting to look like inverse filter. An example of additive white noise removal with a use of\n",
        "a Wiener filter is given with the following example. The [skimage.restoration.wiener](https://scikit-image.org/docs/dev/api/skimage.restoration.html#skimage.restoration.wiener) function is used."
      ]
    },
    {
      "cell_type": "markdown",
      "metadata": {
        "id": "BPfpbiXcf01j"
      },
      "source": [
        "# Example"
      ]
    },
    {
      "cell_type": "code",
      "execution_count": null,
      "metadata": {
        "id": "ZasPwydBf3z8"
      },
      "outputs": [],
      "source": [
        "img = cv2.imread('/content/drive/My Drive/Images/kljakovic2.png', cv2.IMREAD_GRAYSCALE)\n",
        "\n",
        "img = img/255                                    # and of type float with values in the interval [0,1]\n",
        "imgB = convolve2d(img,h)                         # blurring with atmospherical noise + camera shift\n",
        "\n",
        "noise = np.random.normal(0, 0.001, imgB.shape)\n",
        "imgBN = cv2.add(imgB, noise)                     # add the additive noise\n",
        "imgBN[np.where(imgBN>1.0)]=1.0                   # adding noise can cause pixel values to be higher than 1, we need to correct that\n",
        "\n",
        "plt.imshow(imgBN, cmap='gray')                   # display the noisy image\n",
        "plt.show()\n",
        "\n",
        "imgR=skimage.restoration.wiener(imgBN, psf=h, balance=0.0001)    # apply Wiener filter, note that balance=/=K\n",
        "plt.imshow(imgR, cmap='gray')                    # display the restored image\n",
        "plt.show()"
      ]
    },
    {
      "cell_type": "markdown",
      "metadata": {
        "id": "gHmAuXw1hhsb"
      },
      "source": [
        "## **5.6.1 Problems**\n",
        "1. Using the code you wrote for pseudo-inverse filter, write the function to implement the Wiener filter described with the last equation. In the following problems, we will assume that we don’t know the values of the signal and noise power spectrum densities, and that we can model them with a constant K.\n"
      ]
    },
    {
      "cell_type": "code",
      "execution_count": null,
      "metadata": {
        "id": "BKngk2BEhyZT"
      },
      "outputs": [],
      "source": [
        "# Write-in your solution"
      ]
    },
    {
      "cell_type": "markdown",
      "metadata": {
        "id": "HJIdgrCRhzp_"
      },
      "source": [
        "2.***  *Determine the result of the Wiener filtering in the case of a Gaussian noise with zero mean value. How can you estimate the parameter K?*\n",
        "\n"
      ]
    },
    {
      "cell_type": "code",
      "execution_count": null,
      "metadata": {
        "id": "cp49wkXrh2WD"
      },
      "outputs": [],
      "source": [
        "# Write-in your solution (won't be graded)"
      ]
    },
    {
      "cell_type": "markdown",
      "metadata": {
        "id": "_ecIemgribjG"
      },
      "source": [
        "**WRITE YOUR ANSWERS HERE**"
      ]
    },
    {
      "cell_type": "markdown",
      "metadata": {
        "id": "Lu4EDTqmh35t"
      },
      "source": [
        "3.*** *For the PSF used in previous groups of problems, determine the result of the Wiener filtering in a case\n",
        "of additive noise .*\n"
      ]
    },
    {
      "cell_type": "code",
      "execution_count": null,
      "metadata": {
        "id": "5N9dCRKGh62B"
      },
      "outputs": [],
      "source": [
        "# Write-in your solution (won't be graded)"
      ]
    },
    {
      "cell_type": "markdown",
      "metadata": {
        "id": "YZskrt-Hh7za"
      },
      "source": [
        "4.*** *For the task 2 and 3 calculate the MSE between the reconstructed and original image.*"
      ]
    },
    {
      "cell_type": "code",
      "execution_count": null,
      "metadata": {
        "id": "BLjOvNrYh9zn"
      },
      "outputs": [],
      "source": [
        "# Write-in your solution (won't be graded)"
      ]
    },
    {
      "cell_type": "markdown",
      "metadata": {
        "id": "XKXCUcW9h-vM"
      },
      "source": [
        "5. *** *Compare the obtained results with the results obtained with inverse and pseudo-inverse filtering.*\n"
      ]
    },
    {
      "cell_type": "markdown",
      "metadata": {
        "id": "UZm7tcDkj4XR"
      },
      "source": [
        "**WRITE YOUR ANSWERS HERE** (won't be graded)"
      ]
    },
    {
      "cell_type": "markdown",
      "metadata": {
        "id": "WNOc5OEikNOG"
      },
      "source": [
        "6. Calculate the SNR ratio before and after filtering."
      ]
    },
    {
      "cell_type": "code",
      "execution_count": null,
      "metadata": {
        "id": "vcq5EgDekUiB"
      },
      "outputs": [],
      "source": [
        "# Write-in your solution (won't be graded)"
      ]
    },
    {
      "cell_type": "markdown",
      "metadata": {
        "id": "Xoo7BIwTkXu5"
      },
      "source": [
        "For estimation of the auto-correlation function, you are given the function *acf()*. For images\n",
        "containing natural scenes, we can assume that there is correlation between the pixels up to 30 pixels distant,\n",
        "so it is not necessary to calculate the full auto-correlation function (for all the pixel distances larger than\n",
        "30)."
      ]
    },
    {
      "cell_type": "code",
      "execution_count": null,
      "metadata": {
        "id": "0hB0FnxoEWB6"
      },
      "outputs": [],
      "source": [
        "def acf(img, dx_max=30, dy_max=30):\n",
        "    '''Calculates the autocorrelation function (ACF) for the image 'img'.\n",
        "    'dx_max' and 'dy_max' determine the maximum shifts for which the ACF\n",
        "    is calculated. The calculation is limited to shifts up to half of the\n",
        "    image because of unwanted marginal effects.'''\n",
        "    img = np.array(img, dtype='float')\n",
        "    n, m = img.shape\n",
        "    if dx_max > n//2:\n",
        "        dx_max = n//2\n",
        "    if dy_max > m//2:\n",
        "        dy_max = m//2\n",
        "\n",
        "    dx_max+=1                           # add one for shift=0\n",
        "    dy_max+=1\n",
        "    rxx = np.zeros((dx_max, dy_max))\n",
        "\n",
        "    # calculating ACF for desired positive shifts dx and dy\n",
        "    for dx in range(dx_max):\n",
        "        for dy in range(dy_max):\n",
        "            rxx[dx,dy] = correlate2d(img[:-dx_max,:-dy_max], img[dx:-dx_max+dx,dy:-dy_max+dy], mode='valid')\n",
        "            # correlation of two matrices of same dimensions using 'valid' mode gives only one value, a scalar\n",
        "\n",
        "    # the ACF is symmetrical so we can just fill in the results for negative shift values\n",
        "    rxx = np.hstack((np.fliplr(rxx[:,1:]), rxx))\n",
        "    rxx = np.vstack((np.flipud(rxx[1:,:]), rxx))\n",
        "    return rxx\n",
        ""
      ]
    },
    {
      "cell_type": "markdown",
      "metadata": {
        "id": "hf-l_uoOklGT"
      },
      "source": [
        "# Example"
      ]
    },
    {
      "cell_type": "code",
      "execution_count": null,
      "metadata": {
        "id": "NK3HkAd8kkKD"
      },
      "outputs": [],
      "source": [
        "img = cv2.imread('/content/drive/My Drive/Images/kljakovic3.png', cv2.IMREAD_GRAYSCALE)\n",
        "\n",
        "rxx = acf(img)                                   # calculate auto-corr. fcn for the distances\n",
        "                                                 # up to 30 pixel shifts is x and y-direction\n",
        "print(rxx.shape)\n",
        "plt.imshow(rxx, cmap='gray')                     # display the calculated auto-corr. fcn\n",
        "print(rxx[30,30])"
      ]
    },
    {
      "cell_type": "markdown",
      "metadata": {
        "id": "TyfuSaE-kz4R"
      },
      "source": [
        "## **5.6.2 Problems**\n",
        "*1. Degrade the image with the Gaussian noise with a zero mean value.* *italicized text*\n"
      ]
    },
    {
      "cell_type": "code",
      "execution_count": null,
      "metadata": {
        "id": "rH10LYhjlPUk"
      },
      "outputs": [],
      "source": [
        "# Write-in your solution (won't be graded)"
      ]
    },
    {
      "cell_type": "markdown",
      "metadata": {
        "id": "GP5MiCMAk661"
      },
      "source": [
        "*2. Calculate and display the auto-correlation function $R_{XX}$ estimated from the degraded image.*\n"
      ]
    },
    {
      "cell_type": "code",
      "execution_count": null,
      "metadata": {
        "id": "wSTff8Tjlb6p"
      },
      "outputs": [],
      "source": [
        "# Write-in your solution (won't be graded)"
      ]
    },
    {
      "cell_type": "markdown",
      "metadata": {
        "id": "GE2oho8dk-Fq"
      },
      "source": [
        "*3. Calculate and display the auto-correlation function $R_{NN}$ of the noise.*\n"
      ]
    },
    {
      "cell_type": "code",
      "execution_count": null,
      "metadata": {
        "id": "lgtgiy_1lctC"
      },
      "outputs": [],
      "source": [
        "# Write-in your solution (won't be graded)"
      ]
    },
    {
      "cell_type": "markdown",
      "metadata": {
        "id": "Uqq0KCqzlBQF"
      },
      "source": [
        "*4. Determine the result of the Wiener filtering, with the known auto-correlation functions of the signal\n",
        "and the noise (ie. with the known power density functions of the signal and the noise). *Hint:* Power density function is the Fourier transform of the auto-correlation. Power density should be used as the Wiener filter equations 5.3-5.6 suggest. *\n"
      ]
    },
    {
      "cell_type": "code",
      "execution_count": null,
      "metadata": {
        "id": "hIhhKsdGleKe"
      },
      "outputs": [],
      "source": [
        "# Write-in your solution (won't be graded)"
      ]
    },
    {
      "cell_type": "markdown",
      "metadata": {
        "id": "-S52OoVblDhX"
      },
      "source": [
        "*5. Compare the auto-correlation $R_{XX}$ calculated on the degraded and the restored image.*\n"
      ]
    },
    {
      "cell_type": "markdown",
      "metadata": {
        "id": "A3iB9oc4ltnb"
      },
      "source": [
        "**WRITE YOUR ANSWERS HERE** (won't be graded)"
      ]
    },
    {
      "cell_type": "markdown",
      "metadata": {
        "id": "p-pqIbNPlFug"
      },
      "source": [
        "*6. Repeat these problems for an image degraded with the PSF defined in previous problems and the\n",
        "additive Gaussian noise. Compare and comment on the results.*\n"
      ]
    },
    {
      "cell_type": "code",
      "execution_count": null,
      "metadata": {
        "id": "VN-bSmgClhiv"
      },
      "outputs": [],
      "source": [
        "# Write-in your solution (won't be graded)"
      ]
    },
    {
      "cell_type": "markdown",
      "metadata": {
        "id": "rDPcX43ilwKa"
      },
      "source": [
        "**WRITE YOUR ANSWERS HERE** (won't be graded)"
      ]
    },
    {
      "cell_type": "markdown",
      "metadata": {
        "id": "le60pBS1Qctn"
      },
      "source": [
        "## Useful functions\n",
        "\n",
        "First, let's define some function that will be useful throughout the exercise."
      ]
    },
    {
      "cell_type": "code",
      "execution_count": null,
      "metadata": {
        "id": "QOq-7I_2wWk_"
      },
      "outputs": [],
      "source": [
        "def im2row(A, BSZ):\n",
        "    windows = skimage.util.view_as_windows(A, BSZ)\n",
        "    return windows.reshape(-1, BSZ[0] * BSZ[1])"
      ]
    },
    {
      "cell_type": "code",
      "execution_count": null,
      "metadata": {
        "id": "883TXzmtUCaA"
      },
      "outputs": [],
      "source": [
        "def getPadRanges(nhood):\n",
        "  l = []\n",
        "  for x in nhood:\n",
        "    l.append((x // 2, x // 2 - 1))\n",
        "\n",
        "  return tuple(l)"
      ]
    },
    {
      "cell_type": "code",
      "execution_count": null,
      "metadata": {
        "id": "kYqoj3n9UfyU"
      },
      "outputs": [],
      "source": [
        "def imshift(img, shift):\n",
        "  dy, dx = shift\n",
        "\n",
        "  img1 = img[dx:, dy:]   # crop the images to obtain\n",
        "  img2 = img[:-dx, :-dy] # the (x, y) shift between them\n",
        "\n",
        "  return (img1, img2)"
      ]
    },
    {
      "cell_type": "code",
      "execution_count": null,
      "metadata": {
        "id": "jWsVQFuPuKqX"
      },
      "outputs": [],
      "source": [
        "def rowfilt(img, nhood, func):\n",
        "  #Pad the image to not lose image resolution\n",
        "  #after applying the function func\n",
        "  img2 = np.pad(img,\n",
        "                getPadRanges(nhood),\n",
        "                mode = 'constant')\n",
        "\n",
        "  #Converts each nhood window of img\n",
        "  #into a row of the new matrix rows\n",
        "  rows = im2row(img2, nhood)\n",
        "\n",
        "  #Apply function func on each row of rows\n",
        "  newrows = np.apply_along_axis(func, 1, rows)\n",
        "\n",
        "  #Return the result in the form of an image\n",
        "  return np.reshape(newrows, img.shape)"
      ]
    },
    {
      "cell_type": "code",
      "execution_count": null,
      "metadata": {
        "id": "XDDlW8HLbdvw"
      },
      "outputs": [],
      "source": [
        "def nlfiltShift(img, nhood, func, shift = (1, 1)):\n",
        "  #Pad the image to not lose image resolution\n",
        "  #after applying the function func\n",
        "  img2 = np.pad(img,\n",
        "                getPadRanges(nhood),\n",
        "                mode = 'constant')\n",
        "\n",
        "  #Lists each nhood window of img\n",
        "  blocks = skimage.util.view_as_windows(img2, nhood)\n",
        "\n",
        "  bshape = blocks.shape\n",
        "  blocks = np.reshape(blocks, (bshape[0] * bshape[1],\n",
        "                               bshape[2],\n",
        "                               bshape[3]))\n",
        "\n",
        "  #Apply function func on each block/window\n",
        "  newblocks = np.array(list(map(lambda block: func(np.array(block), shift),\n",
        "                                blocks.tolist())))\n",
        "\n",
        "  #Return the result in the form of an image\n",
        "  return np.reshape(newblocks, img.shape)"
      ]
    },
    {
      "cell_type": "code",
      "execution_count": null,
      "metadata": {
        "id": "VIzMdSR_REfV"
      },
      "outputs": [],
      "source": [
        "def absolute(block, p, BIN_SIZE = 16):\n",
        "  block = block.astype('float32') #Convert to decimal\n",
        "  img1, img2 = imshift(block, p) #Get shifted subimages\n",
        "\n",
        "  #2nd order histogram\n",
        "  histogram, xedges, yedges = np.histogram2d(img1.flatten(),\n",
        "                                             img2.flatten(),\n",
        "                                             bins = BIN_SIZE,\n",
        "                                             range = ((0, 256),\n",
        "                                                      (0, 256)))\n",
        "\n",
        "  p = histogram / np.sum(histogram)\n",
        "\n",
        "  result = 0\n",
        "  for i in range(BIN_SIZE):\n",
        "    for j in range(BIN_SIZE):\n",
        "      result += abs(i - j) * p[i, j]\n",
        "\n",
        "  return result"
      ]
    },
    {
      "cell_type": "code",
      "execution_count": null,
      "metadata": {
        "id": "0pljd_XOREnI"
      },
      "outputs": [],
      "source": [
        "def covariance(block, p, BIN_SIZE = 16):\n",
        "  block = block.astype('float32') #Convert to decimal\n",
        "  img1, img2 = imshift(block, p) #Get shifted subimages\n",
        "\n",
        "  #2nd order histogram\n",
        "  histogram, xedges, yedges = np.histogram2d(img1.flatten(),\n",
        "                                             img2.flatten(),\n",
        "                                             bins = BIN_SIZE,\n",
        "                                             range = ((0, 256),\n",
        "                                                      (0, 256)))\n",
        "\n",
        "  p = histogram / np.sum(histogram)\n",
        "\n",
        "  a1 = (BIN_SIZE - 1) / 2.0\n",
        "  a2 = (BIN_SIZE - 1) / 2.0\n",
        "\n",
        "  result = 0\n",
        "  for i in range(BIN_SIZE):\n",
        "    for j in range(BIN_SIZE):\n",
        "      result += (i - a1) * (j - a2) * p[i, j]\n",
        "\n",
        "  return result"
      ]
    },
    {
      "cell_type": "code",
      "execution_count": null,
      "metadata": {
        "id": "EM-Zmb8uREum"
      },
      "outputs": [],
      "source": [
        "def energy(block, p, BIN_SIZE = 16):\n",
        "  block = block.astype('float32') #Convert to decimal\n",
        "  img1, img2 = imshift(block, p) #Get shifted subimages\n",
        "\n",
        "  #2nd order histogram\n",
        "  histogram, xedges, yedges = np.histogram2d(img1.flatten(),\n",
        "                                             img2.flatten(),\n",
        "                                             bins = BIN_SIZE,\n",
        "                                             range = ((0, 256),\n",
        "                                                      (0, 256)))\n",
        "\n",
        "  p = histogram / np.sum(histogram)\n",
        "\n",
        "  return np.sum(p * p)"
      ]
    },
    {
      "cell_type": "code",
      "execution_count": null,
      "metadata": {
        "id": "dthgLL2PRE1a"
      },
      "outputs": [],
      "source": [
        "def entropy(block, p, BIN_SIZE = 16):\n",
        "  block = block.astype('float32') #Convert to decimal\n",
        "  img1, img2 = imshift(block, p) #Get shifted subimages\n",
        "\n",
        "  #2nd order histogram\n",
        "  histogram, xedges, yedges = np.histogram2d(img1.flatten(),\n",
        "                                             img2.flatten(),\n",
        "                                             bins = BIN_SIZE,\n",
        "                                             range = ((0, 256),\n",
        "                                                      (0, 256)))\n",
        "\n",
        "  p = histogram / np.sum(histogram)\n",
        "  log_p = np.log2(p)\n",
        "\n",
        "  log_p[np.where(np.isneginf(log_p))] = 0\n",
        "\n",
        "  return -np.sum(p * log_p)"
      ]
    },
    {
      "cell_type": "code",
      "execution_count": null,
      "metadata": {
        "id": "ZWfGFmU2RE8s"
      },
      "outputs": [],
      "source": [
        "def inertia(block, p, BIN_SIZE = 16):\n",
        "  block = block.astype('float32') #Convert to decimal\n",
        "  img1, img2 = imshift(block, p) #Get shifted subimages\n",
        "\n",
        "  #2nd order histogram\n",
        "  histogram, xedges, yedges = np.histogram2d(img1.flatten(),\n",
        "                                             img2.flatten(),\n",
        "                                             bins = BIN_SIZE,\n",
        "                                             range = ((0, 256),\n",
        "                                                      (0, 256)))\n",
        "\n",
        "  p = histogram / np.sum(histogram)\n",
        "\n",
        "  result = 0\n",
        "  for i in range(BIN_SIZE):\n",
        "    for j in range(BIN_SIZE):\n",
        "      result += ((i - j) ** 2) * p[i, j]\n",
        "\n",
        "  return result"
      ]
    },
    {
      "cell_type": "markdown",
      "metadata": {
        "id": "Ehb5K8X980Kl"
      },
      "source": [
        "# 6.1 Image features"
      ]
    },
    {
      "cell_type": "markdown",
      "metadata": {
        "id": "7DHiAYRb6gFb"
      },
      "source": [
        "## 6.1.1 Spatial features\n",
        "\n",
        "Features can be differentiated based on the domain of their definition, for example there are spatial, temporal, frequency features, etc.\n",
        "\n",
        "Since the word ”image” usually refers to an image in 2D space, for most of applications we use spatial features. Based on these features the computer can analyze, describe and interpret the image content. Therefore, image feature retrieval is the first step for computational image analysis."
      ]
    },
    {
      "cell_type": "markdown",
      "metadata": {
        "id": "e7zf6rzq77hX"
      },
      "source": [
        "## 6.1.2 Amplitude features\n",
        "\n",
        "For each pixel in an image, amplitude features are defined as some parameters calculated from neighborhood pixel intensities.\n",
        "\n",
        "In the beginning of the exercise, the function *rowfilt()* has been defined. Its usage is shown in the example below."
      ]
    },
    {
      "cell_type": "markdown",
      "metadata": {
        "id": "WfjAowAY7_Df"
      },
      "source": [
        "## Example:"
      ]
    },
    {
      "cell_type": "code",
      "execution_count": null,
      "metadata": {
        "id": "8VmOKvHB8BrK"
      },
      "outputs": [],
      "source": [
        "testpat1 = cv2.imread('/content/drive/My Drive/Images/testpat1.tif', cv2.IMREAD_GRAYSCALE) #Read the grayscale image\n",
        "\n",
        "img = rowfilt(testpat1, (32, 32), np.average); #Process the image\n",
        "\n",
        "#Display the image\n",
        "plt.figure(figsize=(8,8))\n",
        "plt.imshow(img, cmap='gray')"
      ]
    },
    {
      "cell_type": "markdown",
      "metadata": {
        "id": "gSbjuVeI8M1J"
      },
      "source": [
        "### **6.1.3 Problems**"
      ]
    },
    {
      "cell_type": "markdown",
      "metadata": {
        "id": "7RK9yBHm8f-V"
      },
      "source": [
        "1. Select an image with smaller dimensions (such as 256×256), or crop a larger image to this size. For the selected image calculate several amplitude features by using various numpy feature extraction functions, e.g. [numpy.max()](https://numpy.org/doc/stable/reference/generated/numpy.max.html), [numpy.min()](https://numpy.org/doc/stable/reference/generated/numpy.min.html), [numpy.average()](https://numpy.org/doc/stable/reference/generated/numpy.average.html), [numpy.std()](https://numpy.org/doc/stable/reference/generated/numpy.std.html) and the function *rowfilt()*."
      ]
    },
    {
      "cell_type": "code",
      "execution_count": null,
      "metadata": {
        "id": "f0Rz6xw18PP9"
      },
      "outputs": [],
      "source": [
        "# Write-in your solution"
      ]
    },
    {
      "cell_type": "markdown",
      "metadata": {
        "id": "x192d1vR8Pw7"
      },
      "source": [
        "2. How do the results depend on the selected block size?"
      ]
    },
    {
      "cell_type": "markdown",
      "metadata": {
        "id": "LqeYTp_M8QU3"
      },
      "source": [
        "**WRITE YOUR ANSWERS HERE**"
      ]
    },
    {
      "cell_type": "markdown",
      "metadata": {
        "id": "M0O_uMOT9GjD"
      },
      "source": [
        "# 6.2 First order histogram features\n",
        "\n",
        "Pixel values within an image can be interpreted as the realizations of a random variable.\n",
        "\n",
        "In that case, the first-order histogram represents an estimation of the probability density function (PDF) for the given random variable. Based on this estimation, we can determine various statistical properties (features) such as moments and central moments of the PDF.\n",
        "\n",
        "Besides moments, we find entropy and energy of the\n",
        "histogram interesting in image processing as well.\n",
        "\n",
        "To do this, we first need to calculate the first order histogram, which can be done by calling the function [numpy.histogram()](https://numpy.org/doc/stable/reference/generated/numpy.histogram.html)."
      ]
    },
    {
      "cell_type": "markdown",
      "metadata": {
        "id": "bf_-3Pu09V0c"
      },
      "source": [
        "## Example:"
      ]
    },
    {
      "cell_type": "code",
      "execution_count": null,
      "metadata": {
        "id": "_t4PChDy9WDv"
      },
      "outputs": [],
      "source": [
        "testpat1 = cv2.imread('/content/drive/My Drive/Images/testpat1.tif', cv2.IMREAD_GRAYSCALE) #Read the grayscale image\n",
        "\n",
        "# Calculate and plot the first order histogram\n",
        "histogram, bin_edges = np.histogram(testpat1.flatten(),\n",
        "                                    bins = 256,\n",
        "                                    range = (0, 256))\n",
        "\n",
        "plt.figure()\n",
        "plt.title(\"First order histogram\")\n",
        "plt.xlim((0, 256))\n",
        "plt.plot(bin_edges[:-1], histogram)\n",
        "plt.show()"
      ]
    },
    {
      "cell_type": "markdown",
      "metadata": {
        "id": "63Ly9NDt9t03"
      },
      "source": [
        "### **6.2.1 Problems**"
      ]
    },
    {
      "cell_type": "markdown",
      "metadata": {
        "id": "58g6cz5T9w6O"
      },
      "source": [
        "1. Write the functions for calculating entropy and energy in order to be used with the function *rowfilt()*. Mathematical expressions for calculating these features are given in the lecture slides."
      ]
    },
    {
      "cell_type": "code",
      "execution_count": null,
      "metadata": {
        "id": "3KTI839F9y2Z"
      },
      "outputs": [],
      "source": [
        "# Write-in your solution"
      ]
    },
    {
      "cell_type": "markdown",
      "metadata": {
        "id": "GlOMAOIE9zKC"
      },
      "source": [
        "2. Select an image with smaller dimensions (such as 256×256), or crop a larger image to this size. For the selected image calculate the $1^{st}$ order histogram features (entropy and energy) on the block/window of size 5×5 by using the funciton *rowfilt()*. Display the results and comment on them."
      ]
    },
    {
      "cell_type": "code",
      "execution_count": null,
      "metadata": {
        "id": "pck4qx1790ny"
      },
      "outputs": [],
      "source": [
        "# Write-in your solution"
      ]
    },
    {
      "cell_type": "markdown",
      "metadata": {
        "id": "lCBcI3Uy905d"
      },
      "source": [
        "**WRITE YOUR ANSWERS HERE**"
      ]
    },
    {
      "cell_type": "markdown",
      "metadata": {
        "id": "pLizzFg2-EDp"
      },
      "source": [
        "# 6.3 Second order histogram features\n",
        "\n",
        "As described earlier, pixel intensity values can be interpreted as the realizations of a random variable. In that case, the first order histogram represents the estimation of the probability density function (PDF) of the given random variable.\n",
        "\n",
        "Instead of observing a single pixel, we can observe a pair of pixels, whose mutual position is defined by a specific spatial relation. In that case, we can observe two random variables corresponding to the pair of pixel values.  In that case, their joint (second-order) probability density function can be estimated using the second-order histogram with the help of the function [numpy.histogram2d()](https://numpy.org/doc/stable/reference/generated/numpy.histogram2d.html)."
      ]
    },
    {
      "cell_type": "markdown",
      "metadata": {
        "id": "2QxjjYtA-IpW"
      },
      "source": [
        "## Example:"
      ]
    },
    {
      "cell_type": "code",
      "execution_count": null,
      "metadata": {
        "id": "sLsqWmLI-JEt"
      },
      "outputs": [],
      "source": [
        "testpat1 = cv2.imread('/content/drive/My Drive/Images/testpat1.tif', cv2.IMREAD_GRAYSCALE) #Read the grayscale image\n",
        "\n",
        "testpat1 = testpat1.astype('float32') # Convert to decimal format\n",
        "\n",
        "# Calculate and plot the second order histogram for the\n",
        "# (2, 3) shifted subimages\n",
        "img1, img2 = imshift(testpat1, (2, 3))\n",
        "\n",
        "histogram, xedges, yedges = np.histogram2d(img1.flatten(),\n",
        "                                           img2.flatten(),\n",
        "                                           bins = 16,\n",
        "                                           range = ((0, 256),\n",
        "                                                    (0, 256)))\n",
        "\n",
        "fig = plt.figure()\n",
        "ax = fig.add_subplot(projection='3d')\n",
        "ax.title.set_text(\"Second order histogram\")\n",
        "\n",
        "## Construct arrays for the anchor positions of the bars.\n",
        "xpos, ypos = np.meshgrid(xedges[:-1] + 0.25, yedges[:-1] + 0.25, indexing=\"ij\")\n",
        "xpos = xpos.ravel()\n",
        "ypos = ypos.ravel()\n",
        "zpos = 0\n",
        "\n",
        "## Construct arrays with the dimensions for the bars.\n",
        "dx = dy = 0.5 * np.ones_like(zpos)\n",
        "dz = histogram.ravel()\n",
        "\n",
        "ax.bar3d(xpos, ypos, zpos, dx, dy, dz, zsort='average')\n",
        "\n",
        "plt.show()"
      ]
    },
    {
      "cell_type": "markdown",
      "metadata": {
        "id": "XcBaDfbv-YVy"
      },
      "source": [
        "### **6.3.1 Problems**\n"
      ]
    },
    {
      "cell_type": "markdown",
      "metadata": {
        "id": "eNoQqULE-Yls"
      },
      "source": [
        "1. Read the image 4.2.07.tiff from the USC-SIPI database. Calculate and display the $2^{nd}$ order histograms for shifts of (1, 1) and (5, 5)."
      ]
    },
    {
      "cell_type": "code",
      "execution_count": null,
      "metadata": {
        "id": "vx_9Rtag-gMd"
      },
      "outputs": [],
      "source": [
        "# Write-in your solution"
      ]
    },
    {
      "cell_type": "markdown",
      "metadata": {
        "id": "n79ZeoLg-Yt8"
      },
      "source": [
        "2. Why are the results grouped around a diagonal?"
      ]
    },
    {
      "cell_type": "markdown",
      "metadata": {
        "id": "874_f9X--Ywr"
      },
      "source": [
        "**WRITE YOUR ANSWERS HERE**"
      ]
    },
    {
      "cell_type": "markdown",
      "metadata": {
        "id": "UzUzDyBK-Yzs"
      },
      "source": [
        "3. Why are they more dispersed in the second case?"
      ]
    },
    {
      "cell_type": "markdown",
      "metadata": {
        "id": "rGqPStVH-Y21"
      },
      "source": [
        "**WRITE YOUR ANSWERS HERE**"
      ]
    },
    {
      "cell_type": "markdown",
      "metadata": {
        "id": "Cj2oqF23-Y5n"
      },
      "source": [
        "4. Read the image saturn.tif and calculate the $2^{nd}$ order histograms\n",
        "for several shifts of your choice.\n",
        "Display the results and comment on them."
      ]
    },
    {
      "cell_type": "code",
      "execution_count": null,
      "metadata": {
        "id": "7CuF3yqy-qPE"
      },
      "outputs": [],
      "source": [
        "# Write-in your solution"
      ]
    },
    {
      "cell_type": "markdown",
      "metadata": {
        "id": "yjoVLpU0-Y9w"
      },
      "source": [
        "**WRITE YOUR ANSWERS HERE**"
      ]
    },
    {
      "cell_type": "markdown",
      "metadata": {
        "id": "K_KcQHYb_NdG"
      },
      "source": [
        "# 6.4 Edge detection\n",
        "\n",
        "Edge detection is one of the most important tasks in image processing since the edges define borders of objects. Therefore we can use them to segment, register and/or identify objects in the image.\n",
        "\n",
        "Since the edges in an image are characterized by a sudden change of the amplitude values of the pixels, we can employ the gradient estimation methods for their detection."
      ]
    },
    {
      "cell_type": "markdown",
      "metadata": {
        "id": "_8rjtcgV_yqB"
      },
      "source": [
        "## 6.4.1 Sobel and Prewitt operator\n",
        "\n",
        "Gradient-based methods estimate the image gradient in two orthogonal directions, e.g. x and y. For a given location in the image, these two gradient values define the gradient vector, i.e. its direction and its norm. We can use any vector norm according to our preference. For example, if we want to use the Euclidean norm we can calculate it as the square root of the sum of the squared gradient vector components, as shown in the Fig. 6.1."
      ]
    },
    {
      "cell_type": "markdown",
      "metadata": {
        "id": "nMpjhCud_-sK"
      },
      "source": [
        "![image.png](data:image/png;base64,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)"
      ]
    },
    {
      "cell_type": "markdown",
      "metadata": {
        "id": "5xqRyvNdAakC"
      },
      "source": [
        "Applying the Sobel and the Prewitt operator on an image can be done with the functions [skimage.filters.sobel()](https://scikit-image.org/docs/dev/api/skimage.filters.html#skimage.filters.sobel) and [skimage.filters.prewitt()](https://scikit-image.org/docs/dev/api/skimage.filters.html#skimage.filters.prewitt), respectively."
      ]
    },
    {
      "cell_type": "markdown",
      "metadata": {
        "id": "uq7E_rK9AqAd"
      },
      "source": [
        "## Example:"
      ]
    },
    {
      "cell_type": "code",
      "execution_count": null,
      "metadata": {
        "id": "b1p4yB58Aqc3"
      },
      "outputs": [],
      "source": [
        "moon = cv2.imread('/content/drive/My Drive/Images/moon.tif', cv2.IMREAD_GRAYSCALE) #Read the grayscale image\n",
        "\n",
        "sobel_gradient = sobel(moon) #Apply the Sobel operator\n",
        "\n",
        "plt.figure(figsize=(8,8))\n",
        "plt.imshow(sobel_gradient, cmap='gray') #Visualizing the gradients"
      ]
    },
    {
      "cell_type": "markdown",
      "metadata": {
        "id": "1fhnWzUsA8C8"
      },
      "source": [
        "### **6.4.2 Problems**"
      ]
    },
    {
      "cell_type": "markdown",
      "metadata": {
        "id": "zP6ru02uA8Os"
      },
      "source": [
        "1. Read the image 4.2.07.tiff from the USC-SIPI database. Apply the Sobel and the Prewitt operator to this image to estimate its edges. Display the results and comment on them."
      ]
    },
    {
      "cell_type": "code",
      "execution_count": null,
      "metadata": {
        "id": "N2vm3U5QA8ks"
      },
      "outputs": [],
      "source": [
        "# Write-in your solution"
      ]
    },
    {
      "cell_type": "markdown",
      "metadata": {
        "id": "sBf7AXUwA80c"
      },
      "source": [
        "**WRITE YOUR ANSWERS HERE**"
      ]
    },
    {
      "cell_type": "markdown",
      "metadata": {
        "id": "f9qI0uRtBUWA"
      },
      "source": [
        "## 6.4.3 Compass operators for edge detection\n",
        "\n",
        "Gradient-based methods estimate the gradient in two directions. Compass operators detect edges oriented at a certain angle. Examples of the masks (of size 3 × 3) for angles 0, 45 and 90 degrees can be generated as shown below."
      ]
    },
    {
      "cell_type": "markdown",
      "metadata": {
        "id": "_QxG6JVLBUiA"
      },
      "source": [
        "## Example:"
      ]
    },
    {
      "cell_type": "code",
      "execution_count": null,
      "metadata": {
        "id": "41LQtPX2BUBK"
      },
      "outputs": [],
      "source": [
        "#0 degree angle mask\n",
        "h0 = np.array([[1, 1, 1],\n",
        "               [0, 0, 0],\n",
        "               [-1, -1, -1]])\n",
        "\n",
        "#45 degree angle mask\n",
        "h45 = np.array([[1, 1, 0],\n",
        "                [1, 0, -1],\n",
        "                [0, -1, -1]])\n",
        "\n",
        "#90 degree angle mask\n",
        "h90 = np.array([[1, 0, -1],\n",
        "                [1, 0, -1],\n",
        "                [1, 0, -1]])"
      ]
    },
    {
      "cell_type": "markdown",
      "metadata": {
        "id": "L3CZ7oUWBrpz"
      },
      "source": [
        "Convolution of an image with the selected compass operator results in an image with emphasized edges at the selected angle."
      ]
    },
    {
      "cell_type": "markdown",
      "metadata": {
        "id": "yos0O_CuBsd-"
      },
      "source": [
        "### **6.4.4 Problems**"
      ]
    },
    {
      "cell_type": "markdown",
      "metadata": {
        "id": "wjmq_TIpBsn2"
      },
      "source": [
        "1. Read the image 4.2.07.tiff from the USC-SIPI database. Apply several compass operators on this\n",
        "image (for different directions).\n",
        "\n",
        "*Hint: try using the [scipy.signal.convolve2d()](https://docs.scipy.org/doc/scipy/reference/generated/scipy.signal.convolve2d.html) function*"
      ]
    },
    {
      "cell_type": "code",
      "execution_count": null,
      "metadata": {
        "id": "rATxqEuVCGpx"
      },
      "outputs": [],
      "source": [
        "# Write-in your solution"
      ]
    },
    {
      "cell_type": "markdown",
      "metadata": {
        "id": "SA9XidRhBsyY"
      },
      "source": [
        "2. What happens with the edges positioned in the direction that does not correspond to the specific\n",
        "operator?"
      ]
    },
    {
      "cell_type": "markdown",
      "metadata": {
        "id": "Fqyg5elMCHak"
      },
      "source": [
        "**WRITE YOUR ANSWERS HERE**"
      ]
    },
    {
      "cell_type": "markdown",
      "metadata": {
        "id": "ZpdLejdqBs9R"
      },
      "source": [
        "3. Calculate and display the frequency characteristics for the selected compass operators. (This can be\n",
        "done with the function [scipy.fft.fft2()](https://docs.scipy.org/doc/scipy/reference/generated/scipy.fft.fft2.html) as described in the Exercise 3.)"
      ]
    },
    {
      "cell_type": "code",
      "execution_count": null,
      "metadata": {
        "id": "7Vyvq-vWCIK_"
      },
      "outputs": [],
      "source": [
        "# Write-in your solution"
      ]
    },
    {
      "cell_type": "markdown",
      "metadata": {
        "id": "sKD3QaY_B_0l"
      },
      "source": [
        "4. Why is their resolution so small?"
      ]
    },
    {
      "cell_type": "markdown",
      "metadata": {
        "id": "m0QP5NUYCI6v"
      },
      "source": [
        "**WRITE YOUR ANSWERS HERE**"
      ]
    },
    {
      "cell_type": "markdown",
      "metadata": {
        "id": "BT2BDaBkCVLx"
      },
      "source": [
        "## 6.4.5 Laplacian operator for edge detection\n",
        "\n",
        "Gradient masks give the best result in cases when there are sudden edges, ie. large change in the pixel intensity values. For the ”softer” edges, methods using estimations based on the second derivatives give better results.\n",
        "\n",
        "An example of such estimation is the Laplacian operator. Applying the Laplacian operator on an image can be simply done by using the function [skimage.filters.laplace()](https://scikit-image.org/docs/dev/api/skimage.filters.html#skimage.filters.laplace)."
      ]
    },
    {
      "cell_type": "markdown",
      "metadata": {
        "id": "UIGAw72eCcm2"
      },
      "source": [
        "## Example:"
      ]
    },
    {
      "cell_type": "code",
      "execution_count": null,
      "metadata": {
        "id": "wKnMOqjPCc1r"
      },
      "outputs": [],
      "source": [
        "moon = cv2.imread('/content/drive/My Drive/Images/moon.tif', cv2.IMREAD_GRAYSCALE) #Read the grayscale image\n",
        "\n",
        "lap_gradient = laplace(moon) #Apply the Sobel operator\n",
        "\n",
        "plt.figure(figsize=(8,8))\n",
        "plt.imshow(lap_gradient, cmap='gray') #Visualizing the gradients"
      ]
    },
    {
      "cell_type": "markdown",
      "metadata": {
        "id": "OUfskkDUCluL"
      },
      "source": [
        "### **6.4.6 Problems**"
      ]
    },
    {
      "cell_type": "markdown",
      "metadata": {
        "id": "UrK4ISWbCl8D"
      },
      "source": [
        "1. Read the image 4.2.07.tiff from the USC-SIPI database. Apply the Laplacian operator approximation on this image. Display\n",
        "the results and comment on them."
      ]
    },
    {
      "cell_type": "code",
      "execution_count": null,
      "metadata": {
        "id": "Q3DEsGbxCmIz"
      },
      "outputs": [],
      "source": [
        "# Write-in your solution"
      ]
    },
    {
      "cell_type": "markdown",
      "metadata": {
        "id": "T-60gErWCmY8"
      },
      "source": [
        "**WRITE YOUR ANSWERS HERE**"
      ]
    },
    {
      "cell_type": "markdown",
      "metadata": {
        "id": "UPWwN4LyC-V5"
      },
      "source": [
        "# 6.5 Texture features\n",
        "\n",
        "Textures are present in almost every image. In this part of the exercise, we will use the $2^{nd}$ order histogram features to represent texture features. For that purpose, we will use the function *rowfilter()* to calculate each feature on the window (of the defined size) in the input image."
      ]
    },
    {
      "cell_type": "markdown",
      "metadata": {
        "id": "WWwKZqjqC-sX"
      },
      "source": [
        "## Example:"
      ]
    },
    {
      "cell_type": "code",
      "execution_count": null,
      "metadata": {
        "id": "-dkwqZiiC-__"
      },
      "outputs": [],
      "source": [
        "testpat1 = cv2.imread('/content/drive/My Drive/Images/testpat1.tif', cv2.IMREAD_GRAYSCALE) #Read the grayscale image\n",
        "\n",
        "testpat1 = testpat1.astype('float32') #Convert to decimal format\n",
        "\n",
        "img = nlfiltShift(testpat1,\n",
        "                  (16, 16),\n",
        "                  inertia,\n",
        "                  shift = (2, 2)); #Process the image\n",
        "\n",
        "#Display the image\n",
        "plt.figure(figsize=(8,8))\n",
        "plt.imshow(img, cmap='gray')"
      ]
    },
    {
      "cell_type": "markdown",
      "metadata": {
        "id": "_3tNpseoDKuX"
      },
      "source": [
        "You can notice that for calculating the second order histogram, we need to define the relative spatial relation between the two pixels, i.e. a shift vector, p = (dy, dx), which corresponds to the shift between the two pixels under observation.\n",
        "\n",
        "This can be a problem since even for small neighborhoods the number of possibilities is very large.\n",
        "\n",
        "Therefore, to reduce the calculation time, select the images with smaller dimensiona and choose a smaller neighborhood size. Also, have in mind that the shift vector p has to be smaller than the neighborhood size."
      ]
    },
    {
      "cell_type": "markdown",
      "metadata": {
        "id": "1D7ABipS8B7D"
      },
      "source": [
        "### **6.5.1 Problems**"
      ]
    },
    {
      "cell_type": "markdown",
      "metadata": {
        "id": "fQkKfnBpDVHD"
      },
      "source": [
        "1. Read the image texture.png, which contains 5 different areas: 3 textures and 2 plain areas. Calculate various features with the functions defined in the beginning of the exercise, i.e. *absolute()*, *inertia()*, *energy()*, *entropy()*, and *covariance()*.\n",
        "For each of them try each of these shifts: (2, 2), (3, 3) and (3, 5). Define the window size as (12, 12).\n",
        "Display the results and comment on them."
      ]
    },
    {
      "cell_type": "code",
      "execution_count": null,
      "metadata": {
        "id": "lGWMq86vDYs0"
      },
      "outputs": [],
      "source": [
        "# Write-in your solution"
      ]
    },
    {
      "cell_type": "markdown",
      "metadata": {
        "id": "BI3UslgLDVLy"
      },
      "source": [
        "**WRITE YOUR ANSWERS HERE**"
      ]
    },
    {
      "cell_type": "markdown",
      "metadata": {
        "id": "9hiSOWKNDVRx"
      },
      "source": [
        "2. Select few images that display different textures (you can crop the image to work with images of\n",
        "smaller dimensions). Select a single feature and calculate it for each of the chosen images."
      ]
    },
    {
      "cell_type": "code",
      "execution_count": null,
      "metadata": {
        "id": "drtvx2k8Dbo0"
      },
      "outputs": [],
      "source": [
        "# Write-in your solution"
      ]
    },
    {
      "cell_type": "markdown",
      "metadata": {
        "id": "dzBUEOMaDVVV"
      },
      "source": [
        "3. Do the features exhibit a sufficient difference to use them for the texture classification?"
      ]
    },
    {
      "cell_type": "markdown",
      "metadata": {
        "id": "vZN3plGwDVY3"
      },
      "source": [
        "**WRITE YOUR ANSWERS HERE**"
      ]
    },
    {
      "cell_type": "markdown",
      "metadata": {
        "id": "isigkLhHDVcn"
      },
      "source": [
        "4. Which feature seems the best to perform the classification of the textures in the image?"
      ]
    },
    {
      "cell_type": "markdown",
      "metadata": {
        "id": "9v19ecp-DVgL"
      },
      "source": [
        "**WRITE YOUR ANSWERS HERE**"
      ]
    }
  ],
  "metadata": {
    "colab": {
      "provenance": []
    },
    "kernelspec": {
      "display_name": "Python 3",
      "name": "python3"
    },
    "language_info": {
      "name": "python"
    }
  },
  "nbformat": 4,
  "nbformat_minor": 0
}