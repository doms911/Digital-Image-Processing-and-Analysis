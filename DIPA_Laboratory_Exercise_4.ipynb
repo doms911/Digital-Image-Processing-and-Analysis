{
  "cells": [
    {
      "cell_type": "markdown",
      "metadata": {
        "id": "K8CHz_nTG3uH"
      },
      "source": [
        "University of Zagreb<br/>\n",
        "Faculty of Electrical Engineering and Computing<br/>\n",
        "Department of Electronic Systems and Information Processing\n",
        "\n",
        "Academic year 2023/2024\n",
        "\n",
        "## **4th laboratory exercise: Image segmentation/Image registration**\n",
        "\n",
        "*Digital Image Processing and Analysis*\n",
        "\n",
        "Date: 2024-05-30\n",
        "\n",
        "Please send any feedback (corrections, comments, suggestions etc.) regarding this document to ivana.matovinovic@fer.hr."
      ]
    },
    {
      "cell_type": "markdown",
      "metadata": {
        "id": "NvXXxLUeV5N2"
      },
      "source": [
        "© University of Zagreb Faculty of Electrical Engineering and Computing, 2024.\n",
        "\n",
        "Permission is granted to make and distribute copies of this instructions provided the copyright notice and this permission notice are preserved on all copies."
      ]
    },
    {
      "cell_type": "markdown",
      "metadata": {
        "id": "yIIo5ETOV5Sn"
      },
      "source": [
        "# Introduction\n",
        "\n",
        "Instructions for laboratory exercises for the course *Digital Image Processing and Analysis* are prepared in a form of a <a href=\"https://jupyter.org/\">Jupyter</a> notebooks.\n",
        "\n",
        "All problems in prepared notebook are intended to be completed in Python using <a href=\"https://colab.research.google.com\">Google Colaboratory</a> platform (Colab for short)."
      ]
    },
    {
      "cell_type": "markdown",
      "metadata": {
        "id": "WFDDKr2tV5XE"
      },
      "source": [
        "## How to Submit Your Laboratory Report\n",
        "\n",
        "Simply write-in your code to all empty code cells and write in your answers to the text cells with questions.\n",
        "\n",
        "Empty code cells contain the placeholder text `# Write-in your solution` while text cells where you have to write-in someting contain a bold uppercase text **WRITE YOUR ANSWER HERE**.\n",
        "\n",
        "Once you have completed all problems save this notebook locally in a file named DIPA_LAB_X_NAME_SURNAME.ipynb,\n",
        "where X is the exercise number, and submit it via Moodle under the appropriate upload section.\n",
        "\n",
        "Your submissions will be first automatically re-evaluated which corresponds to selecting the *Runtime/Restart and run all* command in Colab. Therefore, it is strongly suggested that you run this command yourself before submitting your notebook. Another thing to do before submission is to clear all the cell outputs by selecting *Edit/Clear all outputs*. This will reduce the size of .ipynb files for upload."
      ]
    },
    {
      "cell_type": "markdown",
      "metadata": {
        "id": "r9fEa93_V5bd"
      },
      "source": [
        "## Student Information\n",
        "\n",
        "Before proceeding double click on this text and then fill in your name:\n",
        "\n",
        "Name: **NAME & SURNAME**\n",
        "\n",
        "Student ID number (JMBAG): **0036XXXX**"
      ]
    },
    {
      "cell_type": "markdown",
      "metadata": {
        "id": "1sA_IY82V5gK"
      },
      "source": [
        "## Suggested Reading\n",
        "\n",
        "### General Reading\n",
        "\n",
        "If you are not familiar with Python then start with a Python tutorial such as e.g. an official one available at <a href=\"https://docs.python.org/3/tutorial/\">https://docs.python.org/3/tutorial/</a>.\n",
        "\n",
        "Jupyter notebooks are relying on <a href=\"https://ipython.org/\">IPython</a>, which is an interactive Python interpreter. Jupyter notebooks may be run locally or they may be conveniently executed remotely in Google Colaboratory via web browser.\n",
        "\n",
        "Readers familiar with Matlab who have only basic knowledge of Python are strongly encouraged to read the document <a href=\"https://numpy.org/doc/stable/user/numpy-for-matlab-users.html\">NumPy for Matlab users</a> before attempting to solve this laboratory exercise in Colab.\n",
        "\n",
        "### Image Processing in Python\n",
        "\n",
        "Some general image processing functions are available as a part of [`scipy.ndimage`](https://docs.scipy.org/doc/scipy/reference/ndimage.html). This basic functionality is extended by the [`scikit-image`](https://scikit-image.org/). We will also use [OpenCV](https://opencv.org/)."
      ]
    },
    {
      "cell_type": "markdown",
      "source": [
        "#Connect to Google Drive"
      ],
      "metadata": {
        "id": "SxHSKtmguo4Q"
      }
    },
    {
      "cell_type": "code",
      "source": [
        "from google.colab import drive\n",
        "drive.mount('/content/drive')"
      ],
      "metadata": {
        "id": "K9HSNYbJuo95"
      },
      "execution_count": null,
      "outputs": []
    },
    {
      "cell_type": "markdown",
      "metadata": {
        "id": "LMYkBjUJV5km"
      },
      "source": [
        "## Importing Required Functions\n",
        "\n",
        "To simplify the code in Python in this notebook we may deliberately import functions from <a href=\"https://www.scipy.org/\">SciPy</a>, <a href=\"https://numpy.org/\">NumPy</a> and <a href=\"https://matplotlib.org/\">Matplotlib</a> directly into the global namespace so e.g. we can write `fft` instead of `scipy.fft.fft`.\n",
        "\n",
        "Please keep in mind that such an approach may be tolerated for the purpose of a short laboratory exercise where risks of collisions and side effects are minimal. It is best always avoided in production code.\n",
        "\n",
        "If you prefer to use namespaces then feel free to change the import statements to retain strict package separation, e.g. `import numpy as np`."
      ]
    },
    {
      "cell_type": "code",
      "execution_count": null,
      "metadata": {
        "id": "7czyOpL0WI41"
      },
      "outputs": [],
      "source": [
        "# Import packages\n",
        "import cv2\n",
        "import skimage.io\n",
        "\n",
        "# To display images in browser\n",
        "from google.colab.patches import cv2_imshow\n",
        "\n",
        "# Import some functions to the global namespace for convenience\n",
        "from scipy.ndimage import *\n",
        "from scipy.fft import *\n",
        "from scipy.signal import *\n",
        "from scipy.stats import *\n",
        "!pip install scikit-image>=0.18 #to install a specific skimage version that includes difference_of_gaussians\n",
        "from skimage.filters import *\n",
        "from skimage.feature import *\n",
        "from scipy.misc import *\n",
        "from skimage.registration import *\n",
        "import skimage.util\n",
        "\n",
        "\n",
        "#from skimage.feature import greycomatrix, greycoprops\n",
        "import numpy as np\n",
        "import matplotlib.pyplot as plt\n",
        "from matplotlib.image import *\n",
        "from mpl_toolkits import mplot3d\n"
      ]
    },
    {
      "cell_type": "markdown",
      "metadata": {
        "id": "AX4FUEJOV5o6"
      },
      "source": [
        "## Image loading\n",
        "\n",
        "We will be using images from the [USC-SIPI database](http://sipi.usc.edu/database/) and additional images available on the [DIPA class webpage](https://www.fer.unizg.hr/en/course/dipaa_b/laboratory#%23!p_rep_139398!_-187329). To load any of these images, all we have to do is copy the URL of the image and write the following two lines of code."
      ]
    },
    {
      "cell_type": "code",
      "execution_count": null,
      "metadata": {
        "id": "ED3Y2i7CWRM5"
      },
      "outputs": [],
      "source": [
        "url = \"http://sipi.usc.edu/database/preview/misc/5.3.02.png\"\n",
        "img = skimage.io.imread(url, plugin = 'pil')"
      ]
    },
    {
      "cell_type": "markdown",
      "metadata": {
        "id": "dGRcfvsCWVdq"
      },
      "source": [
        "## Image representations\n",
        "\n",
        "[Grayscale](https://en.wikipedia.org/wiki/Grayscale) images are composed of pixels representing a grayscale value. In a computer a 2D grayscale image is represented as an $M \\times N$ matrix of pixel values, which represent light intensity.\n",
        "\n",
        "It takes several such matrices for colored images - one for each color channel. There are several color models used for color image representation. For instance, an [RGB](https://en.wikipedia.org/wiki/RGB_color_model) image has three channels (for red, green and blue color) so an $M \\times N \\times 3$ matrix is used.   Color images can be converted to grayscale images, usually by calculating a weighted sum of the channels. The [cv2.cvtColor()](https://docs.opencv.org/3.4/d8/d01/group__imgproc__color__conversions.html#ga397ae87e1288a81d2363b61574eb8cab) function is used to convert images from one color space to another.\n",
        "\n",
        "These representations allow the use of common matrix operators for image processing and analysis."
      ]
    },
    {
      "cell_type": "code",
      "execution_count": null,
      "metadata": {
        "id": "AFYUN9DIWWBy"
      },
      "outputs": [],
      "source": [
        "url = \"http://sipi.usc.edu/database/download.php?vol=misc&img=4.2.07\"\n",
        "img = skimage.io.imread(url)\n",
        "img = cv2.cvtColor(img, cv2.COLOR_RGB2BGR) # openCV uses BGR (blue, green, red) representation\n",
        "cv2_imshow(img)\n",
        "gray_img = cv2.cvtColor(img, cv2.COLOR_BGR2GRAY)\n",
        "cv2_imshow(gray_img)"
      ]
    },
    {
      "cell_type": "markdown",
      "metadata": {
        "id": "9FiKPFUY4zEF"
      },
      "source": [
        "# 7.1 Amplitude segmentation\n",
        "\n",
        "Amplitude segmentation is the simplest way to segment an image. It is useful (efficient) when amplitude (the intensity of the pixel) defines the scene regions precisely enough. To perform amplitude segmentation, we can use the first order histogram.\n",
        "\n",
        "## 7.1.1 Manual determination of threshold\n",
        "In this part of the exercise, we will determine the segmentation threshold based on the histogram. If there are several regions with the more-or-less uniform color within each of them, then we expect histogram to be bimodal or multimodal. The interpretation of the histogram depends on the histogram itself and/or knowledge of the image content (e.g. number of regions and similarity of their colors or intensities).\n",
        "\n",
        "An example of such a histogram is given in the Fig. 7.1. In this histogram we see several groups, and we would choose a threshold value 130 for segmentation into two classes. An optimal choice of the threshold corresponds to\n",
        "the minimum value between two (local) maxima. If the histogram is multimodal and we want to segment the image into $N$ classes then we have to determine $N-1$ such thresholds."
      ]
    },
    {
      "cell_type": "markdown",
      "metadata": {
        "id": "7EDcg9mhOjbR"
      },
      "source": [
        "![image.png](data:image/png;base64,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)"
      ]
    },
    {
      "cell_type": "markdown",
      "metadata": {
        "id": "WQJDhhSzfk1O"
      },
      "source": [
        "## <center>Figure 7.1: First-order histogram of an image. </center>\n",
        "\n"
      ]
    },
    {
      "cell_type": "markdown",
      "metadata": {
        "id": "xuitjReLNzGW"
      },
      "source": [
        "## Example"
      ]
    },
    {
      "cell_type": "code",
      "execution_count": null,
      "metadata": {
        "id": "i_HxWde9NzcJ"
      },
      "outputs": [],
      "source": [
        "img = cv2.imread('/content/drive/My Drive/Images/testpat1.tif', cv2.IMREAD_GRAYSCALE)\n",
        "\n",
        "hist, bin_edges = np.histogram(img.flatten(), bins = 256, range = (0, 256))     # calculate and show histogram\n",
        "plt.figure()\n",
        "plt.title(\"First order histogram\")\n",
        "plt.xlim((0, 256))\n",
        "plt.stem(bin_edges[:-1], hist)\n",
        "plt.show()\n",
        "\n",
        "imgS1 = img > 130                                                               # if we interpret the histogram as bimodal, then we select 1 threshold\n",
        "                                                                                # this results in a boolean array with 'true' representing '1' and 'false' representing '0'\n",
        "plt.imshow(imgS1, cmap='gray')                                                  # meaning we got a binary image\n",
        "plt.show()"
      ]
    },
    {
      "cell_type": "markdown",
      "metadata": {
        "id": "ZW6MSzuvtFbb"
      },
      "source": [
        "### **7.1.2 Problems**\n"
      ]
    },
    {
      "cell_type": "markdown",
      "metadata": {
        "id": "CS0Tcn1yK0rj"
      },
      "source": [
        "\n",
        "2. Read the image blood1.tif, showing blood cells. We want to segment the image so that cells are represented with an annulus (two concentric circles) with as little noise as possible. In the segmented image, blood cells will have a cavity in the middle. Display the histogram, determine an optimal threshold $t$, and display the segmented image.\n"
      ]
    },
    {
      "cell_type": "code",
      "execution_count": null,
      "metadata": {
        "id": "N2J257efyccR"
      },
      "outputs": [],
      "source": [
        "# Write-in your solution"
      ]
    },
    {
      "cell_type": "markdown",
      "metadata": {
        "id": "P4e0TYN2K43R"
      },
      "source": [
        "3. For the same image display the results if you select a threshold $t+50$ or $t−50$ instead of threshold $t$ selected before. Describe what happened.\n"
      ]
    },
    {
      "cell_type": "code",
      "execution_count": null,
      "metadata": {
        "id": "-SH6t7PV0xLt"
      },
      "outputs": [],
      "source": [
        "# Write-in your solution"
      ]
    },
    {
      "cell_type": "markdown",
      "metadata": {
        "id": "pGliIhWgyhCM"
      },
      "source": [
        "**WRITE YOUR ANSWERS HERE**\n",
        "\n"
      ]
    },
    {
      "cell_type": "markdown",
      "metadata": {
        "id": "AE86cJNZPGee"
      },
      "source": [
        "# 7.2 Automatic determination of the threshold\n",
        "In this part of the exercise, we will demonstrate the success of specific  algorithms in automatic determination of the threshold. `scikit-image` has [several thresholding functions](https://scikit-image.org/docs/dev/api/skimage.filters.html):\n",
        "- `skimage.filters.threshold_isodata`\n",
        "- `skimage.filters.threshold_li`\n",
        "- `skimage.filters.threshold_mean`\n",
        "- `skimage.filters.threshold_minimum`\n",
        "- `skimage.filters.threshold_multiotsu`\n",
        "- `skimage.filters.threshold_niblack`\n",
        "- `skimage.filters.threshold_otsu`\n",
        "- `skimage.filters.threshold_sauvola`\n",
        "- `skimage.filters.threshold_triangle`\n",
        "- `skimage.filters.threshold_yen`.\n",
        "\n",
        "Thresholding algorithms implemented in scikit-image can be separated in two categories:\n",
        "\n",
        "- Histogram-based. The histogram of the pixels’ intensity is used and certain assumptions are made on the properties of this histogram (e.g. bimodal).\n",
        "\n",
        "- Local. To process a pixel, only the neighboring pixels are used. These algorithms often require more computation time but perform better in case of more complex images.\n",
        "\n",
        "If you are not familiar with the details of the different algorithms and the underlying assumptions, it is often difficult to know which algorithm will give the best results. Therefore, Scikit-image includes the function `skimage.filters.try_all_threshold` to evaluate thresholding algorithms provided by the library. At a glance, you can select the best algorithm for you data.\n",
        "\n",
        "\\\\\n",
        "**Note:** `skimage.filters.threshold_multiotsu` is used to segment into more than just two regions.\n",
        "\n",
        "\n"
      ]
    },
    {
      "cell_type": "markdown",
      "metadata": {
        "id": "8LN1wicdP7wE"
      },
      "source": [
        "## Example"
      ]
    },
    {
      "cell_type": "code",
      "execution_count": null,
      "metadata": {
        "id": "vHRX-KrsQS2a"
      },
      "outputs": [],
      "source": [
        "img = cv2.imread('/content/drive/My Drive/Images/moon.tif', cv2.IMREAD_GRAYSCALE)\n",
        "\n",
        "#the minimum algorithm takes a histogram of the image and smooths it repeatedly until there are only two peaks in the histogram and finds a minimum value between the two maxima\n",
        "thresh_min = threshold_minimum(img)                                             # finding the threshold\n",
        "print(thresh_min)\n",
        "binary_min = img > thresh_min                                                   # applying the threshold\n",
        "\n",
        "plt.imshow(binary_min, cmap='gray')\n",
        "plt.show()"
      ]
    },
    {
      "cell_type": "markdown",
      "metadata": {
        "id": "eId9A4eowX1k"
      },
      "source": [
        "## Example"
      ]
    },
    {
      "cell_type": "code",
      "execution_count": null,
      "metadata": {
        "id": "5c1Wry74wif1"
      },
      "outputs": [],
      "source": [
        "img = cv2.imread('/content/drive/My Drive/Images/moon.tif', cv2.IMREAD_GRAYSCALE)\n",
        "\n",
        "#the multiotsu algorithm calculates several thresholds, determined by the number of desired classes\n",
        "threshs_mo = threshold_multiotsu(img, classes=5)                                # finding the threshold\n",
        "print(threshs_mo)\n",
        "regions = np.digitize(img, bins=threshs_mo)                                     # applying the threshold\n",
        "\n",
        "plt.imshow(regions, cmap='gray')\n",
        "plt.show()"
      ]
    },
    {
      "cell_type": "markdown",
      "metadata": {
        "id": "KB1t1_5AQdq9"
      },
      "source": [
        "### **7.2.1 Problems**\n",
        "1. Read the image blood1.tif. Try the segmentation using thresholds obtained using the following functions:\n",
        "- `skimage.filters.threshold_mean`\n",
        "- `skimage.filters.threshold_minimum`\n",
        "- `skimage.filters.threshold_otsu`\n",
        "- `skimage.filters.threshold_multiotsu` (3 and 4 classes).\n",
        "\n",
        "Compare the threshold values obtained with the manual approach. How do the listed functions determine the threshold(s)?"
      ]
    },
    {
      "cell_type": "code",
      "execution_count": null,
      "metadata": {
        "id": "u0gHcimkg42w"
      },
      "outputs": [],
      "source": [
        "# Write-in your solution"
      ]
    },
    {
      "cell_type": "markdown",
      "metadata": {
        "id": "GM3ZdAC9g5Dk"
      },
      "source": [
        "**WRITE YOUR ANSWERS HERE**"
      ]
    },
    {
      "cell_type": "markdown",
      "metadata": {
        "id": "HLIV0eyRooQ8"
      },
      "source": [
        "# 7.3. Local\n",
        "\n",
        "If the image background is relatively uniform, then you can use a global threshold value as presented above. However, if there is large variation in the background intensity, adaptive thresholding (a.k.a. local or dynamic thresholding) may produce better results. Note that local is much slower than global thresholding.\n",
        "\n",
        "Here, we binarize an image using the [skimage.filters.threshold_local](https://scikit-image.org/docs/dev/api/skimage.filters.html#skimage.filters.threshold_local) function, which calculates thresholds in regions with a characteristic size block_size surrounding each pixel (i.e. local neighborhoods). Each threshold value is the weighted mean of the local neighborhood minus an offset value."
      ]
    },
    {
      "cell_type": "markdown",
      "metadata": {
        "id": "z-6ANLmqT_HU"
      },
      "source": [
        "## Example"
      ]
    },
    {
      "cell_type": "code",
      "execution_count": null,
      "metadata": {
        "id": "yyND0vV0vK0-"
      },
      "outputs": [],
      "source": [
        "image = cv2.imread('/content/drive/My Drive/Images/slika4.tiff', cv2.IMREAD_GRAYSCALE)\n",
        "\n",
        "plt.imshow(image, cmap='gray')\n",
        "\n",
        "global_thresh = threshold_otsu(image)\n",
        "binary_global = image > global_thresh\n",
        "\n",
        "block_size = 101\n",
        "local_thresh = threshold_local(image, block_size, offset=10)\n",
        "binary_local = image > local_thresh\n",
        "\n",
        "fig, axes = plt.subplots(ncols=2, figsize=(12, 8))\n",
        "ax = axes.ravel()\n",
        "\n",
        "ax[0].imshow(binary_global, cmap='gray')\n",
        "ax[0].set_title('Global')\n",
        "\n",
        "ax[1].imshow(binary_local, cmap='gray')\n",
        "ax[1].set_title('Local')"
      ]
    },
    {
      "cell_type": "markdown",
      "metadata": {
        "id": "JsSUkphEPvRq"
      },
      "source": [
        "### **7.3.1 Problems**\n",
        "1. Try using local thresholding on the image 'moon.tif'. What do you notice?"
      ]
    },
    {
      "cell_type": "code",
      "execution_count": null,
      "metadata": {
        "id": "IU03ADAuQEWA"
      },
      "outputs": [],
      "source": [
        "# Write-in your solution"
      ]
    },
    {
      "cell_type": "markdown",
      "metadata": {
        "id": "bAfS0m0NQEoK"
      },
      "source": [
        "**WRITE YOUR ANSWERS HERE**"
      ]
    },
    {
      "cell_type": "markdown",
      "metadata": {
        "id": "XD0_P_qptFkj"
      },
      "source": [
        "# 7.4 Extraction of edges\n",
        "We want to get a binary image (same dimensions as the input image) that contains only the detected edges from the input image. First step is edge detection, for which we can use first or second order derivative estimators.\n",
        "Methods based on the first order derivative calculate the derivative estimation for each pixel. Amplitude segmentation is then applied to this image.\n",
        "Methods based on the second order derivative detect zero-crossing of the intensity values. In this case, the threshold corresponds to the steepness of the edge."
      ]
    },
    {
      "cell_type": "markdown",
      "metadata": {
        "id": "-gtPkqpb0i-I"
      },
      "source": [
        "## Example:"
      ]
    },
    {
      "cell_type": "code",
      "execution_count": null,
      "metadata": {
        "id": "1bU44qCfn0g3"
      },
      "outputs": [],
      "source": [
        "saturn = cv2.imread('/content/drive/My Drive/Images/saturn.tif', cv2.IMREAD_GRAYSCALE)# read the grayscale image\n",
        "\n",
        "grad = sobel(saturn)                                                            # apply the Sobel operator\n",
        "\n",
        "print(np.max(grad), np.min(grad))\n",
        "grad = grad * 255 / np.max(grad)                                                # normalize\n",
        "print(np.max(grad), np.min(grad))\n",
        "\n",
        "hist, bin_edges = np.histogram(grad.flatten(), bins = 256, range = (0, 256))\n",
        "plt.figure()\n",
        "plt.title(\"First order histogram\")\n",
        "plt.xlim((0, 256))\n",
        "plt.ylim((0, 1500))\n",
        "plt.stem(bin_edges[:-1], hist)\n",
        "plt.show()\n",
        "\n",
        "thresh = threshold_otsu(grad)\n",
        "print(thresh)\n",
        "grad = grad > thresh                                                            # segment to make a binary image\n",
        "\n",
        "plt.figure(figsize=(8,8))\n",
        "plt.imshow(grad, cmap='gray')                                                   # visualizing the edges"
      ]
    },
    {
      "cell_type": "markdown",
      "metadata": {
        "id": "RBqxOlfb3iXA"
      },
      "source": [
        "### **7.4.1 Problems**\n",
        "1. Read the image 4.2.07.tiff from the USC-SIPI database. Extract the edges using sobel operator and different thresholding methods. Which method gives the best edge detection?\n"
      ]
    },
    {
      "cell_type": "code",
      "execution_count": null,
      "metadata": {
        "id": "3GtwR5HUDT9E"
      },
      "outputs": [],
      "source": [
        "# Write-in your solution"
      ]
    },
    {
      "cell_type": "markdown",
      "metadata": {
        "id": "YVC-w7hb9iIa"
      },
      "source": [
        "**WRITE YOUR ANSWER HERE**"
      ]
    },
    {
      "cell_type": "markdown",
      "metadata": {
        "id": "JyyJt5sTDTeU"
      },
      "source": [
        "2. Extract the edges of the image 4.2.07.tiff, using the **a) Sobel, b) DoG - [skimage.filters.difference_of_gaussians](https://scikit-image.org/docs/dev/api/skimage.filters.html#skimage.filters.difference_of_gaussians), and c) Canny operator - [skimage.feature.canny](https://scikit-image.org/docs/dev/api/skimage.feature.html#skimage.feature.canny), with the thresholding method selected in the previous task. Which operator works the best?"
      ]
    },
    {
      "cell_type": "code",
      "execution_count": null,
      "metadata": {
        "id": "LLufsGfJ3ixk"
      },
      "outputs": [],
      "source": [
        "# Write-in your solution"
      ]
    },
    {
      "cell_type": "markdown",
      "metadata": {
        "id": "vqCF5D7t9gph"
      },
      "source": [
        "**WRITE YOUR ANSWER HERE**"
      ]
    },
    {
      "cell_type": "markdown",
      "metadata": {
        "id": "yvRPaWt9D-mW"
      },
      "source": [
        "3. Add the noise to the original image and repeat the edge detection with\n",
        "the 3 operators. How does the noise affect the edge detection for these cases?"
      ]
    },
    {
      "cell_type": "code",
      "execution_count": null,
      "metadata": {
        "id": "tmBx-eZjEK5l"
      },
      "outputs": [],
      "source": [
        "# Write-in your solution"
      ]
    },
    {
      "cell_type": "markdown",
      "metadata": {
        "id": "A5Q8xQHg3idz"
      },
      "source": [
        "**WRITE YOUR ANSWER HERE**"
      ]
    },
    {
      "cell_type": "markdown",
      "metadata": {
        "id": "WKpGNxZN3ihk"
      },
      "source": [
        "# 7.5 Texture segmentation\n",
        "We will segment the textures based on selected features. First, for each pixel in the image, we will calculate the selected feature on the defined neighboorhod of the pixel. Texture features are calculated from 2nd order histograms. The image containing the feature values is the image we will segment.\n",
        "\n",
        "The 2nd order histogram can be calculated using [skimage.feature.graycomatrix](https://scikit-image.org/docs/stable/api/skimage.feature.html#skimage.feature.graycomatrix). Its features can be calculated using [skimage.feature.graycoprops](https://scikit-image.org/docs/stable/api/skimage.feature.html#skimage.feature.graycoprops)."
      ]
    },
    {
      "cell_type": "markdown",
      "metadata": {
        "id": "lQwRu4Vw4Qw0"
      },
      "source": [
        "# Example"
      ]
    },
    {
      "cell_type": "code",
      "execution_count": null,
      "metadata": {
        "id": "2KVNCz1v4Tmu"
      },
      "outputs": [],
      "source": [
        "img = cv2.imread('/content/drive/My Drive/Images/saturn.tif', cv2.IMREAD_GRAYSCALE)\n",
        "\n",
        "patch_size=17\n",
        "v_shifts = img.shape[0] // patch_size\n",
        "h_shifts = img.shape[1] // patch_size\n",
        "feat_img = np.empty(shape=(v_shifts, h_shifts), dtype=float)                    #empty result matrix, will be filled in the 'for' loops\n",
        "\n",
        "for i in range(v_shifts):\n",
        "    for j in range(h_shifts):\n",
        "        patch = img[i*patch_size:i*patch_size + patch_size, j*patch_size:j*patch_size + patch_size]\n",
        "\n",
        "        hist_2nd = graycomatrix(patch, distances=[5], angles=[0], levels=256,\n",
        "                                symmetric=True, normed=True)                    # horizontal offset of 5, defined by distance and angle\n",
        "\n",
        "        #print(patch.shape, hist_2nd.shape, \"- the dimensions are: levels x levels x number of distances x number of angles.\")\n",
        "\n",
        "        dissi = graycoprops(hist_2nd, 'dissimilarity')[0,0]\n",
        "        feat_img[i,j] = dissi                                                   # filling the result matrix\n",
        "\n",
        "plt.imshow(feat_img, cmap='gray')\n",
        "plt.show()\n",
        "\n",
        "feat_img_segm1 = feat_img > threshold_niblack(feat_img)                         # segmentation\n",
        "plt.imshow(feat_img_segm1, cmap='gray')\n",
        "plt.show()\n",
        "feat_img_segm2 = feat_img > 3\n",
        "plt.imshow(feat_img_segm2, cmap='gray')\n"
      ]
    },
    {
      "cell_type": "markdown",
      "metadata": {
        "id": "4t-ZDdH9FuCZ"
      },
      "source": [
        "### **7.5.1 Problems**"
      ]
    },
    {
      "cell_type": "markdown",
      "metadata": {
        "id": "AkFUSioAFuGK"
      },
      "source": [
        "1. Read the image texture.png. Display the image. How many textures are there in the image? Describe them.\n"
      ]
    },
    {
      "cell_type": "code",
      "execution_count": null,
      "metadata": {
        "id": "HrvezfqKFuxR"
      },
      "outputs": [],
      "source": [
        "# Write-in your solution"
      ]
    },
    {
      "cell_type": "markdown",
      "metadata": {
        "id": "lyi_ksRQMwLe"
      },
      "source": [
        "**WRITE YOUR ANSWERS HERE**"
      ]
    },
    {
      "cell_type": "markdown",
      "metadata": {
        "id": "OHmqkB3wFuNK"
      },
      "source": [
        "2. Select several features and calculate them on the blocks (patches) of size 12 × 12. Display the calculated features and estimate which ones can be used to segment given structure. For the selected images (features) choose a good thresholding method and comment on the results."
      ]
    },
    {
      "cell_type": "code",
      "execution_count": null,
      "metadata": {
        "id": "oDHiu-5OFu0G"
      },
      "outputs": [],
      "source": [
        "# Write-in your solution"
      ]
    },
    {
      "cell_type": "markdown",
      "metadata": {
        "id": "93AyWg_mIcD3"
      },
      "source": [
        "**WRITE YOUR ANSWERS HERE**"
      ]
    },
    {
      "cell_type": "markdown",
      "metadata": {
        "id": "40sA0ovUr959"
      },
      "source": [
        "# 8.1 Image registration\n",
        "Image registration is a process consisting of an image transformation, a similarity measure (for evaluation\n",
        "of the quality of the registration) and of an optimization function (for maximizing the similarity measure).\n",
        "\n",
        "The combination of those three elements into a registration process is given with a Fig. 8.1.\n",
        "\n",
        "The basic idea is this: We are registering the input image $I_S$ to the reference image $I_R$, by iteratively applying (and adapting)\n",
        "the necessary transform $T$ to the image $I_S$.\n",
        "Similarity measure is some measure of energy or error, and is denoted as E in this figure. Optimization\n",
        "algorithm is illustrated with the feedback."
      ]
    },
    {
      "cell_type": "markdown",
      "metadata": {
        "id": "WNmYnJ8DtNeF"
      },
      "source": [
        "![image.png](data:image/png;base64,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)"
      ]
    },
    {
      "cell_type": "markdown",
      "metadata": {
        "id": "hl9NYifjtLyf"
      },
      "source": [
        "## <center>Figure 8.1: Image acquisition system. </center>"
      ]
    },
    {
      "cell_type": "markdown",
      "metadata": {
        "id": "-DHNMRDxtSNz"
      },
      "source": [
        "Geometrical transform is performed on the pixels’ coordinates, and not on their intensities, therefore we can\n",
        "write: $$ I_T(x) = I_S(T(x)) $$\n",
        "where x denotes the coordinates (x, y) (for the 2D images).\n",
        "\n",
        "For the sake of simplicity, we won’t be performing the optimization, but we will solve the problem by examining the complete image space with the similarity measure, and detecting its maximum.\n",
        "\n",
        "$$ r = \\frac{\\sum_{m=1}^{M}{\\sum_{n=1}^{N}{(X_{mn}-\\bar{X})(Y_{mn}-\\bar{Y})}}}\n",
        "{\\sqrt{\\sum_{m=1}^{M}{\\sum_{n=1}^{N}{(X_{mn}-\\bar{X})^2}}}\n",
        " \\sqrt{\\sum_{m=1}^{M}{\\sum_{n=1}^{N}{(Y_{mn}-\\bar{Y})^2}}}} $$\n",
        "\n",
        "We are going to use cross-correlation $r$ as a similarity measure: where\n",
        "$M$ and $N$ denote the dimensions of the overlapping area of images $X$ and $Y$, and $\\bar{X}$ and $\\bar{Y}$ denote mean values of $X$ and $Y$ calculated as:\n",
        "\n",
        "$$ \\bar{X} = \\frac{1}{MN}\\sum_{m=1}^{M}{\\sum_{n=1}^{N}{X_{mn}}} $$\n",
        "\n",
        "$$ \\bar{Y} = \\frac{1}{MN}\\sum_{m=1}^{M}{\\sum_{n=1}^{N}{Y_{mn}}} $$"
      ]
    },
    {
      "cell_type": "markdown",
      "metadata": {
        "id": "8qVoj1gmtr7j"
      },
      "source": [
        "In this exercise we will use registration to:\n",
        "\n",
        "- find an object in an image\n",
        "- track the object in a series of images\n",
        "- determine the object’s orientation."
      ]
    },
    {
      "cell_type": "markdown",
      "metadata": {
        "id": "iGHpHkvhtuXt"
      },
      "source": [
        "### **8.1.1 Problems**"
      ]
    },
    {
      "cell_type": "markdown",
      "metadata": {
        "id": "fNjxVkksyMRw"
      },
      "source": [
        "1. Calculate the cross-correlation matrix $R$ for the images auto1.tiff and slika1.tiff. *Hint: Use the function [skimage.feature.match_template()](https://scikit-image.org/docs/dev/api/skimage.feature.html#skimage.feature.match_template)*"
      ]
    },
    {
      "cell_type": "code",
      "execution_count": null,
      "metadata": {
        "id": "9tY6i7rF1qb-"
      },
      "outputs": [],
      "source": [
        "# Write-in your solution"
      ]
    },
    {
      "cell_type": "markdown",
      "metadata": {
        "id": "dsiY7GV9yNuh"
      },
      "source": [
        "2. What are the coordinates $(m_i, m_j)$ of the maximum value of the cross-correlation matrix $R$?"
      ]
    },
    {
      "cell_type": "code",
      "source": [
        "# Write-in your solution"
      ],
      "metadata": {
        "id": "uv8FynU28SUj"
      },
      "execution_count": null,
      "outputs": []
    },
    {
      "cell_type": "markdown",
      "metadata": {
        "id": "nPAsV8EC1qAq"
      },
      "source": [
        "**WRITE YOUR ANSWERS HERE**"
      ]
    },
    {
      "cell_type": "markdown",
      "metadata": {
        "id": "QKG7_xHbyPMa"
      },
      "source": [
        "3. Display the image slika1.tiff and plot the rectangle with the dimensions of the image auto1.tiff on the location of the maximum $(m_i, m_j)$."
      ]
    },
    {
      "cell_type": "code",
      "execution_count": null,
      "metadata": {
        "id": "zmZ3KKRm1pda"
      },
      "outputs": [],
      "source": [
        "# Write-in your solution"
      ]
    },
    {
      "cell_type": "markdown",
      "metadata": {
        "id": "HktaKzxxyQms"
      },
      "source": [
        "4. Calculate the cross-correlation matrix $R$ for the images auto1.tiff and\n",
        "\n",
        "- slika2.tiff\n",
        "\n",
        "- slika3.tiff\n",
        "\n",
        "- slika4.tiff\n",
        "\n",
        "Display the detections and interpret the results."
      ]
    },
    {
      "cell_type": "code",
      "execution_count": null,
      "metadata": {
        "id": "NzB5pKj31nES"
      },
      "outputs": [],
      "source": [
        "# Write-in your solution"
      ]
    },
    {
      "cell_type": "markdown",
      "metadata": {
        "id": "kmF1L8FX1neZ"
      },
      "source": [
        "**WRITE YOUR ANSWERS HERE**"
      ]
    },
    {
      "cell_type": "markdown",
      "metadata": {
        "id": "dbGI0H2tySbx"
      },
      "source": [
        "5. Write a function that calculates the cross-correlation of two images where one of the images is only rotated\n",
        "for a single angle $\\alpha$. The inputs should be $S_1$,\n",
        "$S_2$, and $\\alpha$; the output should be the cross-correlation value for the given angle."
      ]
    },
    {
      "cell_type": "code",
      "execution_count": null,
      "metadata": {
        "id": "L7RDGq-t1lhI"
      },
      "outputs": [],
      "source": [
        "# Write-in your solution"
      ]
    },
    {
      "cell_type": "markdown",
      "metadata": {
        "id": "8wuoiAQ5yUaA"
      },
      "source": [
        "6. Calculate the cross-correlation values for the images auto1.tiff and auto2.tiff for all of the angles in the\n",
        "$\\alpha = range(0, 360, 1)$. Plot the curve that shows the cross-correlation values for all of these angles. Which\n",
        "$\\alpha$ corresponds to the maximal cross-correlation? Why?"
      ]
    },
    {
      "cell_type": "code",
      "execution_count": null,
      "metadata": {
        "id": "vIZ1vC8B1mFw"
      },
      "outputs": [],
      "source": [
        "# Write-in your solution"
      ]
    },
    {
      "cell_type": "markdown",
      "metadata": {
        "id": "Wo2Ut0EQ1mNr"
      },
      "source": [
        "**WRITE YOUR ANSWERS HERE**"
      ]
    },
    {
      "cell_type": "markdown",
      "metadata": {
        "id": "6ThQrROvkR8h"
      },
      "source": [
        "## 8.2 Optical flow\n",
        "\n",
        "Optical flow is an independent estimate of motion at each pixel. This can be expressed with the following formula:\n",
        "\n",
        "$$ OF(\\{u_i\\}) = \\sum_i{[I_1(x_i + u_i) - I_0(x_i)]^2}$$\n",
        "\n",
        "for some motion $\\{u_i\\}$ consisting of motion vectors $u_i$ defined for each pixel."
      ]
    },
    {
      "cell_type": "markdown",
      "metadata": {
        "id": "XpEfcVSKxD6J"
      },
      "source": [
        "As one can see, the number of variables is larger than the number of measurements and therefore the problem in question is underconstrained."
      ]
    },
    {
      "cell_type": "markdown",
      "metadata": {
        "id": "GWrPbRoRyYZk"
      },
      "source": [
        "### **8.2.1 Problems**"
      ]
    },
    {
      "cell_type": "markdown",
      "metadata": {
        "id": "_7SvUtDLyf8t"
      },
      "source": [
        "1. Write a function that calculates the optical flow between a grayscale image $S$ and the same image $S$ shifted by vector $D = (dx, dy)$ (Pad and crop the image as necessary). *Hint: Use the function [skimage.registration.optical_flow_tvl1()](https://scikit-image.org/docs/dev/api/skimage.registration.html?highlight=skimage%20registration#skimage.registration.optical_flow_tvl1)*"
      ]
    },
    {
      "cell_type": "code",
      "execution_count": null,
      "metadata": {
        "id": "X_Zv8jEly6gT"
      },
      "outputs": [],
      "source": [
        "# Write-in your solution"
      ]
    },
    {
      "cell_type": "markdown",
      "metadata": {
        "id": "CRAbaIaYzX98"
      },
      "source": [
        "2. Use the function above to visualize the optical flow of auto1.tiff. Use the following shifts: (5, 0), (10, 0), (20, 0). Display the results and comment on them."
      ]
    },
    {
      "cell_type": "code",
      "execution_count": null,
      "metadata": {
        "id": "PiVVneWBzXu0"
      },
      "outputs": [],
      "source": [
        "# Write-in your solution"
      ]
    },
    {
      "cell_type": "markdown",
      "metadata": {
        "id": "qVvHRGXd2H5n"
      },
      "source": [
        "**WRITE YOUR ANSWERS HERE**"
      ]
    }
  ],
  "metadata": {
    "colab": {
      "provenance": []
    },
    "kernelspec": {
      "display_name": "Python 3",
      "name": "python3"
    },
    "language_info": {
      "name": "python"
    }
  },
  "nbformat": 4,
  "nbformat_minor": 0
}